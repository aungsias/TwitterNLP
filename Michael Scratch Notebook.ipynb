{
 "cells": [
  {
   "cell_type": "markdown",
   "metadata": {},
   "source": [
    "## Contents\n",
    "\n",
    "1. [Preprocessing Tweets](#preprocessing-tweets)"
   ]
  },
  {
   "cell_type": "code",
   "execution_count": 191,
   "metadata": {},
   "outputs": [
    {
     "name": "stderr",
     "output_type": "stream",
     "text": [
      "[nltk_data] Downloading package wordnet to\n",
      "[nltk_data]     /Users/michaelromanski/nltk_data...\n",
      "[nltk_data]   Package wordnet is already up-to-date!\n",
      "[nltk_data] Downloading package stopwords to\n",
      "[nltk_data]     /Users/michaelromanski/nltk_data...\n",
      "[nltk_data]   Package stopwords is already up-to-date!\n",
      "[nltk_data] Downloading package punkt to\n",
      "[nltk_data]     /Users/michaelromanski/nltk_data...\n",
      "[nltk_data]   Package punkt is already up-to-date!\n"
     ]
    }
   ],
   "source": [
    "import pandas as pd\n",
    "import numpy as np\n",
    "import nltk\n",
    "from sklearn.pipeline import Pipeline\n",
    "from sklearn.feature_extraction.text import TfidfVectorizer\n",
    "from sklearn.ensemble import RandomForestClassifier\n",
    "from sklearn.model_selection import train_test_split, GridSearchCV, cross_val_score\n",
    "from sklearn.naive_bayes import MultinomialNB\n",
    "from sklearn.metrics import accuracy_score, classification_report, confusion_matrix, ConfusionMatrixDisplay, silhouette_score\n",
    "from sklearn.linear_model import LogisticRegression\n",
    "from sklearn.naive_bayes import GaussianNB\n",
    "import matplotlib.pyplot as plt\n",
    "import seaborn as sns\n",
    "from nltk.tag import pos_tag\n",
    "from nltk.corpus import wordnet\n",
    "nltk.download(\"wordnet\")\n",
    "nltk.download(\"stopwords\")\n",
    "nltk.download('punkt');"
   ]
  },
  {
   "cell_type": "markdown",
   "metadata": {},
   "source": [
    "## Preprocessing Tweets"
   ]
  },
  {
   "cell_type": "code",
   "execution_count": 192,
   "metadata": {},
   "outputs": [
    {
     "data": {
      "text/html": [
       "<div>\n",
       "<style scoped>\n",
       "    .dataframe tbody tr th:only-of-type {\n",
       "        vertical-align: middle;\n",
       "    }\n",
       "\n",
       "    .dataframe tbody tr th {\n",
       "        vertical-align: top;\n",
       "    }\n",
       "\n",
       "    .dataframe thead th {\n",
       "        text-align: right;\n",
       "    }\n",
       "</style>\n",
       "<table border=\"1\" class=\"dataframe\">\n",
       "  <thead>\n",
       "    <tr style=\"text-align: right;\">\n",
       "      <th></th>\n",
       "      <th>unprocessed_tweet</th>\n",
       "      <th>product</th>\n",
       "      <th>emotion</th>\n",
       "    </tr>\n",
       "  </thead>\n",
       "  <tbody>\n",
       "    <tr>\n",
       "      <th>0</th>\n",
       "      <td>.@wesley83 I have a 3G iPhone. After 3 hrs twe...</td>\n",
       "      <td>iPhone</td>\n",
       "      <td>Negative emotion</td>\n",
       "    </tr>\n",
       "    <tr>\n",
       "      <th>1</th>\n",
       "      <td>@jessedee Know about @fludapp ? Awesome iPad/i...</td>\n",
       "      <td>iPad or iPhone App</td>\n",
       "      <td>Positive emotion</td>\n",
       "    </tr>\n",
       "    <tr>\n",
       "      <th>2</th>\n",
       "      <td>@swonderlin Can not wait for #iPad 2 also. The...</td>\n",
       "      <td>iPad</td>\n",
       "      <td>Positive emotion</td>\n",
       "    </tr>\n",
       "  </tbody>\n",
       "</table>\n",
       "</div>"
      ],
      "text/plain": [
       "                                   unprocessed_tweet             product  \\\n",
       "0  .@wesley83 I have a 3G iPhone. After 3 hrs twe...              iPhone   \n",
       "1  @jessedee Know about @fludapp ? Awesome iPad/i...  iPad or iPhone App   \n",
       "2  @swonderlin Can not wait for #iPad 2 also. The...                iPad   \n",
       "\n",
       "            emotion  \n",
       "0  Negative emotion  \n",
       "1  Positive emotion  \n",
       "2  Positive emotion  "
      ]
     },
     "execution_count": 192,
     "metadata": {},
     "output_type": "execute_result"
    }
   ],
   "source": [
    "df = pd.read_csv(\"data/tweets.csv\", encoding='ISO-8859-1')\n",
    "\n",
    "df.columns = [\"unprocessed_tweet\", \"product\", \"emotion\"]\n",
    "\n",
    "df.head(3)"
   ]
  },
  {
   "cell_type": "code",
   "execution_count": 193,
   "metadata": {},
   "outputs": [
    {
     "data": {
      "text/plain": [
       "0       .@wesley83 I have a 3G iPhone. After 3 hrs twe...\n",
       "1       @jessedee Know about @fludapp ? Awesome iPad/i...\n",
       "2       @swonderlin Can not wait for #iPad 2 also. The...\n",
       "3       @sxsw I hope this year's festival isn't as cra...\n",
       "4       @sxtxstate great stuff on Fri #SXSW: Marissa M...\n",
       "                              ...                        \n",
       "9088                        Ipad everywhere. #SXSW {link}\n",
       "9089    Wave, buzz... RT @mention We interrupt your re...\n",
       "9090    Google's Zeiger, a physician never reported po...\n",
       "9091    Some Verizon iPhone customers complained their...\n",
       "9092    Ï¡Ïàü_ÊÎÒ£Áââ_£â_ÛâRT @...\n",
       "Name: unprocessed_tweet, Length: 9093, dtype: object"
      ]
     },
     "execution_count": 193,
     "metadata": {},
     "output_type": "execute_result"
    }
   ],
   "source": [
    "text = df[\"unprocessed_tweet\"]\n",
    "text"
   ]
  },
  {
   "cell_type": "code",
   "execution_count": 40,
   "metadata": {},
   "outputs": [],
   "source": [
    "from nltk.corpus import stopwords\n",
    "\n",
    "stop_words = stopwords.words(\"english\")\n",
    "stop_words = [i.replace(\"'\", '') for i in stop_words]\n",
    "\n",
    "stop_words[-5:]\n",
    "top_words = ['sxsw', 'mention', 'link', 'rt']\n",
    "stop_words = stop_words + top_words"
   ]
  },
  {
   "cell_type": "code",
   "execution_count": 41,
   "metadata": {},
   "outputs": [
    {
     "data": {
      "text/plain": [
       "0       wesley i have a g iphone after  hrs tweeting a...\n",
       "1       jessedee know about fludapp  awesome ipadiphon...\n",
       "2       swonderlin can not wait for ipad  also they sh...\n",
       "3       sxsw i hope this years festival isnt as crashy...\n",
       "4       sxtxstate great stuff on fri sxsw marissa maye...\n",
       "                              ...                        \n",
       "9088                            ipad everywhere sxsw link\n",
       "9089    wave buzz rt mention we interrupt your regular...\n",
       "9090    googles zeiger a physician never reported pote...\n",
       "9091    some verizon iphone customers complained their...\n",
       "9092    rt mention google tests checkin offers at sxsw...\n",
       "Name: unprocessed_tweet, Length: 9093, dtype: object"
      ]
     },
     "execution_count": 41,
     "metadata": {},
     "output_type": "execute_result"
    }
   ],
   "source": [
    "ex = \"[^a-zA-Z\\s]\"\n",
    "\n",
    "text = text.str.replace(ex, \"\", regex=True)\n",
    "text = text.str.lower()\n",
    "text"
   ]
  },
  {
   "cell_type": "code",
   "execution_count": 42,
   "metadata": {},
   "outputs": [
    {
     "data": {
      "text/plain": [
       "0       [wesley, i, have, a, g, iphone, after, hrs, tw...\n",
       "1       [jessedee, know, about, fludapp, awesome, ipad...\n",
       "2       [swonderlin, can, not, wait, for, ipad, also, ...\n",
       "3       [sxsw, i, hope, this, years, festival, isnt, a...\n",
       "4       [sxtxstate, great, stuff, on, fri, sxsw, maris...\n",
       "                              ...                        \n",
       "9088                       [ipad, everywhere, sxsw, link]\n",
       "9089    [wave, buzz, rt, mention, we, interrupt, your,...\n",
       "9090    [googles, zeiger, a, physician, never, reporte...\n",
       "9091    [some, verizon, iphone, customers, complained,...\n",
       "9092    [rt, mention, google, tests, checkin, offers, ...\n",
       "Name: unprocessed_tweet, Length: 9093, dtype: object"
      ]
     },
     "execution_count": 42,
     "metadata": {},
     "output_type": "execute_result"
    }
   ],
   "source": [
    "from nltk.tokenize import word_tokenize\n",
    "\n",
    "tokenized_text = text.apply(lambda t: word_tokenize(str(t)))\n",
    "tokenized_text"
   ]
  },
  {
   "cell_type": "code",
   "execution_count": 43,
   "metadata": {},
   "outputs": [
    {
     "data": {
      "text/plain": [
       "0       [wesley, iphone, hrs, tweeting, riseaustin, de...\n",
       "1       [jessedee, know, fludapp, awesome, ipadiphone,...\n",
       "2                    [swonderlin, wait, ipad, also, sale]\n",
       "3       [hope, years, festival, crashy, years, iphone,...\n",
       "4       [sxtxstate, great, stuff, fri, marissa, mayer,...\n",
       "                              ...                        \n",
       "9088                                   [ipad, everywhere]\n",
       "9089    [wave, buzz, interrupt, regularly, scheduled, ...\n",
       "9090    [googles, zeiger, physician, never, reported, ...\n",
       "9091    [verizon, iphone, customers, complained, time,...\n",
       "9092                     [google, tests, checkin, offers]\n",
       "Name: unprocessed_tweet, Length: 9093, dtype: object"
      ]
     },
     "execution_count": 43,
     "metadata": {},
     "output_type": "execute_result"
    }
   ],
   "source": [
    "filtered_text = tokenized_text.apply(lambda x: [word for word in x if word not in stop_words])\n",
    "filtered_text = filtered_text.apply(lambda x: [word for word in x if len(word) > 1])\n",
    "filtered_text"
   ]
  },
  {
   "cell_type": "code",
   "execution_count": 44,
   "metadata": {},
   "outputs": [
    {
     "data": {
      "text/plain": [
       "0       [(wesley, NN), (iphone, NN), (hrs, NN), (tweet...\n",
       "1       [(jessedee, NN), (know, VBP), (fludapp, VBZ), ...\n",
       "2       [(swonderlin, NN), (wait, NN), (ipad, NN), (al...\n",
       "3       [(hope, NN), (years, NNS), (festival, JJ), (cr...\n",
       "4       [(sxtxstate, NN), (great, JJ), (stuff, NN), (f...\n",
       "                              ...                        \n",
       "9088                       [(ipad, NN), (everywhere, RB)]\n",
       "9089    [(wave, NN), (buzz, NN), (interrupt, VBP), (re...\n",
       "9090    [(googles, NNS), (zeiger, RBR), (physician, JJ...\n",
       "9091    [(verizon, NN), (iphone, NN), (customers, NNS)...\n",
       "9092    [(google, NN), (tests, NNS), (checkin, VBP), (...\n",
       "Name: unprocessed_tweet, Length: 9093, dtype: object"
      ]
     },
     "execution_count": 44,
     "metadata": {},
     "output_type": "execute_result"
    }
   ],
   "source": [
    "tagged_text = filtered_text.apply(lambda x: pos_tag(x))\n",
    "tagged_text"
   ]
  },
  {
   "cell_type": "code",
   "execution_count": 45,
   "metadata": {},
   "outputs": [
    {
     "data": {
      "text/plain": [
       "0       wesley iphone hr tweet riseaustin dead need up...\n",
       "1       jessedee know fludapp awesome ipadiphone app l...\n",
       "2                          swonderlin wait ipad also sale\n",
       "3               hope year festival crashy year iphone app\n",
       "4       sxtxstate great stuff fri marissa mayer google...\n",
       "                              ...                        \n",
       "9088                                      ipad everywhere\n",
       "9089    wave buzz interrupt regularly schedule geek pr...\n",
       "9090    google zeiger physician never report potential...\n",
       "9091    verizon iphone customer complain time fell bac...\n",
       "9092                            google test checkin offer\n",
       "Name: unprocessed_tweet, Length: 9093, dtype: object"
      ]
     },
     "execution_count": 45,
     "metadata": {},
     "output_type": "execute_result"
    }
   ],
   "source": [
    "from nltk.stem import WordNetLemmatizer\n",
    "\n",
    "lemmatizer = WordNetLemmatizer()\n",
    "def get_wordnet_pos(treebank_tag):\n",
    "    if treebank_tag.startswith('J'):\n",
    "        return wordnet.ADJ\n",
    "    elif treebank_tag.startswith('V'):\n",
    "        return wordnet.VERB\n",
    "    elif treebank_tag.startswith('N'):\n",
    "        return wordnet.NOUN\n",
    "    elif treebank_tag.startswith('R'):\n",
    "        return wordnet.ADV\n",
    "    else:\n",
    "        return wordnet.NOUN\n",
    "\n",
    "lemmatized_text = tagged_text.apply(\n",
    "    lambda x: [lemmatizer.lemmatize(word, get_wordnet_pos(pos)) for word, pos in x]\n",
    ")\n",
    "\n",
    "lemmatized_str = lemmatized_text.apply(lambda x: ' '.join(x))\n",
    "\n",
    "lemmatized_str"
   ]
  },
  {
   "cell_type": "code",
   "execution_count": 46,
   "metadata": {},
   "outputs": [
    {
     "data": {
      "text/plain": [
       "0       [wesley, iphone, hr, tweet, riseaustin, dead, ...\n",
       "1       [jessedee, know, fludapp, awesome, ipadiphone,...\n",
       "2                    [swonderlin, wait, ipad, also, sale]\n",
       "3       [hope, year, festival, crashy, year, iphone, app]\n",
       "4       [sxtxstate, great, stuff, fri, marissa, mayer,...\n",
       "                              ...                        \n",
       "9088                                   [ipad, everywhere]\n",
       "9089    [wave, buzz, interrupt, regularly, schedule, g...\n",
       "9090    [google, zeiger, physician, never, report, pot...\n",
       "9091    [verizon, iphone, customer, complain, time, fe...\n",
       "9092                       [google, test, checkin, offer]\n",
       "Name: unprocessed_tweet, Length: 9093, dtype: object"
      ]
     },
     "execution_count": 46,
     "metadata": {},
     "output_type": "execute_result"
    }
   ],
   "source": [
    "lemmatized_text"
   ]
  },
  {
   "cell_type": "code",
   "execution_count": 47,
   "metadata": {},
   "outputs": [
    {
     "data": {
      "text/html": [
       "<div>\n",
       "<style scoped>\n",
       "    .dataframe tbody tr th:only-of-type {\n",
       "        vertical-align: middle;\n",
       "    }\n",
       "\n",
       "    .dataframe tbody tr th {\n",
       "        vertical-align: top;\n",
       "    }\n",
       "\n",
       "    .dataframe thead th {\n",
       "        text-align: right;\n",
       "    }\n",
       "</style>\n",
       "<table border=\"1\" class=\"dataframe\">\n",
       "  <thead>\n",
       "    <tr style=\"text-align: right;\">\n",
       "      <th></th>\n",
       "      <th>unprocessed_tweet</th>\n",
       "      <th>product</th>\n",
       "      <th>emotion</th>\n",
       "      <th>processed_tweet</th>\n",
       "    </tr>\n",
       "  </thead>\n",
       "  <tbody>\n",
       "    <tr>\n",
       "      <th>0</th>\n",
       "      <td>.@wesley83 I have a 3G iPhone. After 3 hrs twe...</td>\n",
       "      <td>iPhone</td>\n",
       "      <td>Negative emotion</td>\n",
       "      <td>wesley iphone hr tweet riseaustin dead need up...</td>\n",
       "    </tr>\n",
       "    <tr>\n",
       "      <th>1</th>\n",
       "      <td>@jessedee Know about @fludapp ? Awesome iPad/i...</td>\n",
       "      <td>iPad or iPhone App</td>\n",
       "      <td>Positive emotion</td>\n",
       "      <td>jessedee know fludapp awesome ipadiphone app l...</td>\n",
       "    </tr>\n",
       "    <tr>\n",
       "      <th>2</th>\n",
       "      <td>@swonderlin Can not wait for #iPad 2 also. The...</td>\n",
       "      <td>iPad</td>\n",
       "      <td>Positive emotion</td>\n",
       "      <td>swonderlin wait ipad also sale</td>\n",
       "    </tr>\n",
       "    <tr>\n",
       "      <th>3</th>\n",
       "      <td>@sxsw I hope this year's festival isn't as cra...</td>\n",
       "      <td>iPad or iPhone App</td>\n",
       "      <td>Negative emotion</td>\n",
       "      <td>hope year festival crashy year iphone app</td>\n",
       "    </tr>\n",
       "    <tr>\n",
       "      <th>4</th>\n",
       "      <td>@sxtxstate great stuff on Fri #SXSW: Marissa M...</td>\n",
       "      <td>Google</td>\n",
       "      <td>Positive emotion</td>\n",
       "      <td>sxtxstate great stuff fri marissa mayer google...</td>\n",
       "    </tr>\n",
       "  </tbody>\n",
       "</table>\n",
       "</div>"
      ],
      "text/plain": [
       "                                   unprocessed_tweet             product  \\\n",
       "0  .@wesley83 I have a 3G iPhone. After 3 hrs twe...              iPhone   \n",
       "1  @jessedee Know about @fludapp ? Awesome iPad/i...  iPad or iPhone App   \n",
       "2  @swonderlin Can not wait for #iPad 2 also. The...                iPad   \n",
       "3  @sxsw I hope this year's festival isn't as cra...  iPad or iPhone App   \n",
       "4  @sxtxstate great stuff on Fri #SXSW: Marissa M...              Google   \n",
       "\n",
       "            emotion                                    processed_tweet  \n",
       "0  Negative emotion  wesley iphone hr tweet riseaustin dead need up...  \n",
       "1  Positive emotion  jessedee know fludapp awesome ipadiphone app l...  \n",
       "2  Positive emotion                     swonderlin wait ipad also sale  \n",
       "3  Negative emotion          hope year festival crashy year iphone app  \n",
       "4  Positive emotion  sxtxstate great stuff fri marissa mayer google...  "
      ]
     },
     "execution_count": 47,
     "metadata": {},
     "output_type": "execute_result"
    }
   ],
   "source": [
    "df[\"processed_tweet\"] = lemmatized_str\n",
    "df.head()"
   ]
  },
  {
   "cell_type": "code",
   "execution_count": 48,
   "metadata": {},
   "outputs": [
    {
     "data": {
      "text/plain": [
       "No emotion toward brand or product    5389\n",
       "Positive emotion                      2978\n",
       "Negative emotion                       570\n",
       "I can't tell                           156\n",
       "Name: emotion, dtype: int64"
      ]
     },
     "execution_count": 48,
     "metadata": {},
     "output_type": "execute_result"
    }
   ],
   "source": [
    "df['emotion'].value_counts()"
   ]
  },
  {
   "cell_type": "code",
   "execution_count": 49,
   "metadata": {},
   "outputs": [],
   "source": [
    "df.to_csv(\"data/processed_tweets.csv\")"
   ]
  },
  {
   "cell_type": "code",
   "execution_count": 50,
   "metadata": {},
   "outputs": [],
   "source": [
    "df_binary = df.copy()\n",
    "df_binary = df_binary[df_binary[\"emotion\"].isin([\"Negative emotion\", \"Positive emotion\"])]\n",
    "\n",
    "df_binary[\"emotion_encoded\"] = df_binary[\"emotion\"].replace(\"Negative emotion\", 0).replace(\"Positive emotion\", 1)\n",
    "df_binary.to_csv(\"data/processed_tweets_binary.csv\")"
   ]
  },
  {
   "cell_type": "code",
   "execution_count": 51,
   "metadata": {
    "scrolled": false
   },
   "outputs": [
    {
     "data": {
      "text/html": [
       "<div>\n",
       "<style scoped>\n",
       "    .dataframe tbody tr th:only-of-type {\n",
       "        vertical-align: middle;\n",
       "    }\n",
       "\n",
       "    .dataframe tbody tr th {\n",
       "        vertical-align: top;\n",
       "    }\n",
       "\n",
       "    .dataframe thead th {\n",
       "        text-align: right;\n",
       "    }\n",
       "</style>\n",
       "<table border=\"1\" class=\"dataframe\">\n",
       "  <thead>\n",
       "    <tr style=\"text-align: right;\">\n",
       "      <th></th>\n",
       "      <th>unprocessed_tweet</th>\n",
       "      <th>product</th>\n",
       "      <th>emotion</th>\n",
       "      <th>processed_tweet</th>\n",
       "      <th>emotion_encoded</th>\n",
       "    </tr>\n",
       "  </thead>\n",
       "  <tbody>\n",
       "    <tr>\n",
       "      <th>0</th>\n",
       "      <td>.@wesley83 I have a 3G iPhone. After 3 hrs twe...</td>\n",
       "      <td>iPhone</td>\n",
       "      <td>Negative emotion</td>\n",
       "      <td>wesley iphone hr tweet riseaustin dead need up...</td>\n",
       "      <td>0</td>\n",
       "    </tr>\n",
       "    <tr>\n",
       "      <th>1</th>\n",
       "      <td>@jessedee Know about @fludapp ? Awesome iPad/i...</td>\n",
       "      <td>iPad or iPhone App</td>\n",
       "      <td>Positive emotion</td>\n",
       "      <td>jessedee know fludapp awesome ipadiphone app l...</td>\n",
       "      <td>1</td>\n",
       "    </tr>\n",
       "    <tr>\n",
       "      <th>2</th>\n",
       "      <td>@swonderlin Can not wait for #iPad 2 also. The...</td>\n",
       "      <td>iPad</td>\n",
       "      <td>Positive emotion</td>\n",
       "      <td>swonderlin wait ipad also sale</td>\n",
       "      <td>1</td>\n",
       "    </tr>\n",
       "    <tr>\n",
       "      <th>3</th>\n",
       "      <td>@sxsw I hope this year's festival isn't as cra...</td>\n",
       "      <td>iPad or iPhone App</td>\n",
       "      <td>Negative emotion</td>\n",
       "      <td>hope year festival crashy year iphone app</td>\n",
       "      <td>0</td>\n",
       "    </tr>\n",
       "    <tr>\n",
       "      <th>4</th>\n",
       "      <td>@sxtxstate great stuff on Fri #SXSW: Marissa M...</td>\n",
       "      <td>Google</td>\n",
       "      <td>Positive emotion</td>\n",
       "      <td>sxtxstate great stuff fri marissa mayer google...</td>\n",
       "      <td>1</td>\n",
       "    </tr>\n",
       "    <tr>\n",
       "      <th>...</th>\n",
       "      <td>...</td>\n",
       "      <td>...</td>\n",
       "      <td>...</td>\n",
       "      <td>...</td>\n",
       "      <td>...</td>\n",
       "    </tr>\n",
       "    <tr>\n",
       "      <th>9077</th>\n",
       "      <td>@mention your PR guy just convinced me to swit...</td>\n",
       "      <td>iPhone</td>\n",
       "      <td>Positive emotion</td>\n",
       "      <td>pr guy convince switch back iphone great cover...</td>\n",
       "      <td>1</td>\n",
       "    </tr>\n",
       "    <tr>\n",
       "      <th>9079</th>\n",
       "      <td>&amp;quot;papyrus...sort of like the ipad&amp;quot; - ...</td>\n",
       "      <td>iPad</td>\n",
       "      <td>Positive emotion</td>\n",
       "      <td>quotpapyrussort like ipadquot nice lol lavelle</td>\n",
       "      <td>1</td>\n",
       "    </tr>\n",
       "    <tr>\n",
       "      <th>9080</th>\n",
       "      <td>Diller says Google TV &amp;quot;might be run over ...</td>\n",
       "      <td>Other Google product or service</td>\n",
       "      <td>Negative emotion</td>\n",
       "      <td>diller say google tv quotmight run playstation...</td>\n",
       "      <td>0</td>\n",
       "    </tr>\n",
       "    <tr>\n",
       "      <th>9085</th>\n",
       "      <td>I've always used Camera+ for my iPhone b/c it ...</td>\n",
       "      <td>iPad or iPhone App</td>\n",
       "      <td>Positive emotion</td>\n",
       "      <td>ive always use camera iphone bc image stabiliz...</td>\n",
       "      <td>1</td>\n",
       "    </tr>\n",
       "    <tr>\n",
       "      <th>9088</th>\n",
       "      <td>Ipad everywhere. #SXSW {link}</td>\n",
       "      <td>iPad</td>\n",
       "      <td>Positive emotion</td>\n",
       "      <td>ipad everywhere</td>\n",
       "      <td>1</td>\n",
       "    </tr>\n",
       "  </tbody>\n",
       "</table>\n",
       "<p>3548 rows × 5 columns</p>\n",
       "</div>"
      ],
      "text/plain": [
       "                                      unprocessed_tweet  \\\n",
       "0     .@wesley83 I have a 3G iPhone. After 3 hrs twe...   \n",
       "1     @jessedee Know about @fludapp ? Awesome iPad/i...   \n",
       "2     @swonderlin Can not wait for #iPad 2 also. The...   \n",
       "3     @sxsw I hope this year's festival isn't as cra...   \n",
       "4     @sxtxstate great stuff on Fri #SXSW: Marissa M...   \n",
       "...                                                 ...   \n",
       "9077  @mention your PR guy just convinced me to swit...   \n",
       "9079  &quot;papyrus...sort of like the ipad&quot; - ...   \n",
       "9080  Diller says Google TV &quot;might be run over ...   \n",
       "9085  I've always used Camera+ for my iPhone b/c it ...   \n",
       "9088                      Ipad everywhere. #SXSW {link}   \n",
       "\n",
       "                              product           emotion  \\\n",
       "0                              iPhone  Negative emotion   \n",
       "1                  iPad or iPhone App  Positive emotion   \n",
       "2                                iPad  Positive emotion   \n",
       "3                  iPad or iPhone App  Negative emotion   \n",
       "4                              Google  Positive emotion   \n",
       "...                               ...               ...   \n",
       "9077                           iPhone  Positive emotion   \n",
       "9079                             iPad  Positive emotion   \n",
       "9080  Other Google product or service  Negative emotion   \n",
       "9085               iPad or iPhone App  Positive emotion   \n",
       "9088                             iPad  Positive emotion   \n",
       "\n",
       "                                        processed_tweet  emotion_encoded  \n",
       "0     wesley iphone hr tweet riseaustin dead need up...                0  \n",
       "1     jessedee know fludapp awesome ipadiphone app l...                1  \n",
       "2                        swonderlin wait ipad also sale                1  \n",
       "3             hope year festival crashy year iphone app                0  \n",
       "4     sxtxstate great stuff fri marissa mayer google...                1  \n",
       "...                                                 ...              ...  \n",
       "9077  pr guy convince switch back iphone great cover...                1  \n",
       "9079     quotpapyrussort like ipadquot nice lol lavelle                1  \n",
       "9080  diller say google tv quotmight run playstation...                0  \n",
       "9085  ive always use camera iphone bc image stabiliz...                1  \n",
       "9088                                    ipad everywhere                1  \n",
       "\n",
       "[3548 rows x 5 columns]"
      ]
     },
     "execution_count": 51,
     "metadata": {},
     "output_type": "execute_result"
    }
   ],
   "source": [
    "df_binary"
   ]
  },
  {
   "cell_type": "code",
   "execution_count": 52,
   "metadata": {},
   "outputs": [
    {
     "data": {
      "text/plain": [
       "1    2978\n",
       "0     570\n",
       "Name: emotion_encoded, dtype: int64"
      ]
     },
     "execution_count": 52,
     "metadata": {},
     "output_type": "execute_result"
    }
   ],
   "source": [
    "df_binary['emotion_encoded'].value_counts()"
   ]
  },
  {
   "cell_type": "code",
   "execution_count": 53,
   "metadata": {},
   "outputs": [],
   "source": [
    "X = df_binary['processed_tweet']\n",
    "y = df_binary['emotion_encoded']\n",
    "\n",
    "X_train, X_test, y_train, y_test = train_test_split(X, y, test_size=.2, random_state=42)"
   ]
  },
  {
   "cell_type": "code",
   "execution_count": 54,
   "metadata": {},
   "outputs": [],
   "source": [
    "bin_forest_pipe = Pipeline([\n",
    "    ('tf', TfidfVectorizer(min_df=.01, max_df=.9, stop_words=stop_words)),\n",
    "    ('rf', RandomForestClassifier(random_state=42))\n",
    "])"
   ]
  },
  {
   "cell_type": "code",
   "execution_count": 55,
   "metadata": {},
   "outputs": [
    {
     "data": {
      "text/plain": [
       "0.8577464788732394"
      ]
     },
     "execution_count": 55,
     "metadata": {},
     "output_type": "execute_result"
    }
   ],
   "source": [
    "bin_forest_pipe.fit(X_train, y_train)\n",
    "\n",
    "y_pred_forest = bin_forest_pipe.predict(X_test)\n",
    "forest_test_acc = accuracy_score(y_test, y_pred_forest)\n",
    "forest_test_acc"
   ]
  },
  {
   "cell_type": "code",
   "execution_count": 56,
   "metadata": {},
   "outputs": [
    {
     "data": {
      "text/plain": [
       "<sklearn.metrics._plot.confusion_matrix.ConfusionMatrixDisplay at 0x7ffe91386970>"
      ]
     },
     "execution_count": 56,
     "metadata": {},
     "output_type": "execute_result"
    },
    {
     "data": {
      "image/png": "[encoded data removed]",
      "text/plain": [
       "<Figure size 432x288 with 2 Axes>"
      ]
     },
     "metadata": {
      "needs_background": "light"
     },
     "output_type": "display_data"
    }
   ],
   "source": [
    "cfm_forest = confusion_matrix(y_test, y_pred_forest)\n",
    "ConfusionMatrixDisplay(cfm_forest).plot()"
   ]
  },
  {
   "cell_type": "code",
   "execution_count": 57,
   "metadata": {},
   "outputs": [
    {
     "data": {
      "text/plain": [
       "685     1\n",
       "6393    1\n",
       "7851    0\n",
       "5813    0\n",
       "2944    1\n",
       "       ..\n",
       "2707    1\n",
       "2770    1\n",
       "6653    1\n",
       "2127    1\n",
       "5565    0\n",
       "Name: emotion_encoded, Length: 710, dtype: int64"
      ]
     },
     "execution_count": 57,
     "metadata": {},
     "output_type": "execute_result"
    }
   ],
   "source": [
    "y_test"
   ]
  },
  {
   "cell_type": "code",
   "execution_count": 58,
   "metadata": {},
   "outputs": [
    {
     "data": {
      "text/plain": [
       "array([0.85211268, 0.84859155, 0.8556338 , 0.86419753, 0.85361552])"
      ]
     },
     "execution_count": 58,
     "metadata": {},
     "output_type": "execute_result"
    }
   ],
   "source": [
    "forest_score = cross_val_score(bin_forest_pipe, X_train, y_train, cv=5)\n",
    "forest_score"
   ]
  },
  {
   "cell_type": "code",
   "execution_count": 59,
   "metadata": {},
   "outputs": [],
   "source": [
    "bin_forest_pipe_grid = Pipeline([\n",
    "    ('tf', TfidfVectorizer(stop_words=stop_words)),\n",
    "    ('rf', RandomForestClassifier(random_state=42))\n",
    "    \n",
    "])"
   ]
  },
  {
   "cell_type": "code",
   "execution_count": 60,
   "metadata": {},
   "outputs": [],
   "source": [
    "forest_param_grid = {\n",
    "    'tf__min_df': [.01, .02, .03],\n",
    "    'tf__max_df': [.88, .90, .92],\n",
    "    'tf__ngram_range': [(1,1), (1,2), (1,3)],\n",
    "    'rf__n_estimators': [86, 88, 90],\n",
    "    'rf__min_samples_split': [10, 20, 30],\n",
    "    'rf__class_weight': [None, 'balanced', 'balanced_subsample']\n",
    "    \n",
    "}"
   ]
  },
  {
   "cell_type": "code",
   "execution_count": 61,
   "metadata": {},
   "outputs": [],
   "source": [
    "forest_param_grid = {\n",
    "    'tf__min_df': [.01, .02, .03],\n",
    "    'tf__max_df': [.88, .90, .92],\n",
    "    'tf__ngram_range': [(1,1), (2,2), (3,3)],\n",
    "    'rf__n_estimators': [86, 88, 90],\n",
    "    'rf__min_samples_split': [10, 20, 30],\n",
    "    'rf__class_weight': [None, 'balanced', 'balanced_subsample']\n",
    "    \n",
    "}"
   ]
  },
  {
   "cell_type": "code",
   "execution_count": 62,
   "metadata": {},
   "outputs": [
    {
     "name": "stdout",
     "output_type": "stream",
     "text": [
      "Fitting 5 folds for each of 729 candidates, totalling 3645 fits\n"
     ]
    },
    {
     "name": "stderr",
     "output_type": "stream",
     "text": [
      "/Users/michaelromanski/anaconda3/envs/learn-env/lib/python3.8/site-packages/sklearn/model_selection/_validation.py:425: FitFailedWarning: \n",
      "405 fits failed out of a total of 3645.\n",
      "The score on these train-test partitions for these parameters will be set to nan.\n",
      "If these failures are not expected, you can try to debug them by setting error_score='raise'.\n",
      "\n",
      "Below are more details about the failures:\n",
      "--------------------------------------------------------------------------------\n",
      "405 fits failed with the following error:\n",
      "Traceback (most recent call last):\n",
      "  File \"/Users/michaelromanski/anaconda3/envs/learn-env/lib/python3.8/site-packages/sklearn/model_selection/_validation.py\", line 732, in _fit_and_score\n",
      "    estimator.fit(X_train, y_train, **fit_params)\n",
      "  File \"/Users/michaelromanski/anaconda3/envs/learn-env/lib/python3.8/site-packages/sklearn/base.py\", line 1151, in wrapper\n",
      "    return fit_method(estimator, *args, **kwargs)\n",
      "  File \"/Users/michaelromanski/anaconda3/envs/learn-env/lib/python3.8/site-packages/sklearn/pipeline.py\", line 416, in fit\n",
      "    Xt = self._fit(X, y, **fit_params_steps)\n",
      "  File \"/Users/michaelromanski/anaconda3/envs/learn-env/lib/python3.8/site-packages/sklearn/pipeline.py\", line 370, in _fit\n",
      "    X, fitted_transformer = fit_transform_one_cached(\n",
      "  File \"/Users/michaelromanski/anaconda3/envs/learn-env/lib/python3.8/site-packages/joblib/memory.py\", line 353, in __call__\n",
      "    return self.func(*args, **kwargs)\n",
      "  File \"/Users/michaelromanski/anaconda3/envs/learn-env/lib/python3.8/site-packages/sklearn/pipeline.py\", line 950, in _fit_transform_one\n",
      "    res = transformer.fit_transform(X, y, **fit_params)\n",
      "  File \"/Users/michaelromanski/anaconda3/envs/learn-env/lib/python3.8/site-packages/sklearn/feature_extraction/text.py\", line 2126, in fit_transform\n",
      "    X = super().fit_transform(raw_documents)\n",
      "  File \"/Users/michaelromanski/anaconda3/envs/learn-env/lib/python3.8/site-packages/sklearn/base.py\", line 1151, in wrapper\n",
      "    return fit_method(estimator, *args, **kwargs)\n",
      "  File \"/Users/michaelromanski/anaconda3/envs/learn-env/lib/python3.8/site-packages/sklearn/feature_extraction/text.py\", line 1396, in fit_transform\n",
      "    X, self.stop_words_ = self._limit_features(\n",
      "  File \"/Users/michaelromanski/anaconda3/envs/learn-env/lib/python3.8/site-packages/sklearn/feature_extraction/text.py\", line 1248, in _limit_features\n",
      "    raise ValueError(\n",
      "ValueError: After pruning, no terms remain. Try a lower min_df or a higher max_df.\n",
      "\n",
      "  warnings.warn(some_fits_failed_message, FitFailedWarning)\n",
      "/Users/michaelromanski/anaconda3/envs/learn-env/lib/python3.8/site-packages/sklearn/model_selection/_search.py:976: UserWarning: One or more of the test scores are non-finite: [0.85201331 0.83826726 0.83897024 0.84179211 0.83826664 0.83967571\n",
      " 0.83403756 0.83967571        nan 0.85201331 0.83826726 0.83897024\n",
      " 0.84179211 0.83826664 0.83967571 0.83403756 0.83967571        nan\n",
      " 0.85201331 0.83826726 0.83897024 0.84179211 0.83826664 0.83967571\n",
      " 0.83403756 0.83967571        nan 0.85095511 0.83861937 0.83897024\n",
      " 0.84249634 0.83826664 0.83967571 0.83333271 0.83967571        nan\n",
      " 0.85095511 0.83861937 0.83897024 0.84249634 0.83826664 0.83967571\n",
      " 0.83333271 0.83967571        nan 0.85095511 0.83861937 0.83897024\n",
      " 0.84249634 0.83826664 0.83967571 0.83333271 0.83967571        nan\n",
      " 0.85060238 0.83826726 0.83897024 0.84284907 0.83826664 0.83967571\n",
      " 0.83333271 0.83967571        nan 0.85060238 0.83826726 0.83897024\n",
      " 0.84284907 0.83826664 0.83967571 0.83333271 0.83967571        nan\n",
      " 0.85060238 0.83826726 0.83897024 0.84284907 0.83826664 0.83967571\n",
      " 0.83333271 0.83967571        nan 0.84919082 0.83826726 0.83897024\n",
      " 0.84214298 0.83826664 0.83967571 0.83509514 0.83967571        nan\n",
      " 0.84919082 0.83826726 0.83897024 0.84214298 0.83826664 0.83967571\n",
      " 0.83509514 0.83967571        nan 0.84919082 0.83826726 0.83897024\n",
      " 0.84214298 0.83826664 0.83967571 0.83509514 0.83967571        nan\n",
      " 0.84954294 0.83826726 0.83897024 0.84073329 0.83826664 0.83967571\n",
      " 0.83509514 0.83967571        nan 0.84954294 0.83826726 0.83897024\n",
      " 0.84073329 0.83826664 0.83967571 0.83509514 0.83967571        nan\n",
      " 0.84954294 0.83826726 0.83897024 0.84073329 0.83826664 0.83967571\n",
      " 0.83509514 0.83967571        nan 0.84989505 0.83826726 0.83897024\n",
      " 0.84143813 0.83826664 0.83967571 0.83509514 0.83967571        nan\n",
      " 0.84989505 0.83826726 0.83897024 0.84143813 0.83826664 0.83967571\n",
      " 0.83509514 0.83967571        nan 0.84989505 0.83826726 0.83897024\n",
      " 0.84143813 0.83826664 0.83967571 0.83509514 0.83967571        nan\n",
      " 0.84601933 0.83826726 0.83897024 0.84038118 0.83826664 0.83967571\n",
      " 0.83298122 0.83967571        nan 0.84601933 0.83826726 0.83897024\n",
      " 0.84038118 0.83826664 0.83967571 0.83298122 0.83967571        nan\n",
      " 0.84601933 0.83826726 0.83897024 0.84038118 0.83826664 0.83967571\n",
      " 0.83298122 0.83967571        nan 0.84672417 0.83826726 0.83967571\n",
      " 0.84038118 0.83826664 0.83967571 0.83298122 0.83967571        nan\n",
      " 0.84672417 0.83826726 0.83967571 0.84038118 0.83826664 0.83967571\n",
      " 0.83298122 0.83967571        nan 0.84672417 0.83826726 0.83967571\n",
      " 0.84038118 0.83826664 0.83967571 0.83298122 0.83967571        nan\n",
      " 0.84637268 0.83826726 0.83897024 0.83967633 0.83826664 0.83967571\n",
      " 0.83438967 0.83967571        nan 0.84637268 0.83826726 0.83897024\n",
      " 0.83967633 0.83826664 0.83967571 0.83438967 0.83967571        nan\n",
      " 0.84637268 0.83826726 0.83897024 0.83967633 0.83826664 0.83967571\n",
      " 0.83438967 0.83967571        nan 0.83016432 0.44010793 0.23925342\n",
      " 0.75932509 0.35236294 0.31104094 0.70823397 0.29774946        nan\n",
      " 0.83016432 0.44010793 0.23925342 0.75932509 0.35236294 0.31104094\n",
      " 0.70823397 0.29774946        nan 0.83016432 0.44010793 0.23925342\n",
      " 0.75932509 0.35236294 0.31104094 0.70823397 0.29774946        nan\n",
      " 0.83051581 0.44010793 0.23925342 0.75932447 0.35236294 0.31104094\n",
      " 0.70788248 0.29774946        nan 0.83051581 0.44010793 0.23925342\n",
      " 0.75932447 0.35236294 0.31104094 0.70788248 0.29774946        nan\n",
      " 0.83051581 0.44010793 0.23925342 0.75932447 0.35236294 0.31104094\n",
      " 0.70788248 0.29774946        nan 0.83368731 0.44010793 0.23925342\n",
      " 0.75932509 0.35236294 0.31104094 0.70964366 0.29774946        nan\n",
      " 0.83368731 0.44010793 0.23925342 0.75932509 0.35236294 0.31104094\n",
      " 0.70964366 0.29774946        nan 0.83368731 0.44010793 0.23925342\n",
      " 0.75932509 0.35236294 0.31104094 0.70964366 0.29774946        nan\n",
      " 0.82311772 0.44116613 0.23925342 0.754747   0.35306841 0.31104094\n",
      " 0.70823521 0.29774946        nan 0.82311772 0.44116613 0.23925342\n",
      " 0.754747   0.35306841 0.31104094 0.70823521 0.29774946        nan\n",
      " 0.82311772 0.44116613 0.23925342 0.754747   0.35306841 0.31104094\n",
      " 0.70823521 0.29774946        nan 0.82382194 0.44116613 0.23925342\n",
      " 0.7558052  0.35377388 0.31104094 0.70823521 0.29774946        nan\n",
      " 0.82382194 0.44116613 0.23925342 0.7558052  0.35377388 0.31104094\n",
      " 0.70823521 0.29774946        nan 0.82382194 0.44116613 0.23925342\n",
      " 0.7558052  0.35377388 0.31104094 0.70823521 0.29774946        nan\n",
      " 0.82311772 0.44327881 0.23925342 0.75721489 0.35306841 0.31104094\n",
      " 0.70823459 0.29774946        nan 0.82311772 0.44327881 0.23925342\n",
      " 0.75721489 0.35306841 0.31104094 0.70823459 0.29774946        nan\n",
      " 0.82311772 0.44327881 0.23925342 0.75721489 0.35306841 0.31104094\n",
      " 0.70823459 0.29774946        nan 0.82135902 0.44327881 0.23925342\n",
      " 0.75368818 0.35377388 0.31104094 0.70894379 0.29774946        nan\n",
      " 0.82135902 0.44327881 0.23925342 0.75368818 0.35377388 0.31104094\n",
      " 0.70894379 0.29774946        nan 0.82135902 0.44327881 0.23925342\n",
      " 0.75368818 0.35377388 0.31104094 0.70894379 0.29774946        nan\n",
      " 0.82065417 0.44327881 0.23925342 0.75474514 0.35377388 0.31104094\n",
      " 0.71000137 0.29774946        nan 0.82065417 0.44327881 0.23925342\n",
      " 0.75474514 0.35377388 0.31104094 0.71000137 0.29774946        nan\n",
      " 0.82065417 0.44327881 0.23925342 0.75474514 0.35377388 0.31104094\n",
      " 0.71000137 0.29774946        nan 0.82241722 0.44327881 0.23925342\n",
      " 0.75263246 0.35377388 0.31104094 0.70894379 0.29774946        nan\n",
      " 0.82241722 0.44327881 0.23925342 0.75263246 0.35377388 0.31104094\n",
      " 0.70894379 0.29774946        nan 0.82241722 0.44327881 0.23925342\n",
      " 0.75263246 0.35377388 0.31104094 0.70894379 0.29774946        nan\n",
      " 0.82734369 0.4397552  0.23925342 0.75967906 0.35236294 0.1793508\n",
      " 0.7075285  0.29774946        nan 0.82734369 0.4397552  0.23925342\n",
      " 0.75967906 0.35236294 0.1793508  0.7075285  0.29774946        nan\n",
      " 0.82734369 0.4397552  0.23925342 0.75967906 0.35236294 0.1793508\n",
      " 0.7075285  0.29774946        nan 0.82769518 0.4397552  0.23925342\n",
      " 0.76003055 0.35236294 0.1793508  0.7047116  0.29774946        nan\n",
      " 0.82769518 0.4397552  0.23925342 0.76003055 0.35236294 0.1793508\n",
      " 0.7047116  0.29774946        nan 0.82769518 0.4397552  0.23925342\n",
      " 0.76003055 0.35236294 0.1793508  0.7047116  0.29774946        nan\n",
      " 0.82839941 0.43940246 0.23925342 0.76143963 0.35236294 0.1793508\n",
      " 0.7061213  0.29774946        nan 0.82839941 0.43940246 0.23925342\n",
      " 0.76143963 0.35236294 0.1793508  0.7061213  0.29774946        nan\n",
      " 0.82839941 0.43940246 0.23925342 0.76143963 0.35236294 0.1793508\n",
      " 0.7061213  0.29774946        nan 0.82135653 0.44151825 0.23925342\n",
      " 0.75404464 0.35306841 0.1793508  0.70541831 0.29774946        nan\n",
      " 0.82135653 0.44151825 0.23925342 0.75404464 0.35306841 0.1793508\n",
      " 0.70541831 0.29774946        nan 0.82135653 0.44151825 0.23925342\n",
      " 0.75404464 0.35306841 0.1793508  0.70541831 0.29774946        nan\n",
      " 0.8213584  0.44151825 0.23925342 0.75404402 0.35306841 0.1793508\n",
      " 0.70541893 0.29774946        nan 0.8213584  0.44151825 0.23925342\n",
      " 0.75404402 0.35306841 0.1793508  0.70541893 0.29774946        nan\n",
      " 0.8213584  0.44151825 0.23925342 0.75404402 0.35306841 0.1793508\n",
      " 0.70541893 0.29774946        nan 0.81959659 0.44151825 0.23925342\n",
      " 0.75686464 0.35306841 0.1793508  0.70577043 0.29774946        nan\n",
      " 0.81959659 0.44151825 0.23925342 0.75686464 0.35306841 0.1793508\n",
      " 0.70577043 0.29774946        nan 0.81959659 0.44151825 0.23925342\n",
      " 0.75686464 0.35306841 0.1793508  0.70577043 0.29774946        nan\n",
      " 0.81854025 0.44327881 0.23925342 0.75227973 0.35306841 0.1793508\n",
      " 0.70718198 0.29774946        nan 0.81854025 0.44327881 0.23925342\n",
      " 0.75227973 0.35306841 0.1793508  0.70718198 0.29774946        nan\n",
      " 0.81854025 0.44327881 0.23925342 0.75227973 0.35306841 0.1793508\n",
      " 0.70718198 0.29774946        nan 0.81959783 0.44327881 0.23925342\n",
      " 0.75192762 0.35377388 0.1793508  0.70718198 0.29774946        nan\n",
      " 0.81959783 0.44327881 0.23925342 0.75192762 0.35377388 0.1793508\n",
      " 0.70718198 0.29774946        nan 0.81959783 0.44327881 0.23925342\n",
      " 0.75192762 0.35377388 0.1793508  0.70718198 0.29774946        nan\n",
      " 0.81924448 0.44327881 0.23925342 0.75192824 0.35306841 0.1793508\n",
      " 0.70718198 0.29774946        nan 0.81924448 0.44327881 0.23925342\n",
      " 0.75192824 0.35306841 0.1793508  0.70718198 0.29774946        nan\n",
      " 0.81924448 0.44327881 0.23925342 0.75192824 0.35306841 0.1793508\n",
      " 0.70718198 0.29774946        nan]\n",
      "  warnings.warn(\n"
     ]
    },
    {
     "data": {
      "text/html": [
       "<style>#sk-container-id-2 {color: black;}#sk-container-id-2 pre{padding: 0;}#sk-container-id-2 div.sk-toggleable {background-color: white;}#sk-container-id-2 label.sk-toggleable__label {cursor: pointer;display: block;width: 100%;margin-bottom: 0;padding: 0.3em;box-sizing: border-box;text-align: center;}#sk-container-id-2 label.sk-toggleable__label-arrow:before {content: \"▸\";float: left;margin-right: 0.25em;color: #696969;}#sk-container-id-2 label.sk-toggleable__label-arrow:hover:before {color: black;}#sk-container-id-2 div.sk-estimator:hover label.sk-toggleable__label-arrow:before {color: black;}#sk-container-id-2 div.sk-toggleable__content {max-height: 0;max-width: 0;overflow: hidden;text-align: left;background-color: #f0f8ff;}#sk-container-id-2 div.sk-toggleable__content pre {margin: 0.2em;color: black;border-radius: 0.25em;background-color: #f0f8ff;}#sk-container-id-2 input.sk-toggleable__control:checked~div.sk-toggleable__content {max-height: 200px;max-width: 100%;overflow: auto;}#sk-container-id-2 input.sk-toggleable__control:checked~label.sk-toggleable__label-arrow:before {content: \"▾\";}#sk-container-id-2 div.sk-estimator input.sk-toggleable__control:checked~label.sk-toggleable__label {background-color: #d4ebff;}#sk-container-id-2 div.sk-label input.sk-toggleable__control:checked~label.sk-toggleable__label {background-color: #d4ebff;}#sk-container-id-2 input.sk-hidden--visually {border: 0;clip: rect(1px 1px 1px 1px);clip: rect(1px, 1px, 1px, 1px);height: 1px;margin: -1px;overflow: hidden;padding: 0;position: absolute;width: 1px;}#sk-container-id-2 div.sk-estimator {font-family: monospace;background-color: #f0f8ff;border: 1px dotted black;border-radius: 0.25em;box-sizing: border-box;margin-bottom: 0.5em;}#sk-container-id-2 div.sk-estimator:hover {background-color: #d4ebff;}#sk-container-id-2 div.sk-parallel-item::after {content: \"\";width: 100%;border-bottom: 1px solid gray;flex-grow: 1;}#sk-container-id-2 div.sk-label:hover label.sk-toggleable__label {background-color: #d4ebff;}#sk-container-id-2 div.sk-serial::before {content: \"\";position: absolute;border-left: 1px solid gray;box-sizing: border-box;top: 0;bottom: 0;left: 50%;z-index: 0;}#sk-container-id-2 div.sk-serial {display: flex;flex-direction: column;align-items: center;background-color: white;padding-right: 0.2em;padding-left: 0.2em;position: relative;}#sk-container-id-2 div.sk-item {position: relative;z-index: 1;}#sk-container-id-2 div.sk-parallel {display: flex;align-items: stretch;justify-content: center;background-color: white;position: relative;}#sk-container-id-2 div.sk-item::before, #sk-container-id-2 div.sk-parallel-item::before {content: \"\";position: absolute;border-left: 1px solid gray;box-sizing: border-box;top: 0;bottom: 0;left: 50%;z-index: -1;}#sk-container-id-2 div.sk-parallel-item {display: flex;flex-direction: column;z-index: 1;position: relative;background-color: white;}#sk-container-id-2 div.sk-parallel-item:first-child::after {align-self: flex-end;width: 50%;}#sk-container-id-2 div.sk-parallel-item:last-child::after {align-self: flex-start;width: 50%;}#sk-container-id-2 div.sk-parallel-item:only-child::after {width: 0;}#sk-container-id-2 div.sk-dashed-wrapped {border: 1px dashed gray;margin: 0 0.4em 0.5em 0.4em;box-sizing: border-box;padding-bottom: 0.4em;background-color: white;}#sk-container-id-2 div.sk-label label {font-family: monospace;font-weight: bold;display: inline-block;line-height: 1.2em;}#sk-container-id-2 div.sk-label-container {text-align: center;}#sk-container-id-2 div.sk-container {/* jupyter's `normalize.less` sets `[hidden] { display: none; }` but bootstrap.min.css set `[hidden] { display: none !important; }` so we also need the `!important` here to be able to override the default hidden behavior on the sphinx rendered scikit-learn.org. See: https://github.com/scikit-learn/scikit-learn/issues/21755 */display: inline-block !important;position: relative;}#sk-container-id-2 div.sk-text-repr-fallback {display: none;}</style><div id=\"sk-container-id-2\" class=\"sk-top-container\"><div class=\"sk-text-repr-fallback\"><pre>GridSearchCV(cv=5,\n",
       "             estimator=Pipeline(steps=[(&#x27;tf&#x27;,\n",
       "                                        TfidfVectorizer(stop_words=[&#x27;i&#x27;, &#x27;me&#x27;,\n",
       "                                                                    &#x27;my&#x27;,\n",
       "                                                                    &#x27;myself&#x27;,\n",
       "                                                                    &#x27;we&#x27;, &#x27;our&#x27;,\n",
       "                                                                    &#x27;ours&#x27;,\n",
       "                                                                    &#x27;ourselves&#x27;,\n",
       "                                                                    &#x27;you&#x27;,\n",
       "                                                                    &#x27;youre&#x27;,\n",
       "                                                                    &#x27;youve&#x27;,\n",
       "                                                                    &#x27;youll&#x27;,\n",
       "                                                                    &#x27;youd&#x27;,\n",
       "                                                                    &#x27;your&#x27;,\n",
       "                                                                    &#x27;yours&#x27;,\n",
       "                                                                    &#x27;yourself&#x27;,\n",
       "                                                                    &#x27;yourselves&#x27;,\n",
       "                                                                    &#x27;he&#x27;, &#x27;him&#x27;,\n",
       "                                                                    &#x27;his&#x27;,\n",
       "                                                                    &#x27;himself&#x27;,\n",
       "                                                                    &#x27;she&#x27;,\n",
       "                                                                    &#x27;shes&#x27;,\n",
       "                                                                    &#x27;her&#x27;,\n",
       "                                                                    &#x27;hers&#x27;,\n",
       "                                                                    &#x27;herself&#x27;,\n",
       "                                                                    &#x27;it&#x27;, &#x27;its&#x27;,\n",
       "                                                                    &#x27;its&#x27;,\n",
       "                                                                    &#x27;itself&#x27;, ...])),\n",
       "                                       (&#x27;rf&#x27;,\n",
       "                                        RandomForestClassifier(random_state=42))]),\n",
       "             n_jobs=-2,\n",
       "             param_grid={&#x27;rf__class_weight&#x27;: [None, &#x27;balanced&#x27;,\n",
       "                                              &#x27;balanced_subsample&#x27;],\n",
       "                         &#x27;rf__min_samples_split&#x27;: [10, 20, 30],\n",
       "                         &#x27;rf__n_estimators&#x27;: [86, 88, 90],\n",
       "                         &#x27;tf__max_df&#x27;: [0.88, 0.9, 0.92],\n",
       "                         &#x27;tf__min_df&#x27;: [0.01, 0.02, 0.03],\n",
       "                         &#x27;tf__ngram_range&#x27;: [(1, 1), (2, 2), (3, 3)]},\n",
       "             scoring=&#x27;accuracy&#x27;, verbose=1)</pre><b>In a Jupyter environment, please rerun this cell to show the HTML representation or trust the notebook. <br />On GitHub, the HTML representation is unable to render, please try loading this page with nbviewer.org.</b></div><div class=\"sk-container\" hidden><div class=\"sk-item sk-dashed-wrapped\"><div class=\"sk-label-container\"><div class=\"sk-label sk-toggleable\"><input class=\"sk-toggleable__control sk-hidden--visually\" id=\"sk-estimator-id-5\" type=\"checkbox\" ><label for=\"sk-estimator-id-5\" class=\"sk-toggleable__label sk-toggleable__label-arrow\">GridSearchCV</label><div class=\"sk-toggleable__content\"><pre>GridSearchCV(cv=5,\n",
       "             estimator=Pipeline(steps=[(&#x27;tf&#x27;,\n",
       "                                        TfidfVectorizer(stop_words=[&#x27;i&#x27;, &#x27;me&#x27;,\n",
       "                                                                    &#x27;my&#x27;,\n",
       "                                                                    &#x27;myself&#x27;,\n",
       "                                                                    &#x27;we&#x27;, &#x27;our&#x27;,\n",
       "                                                                    &#x27;ours&#x27;,\n",
       "                                                                    &#x27;ourselves&#x27;,\n",
       "                                                                    &#x27;you&#x27;,\n",
       "                                                                    &#x27;youre&#x27;,\n",
       "                                                                    &#x27;youve&#x27;,\n",
       "                                                                    &#x27;youll&#x27;,\n",
       "                                                                    &#x27;youd&#x27;,\n",
       "                                                                    &#x27;your&#x27;,\n",
       "                                                                    &#x27;yours&#x27;,\n",
       "                                                                    &#x27;yourself&#x27;,\n",
       "                                                                    &#x27;yourselves&#x27;,\n",
       "                                                                    &#x27;he&#x27;, &#x27;him&#x27;,\n",
       "                                                                    &#x27;his&#x27;,\n",
       "                                                                    &#x27;himself&#x27;,\n",
       "                                                                    &#x27;she&#x27;,\n",
       "                                                                    &#x27;shes&#x27;,\n",
       "                                                                    &#x27;her&#x27;,\n",
       "                                                                    &#x27;hers&#x27;,\n",
       "                                                                    &#x27;herself&#x27;,\n",
       "                                                                    &#x27;it&#x27;, &#x27;its&#x27;,\n",
       "                                                                    &#x27;its&#x27;,\n",
       "                                                                    &#x27;itself&#x27;, ...])),\n",
       "                                       (&#x27;rf&#x27;,\n",
       "                                        RandomForestClassifier(random_state=42))]),\n",
       "             n_jobs=-2,\n",
       "             param_grid={&#x27;rf__class_weight&#x27;: [None, &#x27;balanced&#x27;,\n",
       "                                              &#x27;balanced_subsample&#x27;],\n",
       "                         &#x27;rf__min_samples_split&#x27;: [10, 20, 30],\n",
       "                         &#x27;rf__n_estimators&#x27;: [86, 88, 90],\n",
       "                         &#x27;tf__max_df&#x27;: [0.88, 0.9, 0.92],\n",
       "                         &#x27;tf__min_df&#x27;: [0.01, 0.02, 0.03],\n",
       "                         &#x27;tf__ngram_range&#x27;: [(1, 1), (2, 2), (3, 3)]},\n",
       "             scoring=&#x27;accuracy&#x27;, verbose=1)</pre></div></div></div><div class=\"sk-parallel\"><div class=\"sk-parallel-item\"><div class=\"sk-item\"><div class=\"sk-label-container\"><div class=\"sk-label sk-toggleable\"><input class=\"sk-toggleable__control sk-hidden--visually\" id=\"sk-estimator-id-6\" type=\"checkbox\" ><label for=\"sk-estimator-id-6\" class=\"sk-toggleable__label sk-toggleable__label-arrow\">estimator: Pipeline</label><div class=\"sk-toggleable__content\"><pre>Pipeline(steps=[(&#x27;tf&#x27;,\n",
       "                 TfidfVectorizer(stop_words=[&#x27;i&#x27;, &#x27;me&#x27;, &#x27;my&#x27;, &#x27;myself&#x27;, &#x27;we&#x27;,\n",
       "                                             &#x27;our&#x27;, &#x27;ours&#x27;, &#x27;ourselves&#x27;, &#x27;you&#x27;,\n",
       "                                             &#x27;youre&#x27;, &#x27;youve&#x27;, &#x27;youll&#x27;, &#x27;youd&#x27;,\n",
       "                                             &#x27;your&#x27;, &#x27;yours&#x27;, &#x27;yourself&#x27;,\n",
       "                                             &#x27;yourselves&#x27;, &#x27;he&#x27;, &#x27;him&#x27;, &#x27;his&#x27;,\n",
       "                                             &#x27;himself&#x27;, &#x27;she&#x27;, &#x27;shes&#x27;, &#x27;her&#x27;,\n",
       "                                             &#x27;hers&#x27;, &#x27;herself&#x27;, &#x27;it&#x27;, &#x27;its&#x27;,\n",
       "                                             &#x27;its&#x27;, &#x27;itself&#x27;, ...])),\n",
       "                (&#x27;rf&#x27;, RandomForestClassifier(random_state=42))])</pre></div></div></div><div class=\"sk-serial\"><div class=\"sk-item\"><div class=\"sk-serial\"><div class=\"sk-item\"><div class=\"sk-estimator sk-toggleable\"><input class=\"sk-toggleable__control sk-hidden--visually\" id=\"sk-estimator-id-7\" type=\"checkbox\" ><label for=\"sk-estimator-id-7\" class=\"sk-toggleable__label sk-toggleable__label-arrow\">TfidfVectorizer</label><div class=\"sk-toggleable__content\"><pre>TfidfVectorizer(stop_words=[&#x27;i&#x27;, &#x27;me&#x27;, &#x27;my&#x27;, &#x27;myself&#x27;, &#x27;we&#x27;, &#x27;our&#x27;, &#x27;ours&#x27;,\n",
       "                            &#x27;ourselves&#x27;, &#x27;you&#x27;, &#x27;youre&#x27;, &#x27;youve&#x27;, &#x27;youll&#x27;,\n",
       "                            &#x27;youd&#x27;, &#x27;your&#x27;, &#x27;yours&#x27;, &#x27;yourself&#x27;, &#x27;yourselves&#x27;,\n",
       "                            &#x27;he&#x27;, &#x27;him&#x27;, &#x27;his&#x27;, &#x27;himself&#x27;, &#x27;she&#x27;, &#x27;shes&#x27;, &#x27;her&#x27;,\n",
       "                            &#x27;hers&#x27;, &#x27;herself&#x27;, &#x27;it&#x27;, &#x27;its&#x27;, &#x27;its&#x27;, &#x27;itself&#x27;, ...])</pre></div></div></div><div class=\"sk-item\"><div class=\"sk-estimator sk-toggleable\"><input class=\"sk-toggleable__control sk-hidden--visually\" id=\"sk-estimator-id-8\" type=\"checkbox\" ><label for=\"sk-estimator-id-8\" class=\"sk-toggleable__label sk-toggleable__label-arrow\">RandomForestClassifier</label><div class=\"sk-toggleable__content\"><pre>RandomForestClassifier(random_state=42)</pre></div></div></div></div></div></div></div></div></div></div></div></div>"
      ],
      "text/plain": [
       "GridSearchCV(cv=5,\n",
       "             estimator=Pipeline(steps=[('tf',\n",
       "                                        TfidfVectorizer(stop_words=['i', 'me',\n",
       "                                                                    'my',\n",
       "                                                                    'myself',\n",
       "                                                                    'we', 'our',\n",
       "                                                                    'ours',\n",
       "                                                                    'ourselves',\n",
       "                                                                    'you',\n",
       "                                                                    'youre',\n",
       "                                                                    'youve',\n",
       "                                                                    'youll',\n",
       "                                                                    'youd',\n",
       "                                                                    'your',\n",
       "                                                                    'yours',\n",
       "                                                                    'yourself',\n",
       "                                                                    'yourselves',\n",
       "                                                                    'he', 'him',\n",
       "                                                                    'his',\n",
       "                                                                    'himself',\n",
       "                                                                    'she',\n",
       "                                                                    'shes',\n",
       "                                                                    'her',\n",
       "                                                                    'hers',\n",
       "                                                                    'herself',\n",
       "                                                                    'it', 'its',\n",
       "                                                                    'its',\n",
       "                                                                    'itself', ...])),\n",
       "                                       ('rf',\n",
       "                                        RandomForestClassifier(random_state=42))]),\n",
       "             n_jobs=-2,\n",
       "             param_grid={'rf__class_weight': [None, 'balanced',\n",
       "                                              'balanced_subsample'],\n",
       "                         'rf__min_samples_split': [10, 20, 30],\n",
       "                         'rf__n_estimators': [86, 88, 90],\n",
       "                         'tf__max_df': [0.88, 0.9, 0.92],\n",
       "                         'tf__min_df': [0.01, 0.02, 0.03],\n",
       "                         'tf__ngram_range': [(1, 1), (2, 2), (3, 3)]},\n",
       "             scoring='accuracy', verbose=1)"
      ]
     },
     "execution_count": 62,
     "metadata": {},
     "output_type": "execute_result"
    }
   ],
   "source": [
    "bin_forest_grid = GridSearchCV(bin_forest_pipe_grid, forest_param_grid, cv=5, n_jobs=-2, verbose=1, scoring='accuracy')\n",
    "bin_forest_grid.fit(X_train, y_train)"
   ]
  },
  {
   "cell_type": "code",
   "execution_count": 63,
   "metadata": {
    "scrolled": true
   },
   "outputs": [
    {
     "name": "stdout",
     "output_type": "stream",
     "text": [
      "Pipeline(steps=[('tf',\n",
      "                 TfidfVectorizer(max_df=0.88, min_df=0.01,\n",
      "                                 stop_words=['i', 'me', 'my', 'myself', 'we',\n",
      "                                             'our', 'ours', 'ourselves', 'you',\n",
      "                                             'youre', 'youve', 'youll', 'youd',\n",
      "                                             'your', 'yours', 'yourself',\n",
      "                                             'yourselves', 'he', 'him', 'his',\n",
      "                                             'himself', 'she', 'shes', 'her',\n",
      "                                             'hers', 'herself', 'it', 'its',\n",
      "                                             'its', 'itself', ...])),\n",
      "                ('rf',\n",
      "                 RandomForestClassifier(min_samples_split=10, n_estimators=86,\n",
      "                                        random_state=42))])\n",
      "{'rf__class_weight': None, 'rf__min_samples_split': 10, 'rf__n_estimators': 86, 'tf__max_df': 0.88, 'tf__min_df': 0.01, 'tf__ngram_range': (1, 1)}\n",
      "0.8520133144546289\n"
     ]
    }
   ],
   "source": [
    "print(bin_forest_grid.best_estimator_)\n",
    "print(bin_forest_grid.best_params_)\n",
    "print(bin_forest_grid.best_score_)\n"
   ]
  },
  {
   "cell_type": "code",
   "execution_count": 64,
   "metadata": {},
   "outputs": [],
   "source": [
    "# Extract the TfidfVectorizer from the pipeline\n",
    "tf_vec = bin_forest_pipe_grid.named_steps['tf']\n",
    "\n",
    "# Fit the TfidfVectorizer on the training data\n",
    "tf_vec.fit(X_train)\n",
    "\n",
    "# Transform the training data using the fitted TfidfVectorizer\n",
    "X_train_tf = tf_vec.transform(X_train)\n",
    "\n",
    "# Get the feature names from the TfidfVectorizer\n",
    "feature_names = tf_vec.get_feature_names_out()\n",
    "\n",
    "# Extract the RandomForestClassifier from the pipeline\n",
    "rf = bin_forest_pipe_grid.named_steps['rf']\n",
    "\n",
    "# Fit the RandomForestClassifier on the transformed training data\n",
    "rf.fit(X_train_tf, y_train)\n",
    "\n",
    "# Get the feature importances from the fitted RandomForestClassifier\n",
    "feature_importances = rf.feature_importances_\n",
    "\n",
    "# Create a DataFrame with the feature names and their corresponding importances\n",
    "importances_df = pd.DataFrame({\"feature_names\": feature_names, \"importances\": feature_importances})"
   ]
  },
  {
   "cell_type": "code",
   "execution_count": 65,
   "metadata": {},
   "outputs": [],
   "source": [
    "sorted_importances = importances_df.sort_values(by='importances', ascending=False)\n",
    "sorted_importances = sorted_importances.head(20)"
   ]
  },
  {
   "cell_type": "code",
   "execution_count": null,
   "metadata": {},
   "outputs": [],
   "source": []
  },
  {
   "cell_type": "code",
   "execution_count": 66,
   "metadata": {},
   "outputs": [],
   "source": [
    "sorted_importances.to_csv('data/importances.csv')"
   ]
  },
  {
   "cell_type": "code",
   "execution_count": 157,
   "metadata": {},
   "outputs": [
    {
     "data": {
      "text/html": [
       "<div>\n",
       "<style scoped>\n",
       "    .dataframe tbody tr th:only-of-type {\n",
       "        vertical-align: middle;\n",
       "    }\n",
       "\n",
       "    .dataframe tbody tr th {\n",
       "        vertical-align: top;\n",
       "    }\n",
       "\n",
       "    .dataframe thead th {\n",
       "        text-align: right;\n",
       "    }\n",
       "</style>\n",
       "<table border=\"1\" class=\"dataframe\">\n",
       "  <thead>\n",
       "    <tr style=\"text-align: right;\">\n",
       "      <th></th>\n",
       "      <th>emotion_encoded</th>\n",
       "      <th>product</th>\n",
       "    </tr>\n",
       "  </thead>\n",
       "  <tbody>\n",
       "    <tr>\n",
       "      <th>0</th>\n",
       "      <td>0</td>\n",
       "      <td>iPhone</td>\n",
       "    </tr>\n",
       "    <tr>\n",
       "      <th>1</th>\n",
       "      <td>1</td>\n",
       "      <td>iPad or iPhone App</td>\n",
       "    </tr>\n",
       "    <tr>\n",
       "      <th>2</th>\n",
       "      <td>1</td>\n",
       "      <td>iPad</td>\n",
       "    </tr>\n",
       "    <tr>\n",
       "      <th>3</th>\n",
       "      <td>0</td>\n",
       "      <td>iPad or iPhone App</td>\n",
       "    </tr>\n",
       "    <tr>\n",
       "      <th>4</th>\n",
       "      <td>1</td>\n",
       "      <td>Google</td>\n",
       "    </tr>\n",
       "    <tr>\n",
       "      <th>...</th>\n",
       "      <td>...</td>\n",
       "      <td>...</td>\n",
       "    </tr>\n",
       "    <tr>\n",
       "      <th>9077</th>\n",
       "      <td>1</td>\n",
       "      <td>iPhone</td>\n",
       "    </tr>\n",
       "    <tr>\n",
       "      <th>9079</th>\n",
       "      <td>1</td>\n",
       "      <td>iPad</td>\n",
       "    </tr>\n",
       "    <tr>\n",
       "      <th>9080</th>\n",
       "      <td>0</td>\n",
       "      <td>Other Google product or service</td>\n",
       "    </tr>\n",
       "    <tr>\n",
       "      <th>9085</th>\n",
       "      <td>1</td>\n",
       "      <td>iPad or iPhone App</td>\n",
       "    </tr>\n",
       "    <tr>\n",
       "      <th>9088</th>\n",
       "      <td>1</td>\n",
       "      <td>iPad</td>\n",
       "    </tr>\n",
       "  </tbody>\n",
       "</table>\n",
       "<p>3548 rows × 2 columns</p>\n",
       "</div>"
      ],
      "text/plain": [
       "      emotion_encoded                          product\n",
       "0                   0                           iPhone\n",
       "1                   1               iPad or iPhone App\n",
       "2                   1                             iPad\n",
       "3                   0               iPad or iPhone App\n",
       "4                   1                           Google\n",
       "...               ...                              ...\n",
       "9077                1                           iPhone\n",
       "9079                1                             iPad\n",
       "9080                0  Other Google product or service\n",
       "9085                1               iPad or iPhone App\n",
       "9088                1                             iPad\n",
       "\n",
       "[3548 rows x 2 columns]"
      ]
     },
     "execution_count": 157,
     "metadata": {},
     "output_type": "execute_result"
    }
   ],
   "source": [
    "sentiment = df_binary[['emotion_encoded', 'product']]\n",
    "sentiment"
   ]
  },
  {
   "cell_type": "code",
   "execution_count": 158,
   "metadata": {},
   "outputs": [
    {
     "data": {
      "text/plain": [
       "emotion_encoded  product                        \n",
       "1                iPad                               793\n",
       "                 Apple                              543\n",
       "                 iPad or iPhone App                 397\n",
       "                 Google                             346\n",
       "                 Other Google product or service    236\n",
       "                 iPhone                             184\n",
       "                 Android App                         72\n",
       "                 Android                             69\n",
       "                 Other Apple product or service      32\n",
       "dtype: int64"
      ]
     },
     "execution_count": 158,
     "metadata": {},
     "output_type": "execute_result"
    }
   ],
   "source": [
    "sentiment[sentiment['emotion_encoded'] == 1].value_counts()"
   ]
  },
  {
   "cell_type": "code",
   "execution_count": 159,
   "metadata": {},
   "outputs": [
    {
     "data": {
      "text/plain": [
       "1    1949\n",
       "0     388\n",
       "Name: emotion_encoded, dtype: int64"
      ]
     },
     "execution_count": 159,
     "metadata": {},
     "output_type": "execute_result"
    }
   ],
   "source": [
    "apple_prod = ['iPad', 'Apple', 'iPad or iPhone App', 'iPhone', 'Other Apple product or service']\n",
    "mask = sentiment[sentiment['product'].isin(apple_prod)]\n",
    "mask['emotion_encoded'].value_counts()"
   ]
  },
  {
   "cell_type": "code",
   "execution_count": 161,
   "metadata": {},
   "outputs": [
    {
     "name": "stdout",
     "output_type": "stream",
     "text": [
      "0.8339751818570817 0.16602481814291825\n"
     ]
    }
   ],
   "source": [
    "tot_apple_review = len(mask)\n",
    "pos_apple_review = 1949/tot_apple_review\n",
    "neg_apple_review = 1 - pos_apple_review\n",
    "print(pos_apple_review, neg_apple_review)"
   ]
  },
  {
   "cell_type": "code",
   "execution_count": 162,
   "metadata": {},
   "outputs": [
    {
     "data": {
      "text/plain": [
       "2337"
      ]
     },
     "execution_count": 162,
     "metadata": {},
     "output_type": "execute_result"
    }
   ],
   "source": [
    "tot_apple_review"
   ]
  },
  {
   "cell_type": "code",
   "execution_count": null,
   "metadata": {},
   "outputs": [],
   "source": []
  },
  {
   "cell_type": "code",
   "execution_count": 163,
   "metadata": {},
   "outputs": [
    {
     "data": {
      "text/plain": [
       "1    723\n",
       "0    131\n",
       "Name: emotion_encoded, dtype: int64"
      ]
     },
     "execution_count": 163,
     "metadata": {},
     "output_type": "execute_result"
    }
   ],
   "source": [
    "google_prod = ['Google', 'Other Google product or service', 'Android App', 'Android']\n",
    "g_mask = sentiment[sentiment['product'].isin(google_prod)]\n",
    "g_mask['emotion_encoded'].value_counts()"
   ]
  },
  {
   "cell_type": "code",
   "execution_count": null,
   "metadata": {},
   "outputs": [],
   "source": []
  },
  {
   "cell_type": "code",
   "execution_count": 164,
   "metadata": {},
   "outputs": [
    {
     "name": "stdout",
     "output_type": "stream",
     "text": [
      "0.8466042154566745 0.15339578454332548\n"
     ]
    }
   ],
   "source": [
    "tot_google_review = len(g_mask)\n",
    "pos_google_review = 723/tot_google_review\n",
    "neg_google_review = 1 - pos_google_review\n",
    "print(pos_google_review, neg_google_review)\n"
   ]
  },
  {
   "cell_type": "code",
   "execution_count": 165,
   "metadata": {},
   "outputs": [
    {
     "data": {
      "text/plain": [
       "854"
      ]
     },
     "execution_count": 165,
     "metadata": {},
     "output_type": "execute_result"
    }
   ],
   "source": [
    "tot_google_review"
   ]
  },
  {
   "cell_type": "code",
   "execution_count": 78,
   "metadata": {},
   "outputs": [],
   "source": []
  },
  {
   "cell_type": "code",
   "execution_count": null,
   "metadata": {},
   "outputs": [],
   "source": []
  },
  {
   "cell_type": "code",
   "execution_count": null,
   "metadata": {},
   "outputs": [],
   "source": []
  },
  {
   "cell_type": "code",
   "execution_count": 82,
   "metadata": {},
   "outputs": [
    {
     "data": {
      "text/plain": [
       "<sklearn.metrics._plot.confusion_matrix.ConfusionMatrixDisplay at 0x7ffe51c57130>"
      ]
     },
     "execution_count": 82,
     "metadata": {},
     "output_type": "execute_result"
    },
    {
     "data": {
      "image/png": "[encoded data removed]",
      "text/plain": [
       "<Figure size 432x288 with 2 Axes>"
      ]
     },
     "metadata": {
      "needs_background": "light"
     },
     "output_type": "display_data"
    }
   ],
   "source": [
    "y_pred_forest_grid = bin_forest_grid.predict(X_test)\n",
    "cfm_forest = confusion_matrix(y_test, y_pred_forest_grid)\n",
    "ConfusionMatrixDisplay(cfm_forest).plot()"
   ]
  },
  {
   "cell_type": "code",
   "execution_count": 83,
   "metadata": {},
   "outputs": [
    {
     "data": {
      "text/plain": [
       "0.852112676056338"
      ]
     },
     "execution_count": 83,
     "metadata": {},
     "output_type": "execute_result"
    }
   ],
   "source": [
    "\n",
    "forest_grid_test_acc = accuracy_score(y_test, y_pred_forest_grid)\n",
    "forest_grid_test_acc "
   ]
  },
  {
   "cell_type": "code",
   "execution_count": null,
   "metadata": {},
   "outputs": [],
   "source": []
  },
  {
   "cell_type": "markdown",
   "metadata": {},
   "source": [
    "---"
   ]
  },
  {
   "cell_type": "code",
   "execution_count": null,
   "metadata": {},
   "outputs": [],
   "source": [
    "bin_log_pipe = Pipeline([\n",
    "    ('tf', TfidfVectorizer(min_df=.01, max_df=.9, stop_words=stop_words)),\n",
    "    ('lr', LogisticRegression(random_state=42))\n",
    "])"
   ]
  },
  {
   "cell_type": "code",
   "execution_count": null,
   "metadata": {},
   "outputs": [],
   "source": [
    "bin_log_pipe.fit(X_train, y_train)\n",
    "\n",
    "y_pred_log = bin_log_pipe.predict(X_test)\n",
    "log_test_acc = accuracy_score(y_test, y_pred_log)\n",
    "log_test_acc"
   ]
  },
  {
   "cell_type": "code",
   "execution_count": null,
   "metadata": {},
   "outputs": [],
   "source": [
    "cfm_log = confusion_matrix(y_test, y_pred_log)\n",
    "ConfusionMatrixDisplay(cfm_log).plot()"
   ]
  },
  {
   "cell_type": "code",
   "execution_count": null,
   "metadata": {},
   "outputs": [],
   "source": [
    "log_score = cross_val_score(bin_log_pipe, X_train, y_train, cv=5)\n",
    "log_score"
   ]
  },
  {
   "cell_type": "code",
   "execution_count": null,
   "metadata": {},
   "outputs": [],
   "source": [
    "bin_log_pipe_grid = Pipeline([\n",
    "    ('tf', TfidfVectorizer(stop_words=stop_words)),\n",
    "    ('lr', LogisticRegression(random_state=42))\n",
    "])"
   ]
  },
  {
   "cell_type": "code",
   "execution_count": null,
   "metadata": {},
   "outputs": [],
   "source": [
    "log_param_grid = {\n",
    "    'tf__min_df': [.01, .02, .03],\n",
    "    'tf__max_df': [.88, .90, .92],\n",
    "    'tf__ngram_range': [(1,1), (2,2), (3,3)],\n",
    "    'lr__penalty': [None, 'l2', 'l1'],\n",
    "    'lr__class_weight': [None, 'balanced'],\n",
    "    'lr__solver': ['lbfgs', 'liblinear'],\n",
    "    'lr__max_iter': [10, 15, 20]\n",
    "}"
   ]
  },
  {
   "cell_type": "code",
   "execution_count": null,
   "metadata": {},
   "outputs": [],
   "source": [
    "bin_log_grid = GridSearchCV(bin_log_pipe_grid, log_param_grid, cv=5, n_jobs=-2, verbose=1, scoring='accuracy')\n",
    "bin_log_grid.fit(X_train, y_train)"
   ]
  },
  {
   "cell_type": "code",
   "execution_count": null,
   "metadata": {},
   "outputs": [],
   "source": [
    "print(bin_log_grid.best_params_)\n",
    "print(bin_log_grid.best_score_)"
   ]
  },
  {
   "cell_type": "code",
   "execution_count": null,
   "metadata": {},
   "outputs": [],
   "source": [
    "y_pred_log_grid = bin_log_grid.predict(X_test)\n",
    "log_test_acc = accuracy_score(y_test, y_pred_log_grid)\n",
    "log_test_acc"
   ]
  },
  {
   "cell_type": "code",
   "execution_count": null,
   "metadata": {},
   "outputs": [],
   "source": [
    "cfm_log = confusion_matrix(y_test, y_pred_log_grid)\n",
    "ConfusionMatrixDisplay(cfm_log).plot()"
   ]
  },
  {
   "cell_type": "code",
   "execution_count": null,
   "metadata": {},
   "outputs": [],
   "source": [
    "log_score = cross_val_score(bin_log_grid, X_train, y_train, cv=5)\n",
    "log_score"
   ]
  },
  {
   "cell_type": "code",
   "execution_count": null,
   "metadata": {},
   "outputs": [],
   "source": []
  },
  {
   "cell_type": "code",
   "execution_count": null,
   "metadata": {},
   "outputs": [],
   "source": [
    "tf = TfidfVectorizer(min_df = .01, max_df = .9)\n",
    "\n",
    "X_train_tf = tf.fit_transform(X_train.values)\n",
    "X_train_tf = X_train_tf.toarray()\n",
    "X_test_tf = tf.transform(X_test.values)\n",
    "X_test_tf = X_test_tf.toarray()"
   ]
  },
  {
   "cell_type": "code",
   "execution_count": null,
   "metadata": {},
   "outputs": [],
   "source": [
    "nb_model = GaussianNB()"
   ]
  },
  {
   "cell_type": "code",
   "execution_count": null,
   "metadata": {},
   "outputs": [],
   "source": [
    "nb_model.fit(X_train_tf, y_train)\n",
    "\n",
    "y_pred_nb = nb_model.predict(X_test_tf)\n",
    "nb_test_acc = accuracy_score(y_test, y_pred_nb)\n",
    "nb_test_acc"
   ]
  },
  {
   "cell_type": "code",
   "execution_count": null,
   "metadata": {},
   "outputs": [],
   "source": [
    "cfm_nb = confusion_matrix(y_test, y_pred_nb)\n",
    "ConfusionMatrixDisplay(cfm_nb).plot()"
   ]
  },
  {
   "cell_type": "code",
   "execution_count": null,
   "metadata": {},
   "outputs": [],
   "source": [
    "print(classification_report(y_test,y_pred_nb))"
   ]
  },
  {
   "cell_type": "code",
   "execution_count": null,
   "metadata": {},
   "outputs": [],
   "source": [
    "nb_pipe = Pipeline([\n",
    "    ('nb', GaussianNB())\n",
    "])\n",
    "\n",
    "nb_param_grid = {\n",
    "    'nb__var_smoothing': [1e-8, 1e-9, 1e-10]\n",
    "}"
   ]
  },
  {
   "cell_type": "code",
   "execution_count": null,
   "metadata": {},
   "outputs": [],
   "source": [
    "nb_grid = GridSearchCV(nb_pipe, nb_param_grid, cv=5, n_jobs=2)\n",
    "nb_grid.fit(X_train_tf, y_train)"
   ]
  },
  {
   "cell_type": "code",
   "execution_count": null,
   "metadata": {},
   "outputs": [],
   "source": [
    "print(nb_grid.best_params_)\n",
    "print(nb_grid.best_score_)"
   ]
  },
  {
   "cell_type": "code",
   "execution_count": 84,
   "metadata": {},
   "outputs": [],
   "source": [
    "df_binary['list_tokens'] = lemmatized_text"
   ]
  },
  {
   "cell_type": "code",
   "execution_count": 85,
   "metadata": {},
   "outputs": [
    {
     "data": {
      "text/html": [
       "<div>\n",
       "<style scoped>\n",
       "    .dataframe tbody tr th:only-of-type {\n",
       "        vertical-align: middle;\n",
       "    }\n",
       "\n",
       "    .dataframe tbody tr th {\n",
       "        vertical-align: top;\n",
       "    }\n",
       "\n",
       "    .dataframe thead th {\n",
       "        text-align: right;\n",
       "    }\n",
       "</style>\n",
       "<table border=\"1\" class=\"dataframe\">\n",
       "  <thead>\n",
       "    <tr style=\"text-align: right;\">\n",
       "      <th></th>\n",
       "      <th>unprocessed_tweet</th>\n",
       "      <th>product</th>\n",
       "      <th>emotion</th>\n",
       "      <th>processed_tweet</th>\n",
       "      <th>emotion_encoded</th>\n",
       "      <th>list_tokens</th>\n",
       "    </tr>\n",
       "  </thead>\n",
       "  <tbody>\n",
       "    <tr>\n",
       "      <th>0</th>\n",
       "      <td>.@wesley83 I have a 3G iPhone. After 3 hrs twe...</td>\n",
       "      <td>iPhone</td>\n",
       "      <td>Negative emotion</td>\n",
       "      <td>wesley iphone hr tweet riseaustin dead need up...</td>\n",
       "      <td>0</td>\n",
       "      <td>[wesley, iphone, hr, tweet, riseaustin, dead, ...</td>\n",
       "    </tr>\n",
       "    <tr>\n",
       "      <th>1</th>\n",
       "      <td>@jessedee Know about @fludapp ? Awesome iPad/i...</td>\n",
       "      <td>iPad or iPhone App</td>\n",
       "      <td>Positive emotion</td>\n",
       "      <td>jessedee know fludapp awesome ipadiphone app l...</td>\n",
       "      <td>1</td>\n",
       "      <td>[jessedee, know, fludapp, awesome, ipadiphone,...</td>\n",
       "    </tr>\n",
       "    <tr>\n",
       "      <th>2</th>\n",
       "      <td>@swonderlin Can not wait for #iPad 2 also. The...</td>\n",
       "      <td>iPad</td>\n",
       "      <td>Positive emotion</td>\n",
       "      <td>swonderlin wait ipad also sale</td>\n",
       "      <td>1</td>\n",
       "      <td>[swonderlin, wait, ipad, also, sale]</td>\n",
       "    </tr>\n",
       "    <tr>\n",
       "      <th>3</th>\n",
       "      <td>@sxsw I hope this year's festival isn't as cra...</td>\n",
       "      <td>iPad or iPhone App</td>\n",
       "      <td>Negative emotion</td>\n",
       "      <td>hope year festival crashy year iphone app</td>\n",
       "      <td>0</td>\n",
       "      <td>[hope, year, festival, crashy, year, iphone, app]</td>\n",
       "    </tr>\n",
       "    <tr>\n",
       "      <th>4</th>\n",
       "      <td>@sxtxstate great stuff on Fri #SXSW: Marissa M...</td>\n",
       "      <td>Google</td>\n",
       "      <td>Positive emotion</td>\n",
       "      <td>sxtxstate great stuff fri marissa mayer google...</td>\n",
       "      <td>1</td>\n",
       "      <td>[sxtxstate, great, stuff, fri, marissa, mayer,...</td>\n",
       "    </tr>\n",
       "    <tr>\n",
       "      <th>...</th>\n",
       "      <td>...</td>\n",
       "      <td>...</td>\n",
       "      <td>...</td>\n",
       "      <td>...</td>\n",
       "      <td>...</td>\n",
       "      <td>...</td>\n",
       "    </tr>\n",
       "    <tr>\n",
       "      <th>9077</th>\n",
       "      <td>@mention your PR guy just convinced me to swit...</td>\n",
       "      <td>iPhone</td>\n",
       "      <td>Positive emotion</td>\n",
       "      <td>pr guy convince switch back iphone great cover...</td>\n",
       "      <td>1</td>\n",
       "      <td>[pr, guy, convince, switch, back, iphone, grea...</td>\n",
       "    </tr>\n",
       "    <tr>\n",
       "      <th>9079</th>\n",
       "      <td>&amp;quot;papyrus...sort of like the ipad&amp;quot; - ...</td>\n",
       "      <td>iPad</td>\n",
       "      <td>Positive emotion</td>\n",
       "      <td>quotpapyrussort like ipadquot nice lol lavelle</td>\n",
       "      <td>1</td>\n",
       "      <td>[quotpapyrussort, like, ipadquot, nice, lol, l...</td>\n",
       "    </tr>\n",
       "    <tr>\n",
       "      <th>9080</th>\n",
       "      <td>Diller says Google TV &amp;quot;might be run over ...</td>\n",
       "      <td>Other Google product or service</td>\n",
       "      <td>Negative emotion</td>\n",
       "      <td>diller say google tv quotmight run playstation...</td>\n",
       "      <td>0</td>\n",
       "      <td>[diller, say, google, tv, quotmight, run, play...</td>\n",
       "    </tr>\n",
       "    <tr>\n",
       "      <th>9085</th>\n",
       "      <td>I've always used Camera+ for my iPhone b/c it ...</td>\n",
       "      <td>iPad or iPhone App</td>\n",
       "      <td>Positive emotion</td>\n",
       "      <td>ive always use camera iphone bc image stabiliz...</td>\n",
       "      <td>1</td>\n",
       "      <td>[ive, always, use, camera, iphone, bc, image, ...</td>\n",
       "    </tr>\n",
       "    <tr>\n",
       "      <th>9088</th>\n",
       "      <td>Ipad everywhere. #SXSW {link}</td>\n",
       "      <td>iPad</td>\n",
       "      <td>Positive emotion</td>\n",
       "      <td>ipad everywhere</td>\n",
       "      <td>1</td>\n",
       "      <td>[ipad, everywhere]</td>\n",
       "    </tr>\n",
       "  </tbody>\n",
       "</table>\n",
       "<p>3548 rows × 6 columns</p>\n",
       "</div>"
      ],
      "text/plain": [
       "                                      unprocessed_tweet  \\\n",
       "0     .@wesley83 I have a 3G iPhone. After 3 hrs twe...   \n",
       "1     @jessedee Know about @fludapp ? Awesome iPad/i...   \n",
       "2     @swonderlin Can not wait for #iPad 2 also. The...   \n",
       "3     @sxsw I hope this year's festival isn't as cra...   \n",
       "4     @sxtxstate great stuff on Fri #SXSW: Marissa M...   \n",
       "...                                                 ...   \n",
       "9077  @mention your PR guy just convinced me to swit...   \n",
       "9079  &quot;papyrus...sort of like the ipad&quot; - ...   \n",
       "9080  Diller says Google TV &quot;might be run over ...   \n",
       "9085  I've always used Camera+ for my iPhone b/c it ...   \n",
       "9088                      Ipad everywhere. #SXSW {link}   \n",
       "\n",
       "                              product           emotion  \\\n",
       "0                              iPhone  Negative emotion   \n",
       "1                  iPad or iPhone App  Positive emotion   \n",
       "2                                iPad  Positive emotion   \n",
       "3                  iPad or iPhone App  Negative emotion   \n",
       "4                              Google  Positive emotion   \n",
       "...                               ...               ...   \n",
       "9077                           iPhone  Positive emotion   \n",
       "9079                             iPad  Positive emotion   \n",
       "9080  Other Google product or service  Negative emotion   \n",
       "9085               iPad or iPhone App  Positive emotion   \n",
       "9088                             iPad  Positive emotion   \n",
       "\n",
       "                                        processed_tweet  emotion_encoded  \\\n",
       "0     wesley iphone hr tweet riseaustin dead need up...                0   \n",
       "1     jessedee know fludapp awesome ipadiphone app l...                1   \n",
       "2                        swonderlin wait ipad also sale                1   \n",
       "3             hope year festival crashy year iphone app                0   \n",
       "4     sxtxstate great stuff fri marissa mayer google...                1   \n",
       "...                                                 ...              ...   \n",
       "9077  pr guy convince switch back iphone great cover...                1   \n",
       "9079     quotpapyrussort like ipadquot nice lol lavelle                1   \n",
       "9080  diller say google tv quotmight run playstation...                0   \n",
       "9085  ive always use camera iphone bc image stabiliz...                1   \n",
       "9088                                    ipad everywhere                1   \n",
       "\n",
       "                                            list_tokens  \n",
       "0     [wesley, iphone, hr, tweet, riseaustin, dead, ...  \n",
       "1     [jessedee, know, fludapp, awesome, ipadiphone,...  \n",
       "2                  [swonderlin, wait, ipad, also, sale]  \n",
       "3     [hope, year, festival, crashy, year, iphone, app]  \n",
       "4     [sxtxstate, great, stuff, fri, marissa, mayer,...  \n",
       "...                                                 ...  \n",
       "9077  [pr, guy, convince, switch, back, iphone, grea...  \n",
       "9079  [quotpapyrussort, like, ipadquot, nice, lol, l...  \n",
       "9080  [diller, say, google, tv, quotmight, run, play...  \n",
       "9085  [ive, always, use, camera, iphone, bc, image, ...  \n",
       "9088                                 [ipad, everywhere]  \n",
       "\n",
       "[3548 rows x 6 columns]"
      ]
     },
     "execution_count": 85,
     "metadata": {},
     "output_type": "execute_result"
    }
   ],
   "source": [
    "df_binary"
   ]
  },
  {
   "cell_type": "code",
   "execution_count": 86,
   "metadata": {
    "scrolled": true
   },
   "outputs": [
    {
     "data": {
      "image/png": "[encoded data removed]",
      "text/plain": [
       "<Figure size 864x432 with 2 Axes>"
      ]
     },
     "metadata": {
      "needs_background": "light"
     },
     "output_type": "display_data"
    }
   ],
   "source": [
    "fig, axes = plt.subplots(nrows=2, figsize=(12, 6))\n",
    "\n",
    "plotted_words_and_colors = {}\n",
    "\n",
    "color_palette = sns.color_palette('pastel', n_colors = 38)\n",
    "\n",
    "data_by_emotion = [y for _, y in df_binary.groupby('emotion_encoded', as_index=False)]\n",
    "for idx, emotion_df in enumerate(data_by_emotion):\n",
    "    all_words_in_emotion = emotion_df.list_tokens.explode()\n",
    "    top_10 = all_words_in_emotion.value_counts()[:10]\n",
    "    \n",
    "    colors = []\n",
    "    for word in top_10.index:\n",
    "        if word not in plotted_words_and_colors:\n",
    "             new_color = color_palette.pop(0)\n",
    "             plotted_words_and_colors[word] = new_color\n",
    "        colors.append(plotted_words_and_colors[word])\n",
    "            \n",
    "    ax = axes[idx]\n",
    "    ax.bar(top_10.index, top_10.values, color=colors)\n",
    "    ax.set_title(emotion_df.iloc[0].emotion.title())\n",
    "    \n",
    "fig.tight_layout()"
   ]
  },
  {
   "cell_type": "code",
   "execution_count": 87,
   "metadata": {},
   "outputs": [
    {
     "data": {
      "text/plain": [
       "ipad      1196\n",
       "apple      881\n",
       "google     692\n",
       "store      549\n",
       "iphone     522\n",
       "app        395\n",
       "new        360\n",
       "get        301\n",
       "austin     290\n",
       "popup      218\n",
       "Name: list_tokens, dtype: int64"
      ]
     },
     "execution_count": 87,
     "metadata": {},
     "output_type": "execute_result"
    }
   ],
   "source": [
    "top_10"
   ]
  },
  {
   "cell_type": "code",
   "execution_count": 119,
   "metadata": {},
   "outputs": [],
   "source": [
    "data = pd.read_csv(\"data/processed_tweets.csv\", index_col=0)\n",
    "\n",
    "data[\"product\"].value_counts()\n",
    "\n",
    "data_branded = data.copy()\n",
    "\n",
    "mapping = {\n",
    "    'iPad': 'Apple',\n",
    "    'Apple': 'Apple',\n",
    "    'iPad or iPhone App': 'Apple',\n",
    "    'iPhone': 'Apple',\n",
    "    'Other Apple product or service': 'Apple',\n",
    "    'Google': 'Google',\n",
    "    'Other Google product or service': 'Google',\n",
    "    'Android App': 'Google',\n",
    "    'Android': 'Google'\n",
    "}\n",
    "\n",
    "data_branded[\"product\"] = data_branded[\"product\"].map(mapping)\n",
    "\n",
    "data_branded.isnull().sum()\n",
    "\n",
    "data_branded[\"product\"].value_counts()\n",
    "\n",
    "data_branded[data_branded['product'].isna()]\n",
    "\n",
    "apple_keywords = ['iPad', 'Apple', 'iPhone']\n",
    "google_keywords = ['Google', 'Android']\n",
    "\n",
    "for keyword in apple_keywords:\n",
    "    mask = (data_branded['product'].isna()) & (data_branded['unprocessed_tweet'].str.contains(keyword, case=False, na=False))\n",
    "    data_branded.loc[mask, 'product'] = 'Apple'\n",
    "\n",
    "for keyword in google_keywords:\n",
    "    mask = (data_branded['product'].isna()) & (data_branded['unprocessed_tweet'].str.contains(keyword, case=False, na=False))\n",
    "    data_branded.loc[mask, 'product'] = 'Google'\n",
    "\n",
    "data_branded.isnull().sum()\n",
    "\n",
    "data_branded.dropna()\n",
    "\n",
    "data_branded.dropna().to_csv(\"data/branded.csv\")"
   ]
  },
  {
   "cell_type": "code",
   "execution_count": 120,
   "metadata": {},
   "outputs": [
    {
     "data": {
      "text/plain": [
       "No emotion toward brand or product    5389\n",
       "Positive emotion                      2978\n",
       "Negative emotion                       570\n",
       "I can't tell                           156\n",
       "Name: emotion, dtype: int64"
      ]
     },
     "execution_count": 120,
     "metadata": {},
     "output_type": "execute_result"
    }
   ],
   "source": [
    "data_branded['emotion'].value_counts()"
   ]
  },
  {
   "cell_type": "code",
   "execution_count": 121,
   "metadata": {},
   "outputs": [
    {
     "data": {
      "text/plain": [
       "unprocessed_tweet      1\n",
       "product              762\n",
       "emotion                0\n",
       "processed_tweet        2\n",
       "dtype: int64"
      ]
     },
     "execution_count": 121,
     "metadata": {},
     "output_type": "execute_result"
    }
   ],
   "source": [
    "data_branded.isna().sum()"
   ]
  },
  {
   "cell_type": "code",
   "execution_count": 122,
   "metadata": {},
   "outputs": [],
   "source": [
    "data_branded.dropna(inplace=True)"
   ]
  },
  {
   "cell_type": "code",
   "execution_count": 134,
   "metadata": {},
   "outputs": [],
   "source": [
    "neutral_data = data_branded[data_branded[\"emotion\"] == 'No emotion toward brand or product']"
   ]
  },
  {
   "cell_type": "code",
   "execution_count": 205,
   "metadata": {},
   "outputs": [
    {
     "data": {
      "text/html": [
       "<div>\n",
       "<style scoped>\n",
       "    .dataframe tbody tr th:only-of-type {\n",
       "        vertical-align: middle;\n",
       "    }\n",
       "\n",
       "    .dataframe tbody tr th {\n",
       "        vertical-align: top;\n",
       "    }\n",
       "\n",
       "    .dataframe thead th {\n",
       "        text-align: right;\n",
       "    }\n",
       "</style>\n",
       "<table border=\"1\" class=\"dataframe\">\n",
       "  <thead>\n",
       "    <tr style=\"text-align: right;\">\n",
       "      <th></th>\n",
       "      <th>unprocessed_tweet</th>\n",
       "      <th>product</th>\n",
       "      <th>emotion</th>\n",
       "      <th>processed_tweet</th>\n",
       "      <th>emotion_encoded</th>\n",
       "    </tr>\n",
       "  </thead>\n",
       "  <tbody>\n",
       "    <tr>\n",
       "      <th>5</th>\n",
       "      <td>@teachntech00 New iPad Apps For #SpeechTherapy...</td>\n",
       "      <td>Apple</td>\n",
       "      <td>No emotion toward brand or product</td>\n",
       "      <td>teachntech new ipad apps speechtherapy communi...</td>\n",
       "      <td>1</td>\n",
       "    </tr>\n",
       "    <tr>\n",
       "      <th>16</th>\n",
       "      <td>Holler Gram for iPad on the iTunes App Store -...</td>\n",
       "      <td>Apple</td>\n",
       "      <td>No emotion toward brand or product</td>\n",
       "      <td>holler gram ipad itunes app store httptcokfnfq...</td>\n",
       "      <td>1</td>\n",
       "    </tr>\n",
       "    <tr>\n",
       "      <th>32</th>\n",
       "      <td>Attn: All  #SXSW frineds, @mention Register fo...</td>\n",
       "      <td>Google</td>\n",
       "      <td>No emotion toward brand or product</td>\n",
       "      <td>attn frineds register gdgtlive see cobra irada...</td>\n",
       "      <td>1</td>\n",
       "    </tr>\n",
       "    <tr>\n",
       "      <th>33</th>\n",
       "      <td>Anyone at  #sxsw want to sell their old iPad?</td>\n",
       "      <td>Apple</td>\n",
       "      <td>No emotion toward brand or product</td>\n",
       "      <td>anyone want sell old ipad</td>\n",
       "      <td>1</td>\n",
       "    </tr>\n",
       "    <tr>\n",
       "      <th>34</th>\n",
       "      <td>Anyone at  #SXSW who bought the new iPad want ...</td>\n",
       "      <td>Apple</td>\n",
       "      <td>No emotion toward brand or product</td>\n",
       "      <td>anyone buy new ipad want sell old ipad</td>\n",
       "      <td>1</td>\n",
       "    </tr>\n",
       "    <tr>\n",
       "      <th>35</th>\n",
       "      <td>At #sxsw.  Oooh. RT @mention Google to Launch ...</td>\n",
       "      <td>Google</td>\n",
       "      <td>No emotion toward brand or product</td>\n",
       "      <td>oooh google launch major new social network ca...</td>\n",
       "      <td>1</td>\n",
       "    </tr>\n",
       "    <tr>\n",
       "      <th>37</th>\n",
       "      <td>SPIN Play - a new concept in music discovery f...</td>\n",
       "      <td>Apple</td>\n",
       "      <td>No emotion toward brand or product</td>\n",
       "      <td>spin play new concept music discovery ipad amp...</td>\n",
       "      <td>1</td>\n",
       "    </tr>\n",
       "    <tr>\n",
       "      <th>39</th>\n",
       "      <td>VatorNews - Google And Apple Force Print Media...</td>\n",
       "      <td>Apple</td>\n",
       "      <td>No emotion toward brand or product</td>\n",
       "      <td>vatornews google apple force print medium evolve</td>\n",
       "      <td>1</td>\n",
       "    </tr>\n",
       "    <tr>\n",
       "      <th>41</th>\n",
       "      <td>HootSuite - HootSuite Mobile for #SXSW ~ Updat...</td>\n",
       "      <td>Apple</td>\n",
       "      <td>No emotion toward brand or product</td>\n",
       "      <td>hootsuite hootsuite mobile update iphone black...</td>\n",
       "      <td>1</td>\n",
       "    </tr>\n",
       "    <tr>\n",
       "      <th>42</th>\n",
       "      <td>Hey #SXSW - How long do you think it takes us ...</td>\n",
       "      <td>Apple</td>\n",
       "      <td>No emotion toward brand or product</td>\n",
       "      <td>hey long think take u make iphone case answer ...</td>\n",
       "      <td>1</td>\n",
       "    </tr>\n",
       "    <tr>\n",
       "      <th>43</th>\n",
       "      <td>Mashable! - The iPad 2 Takes Over SXSW [VIDEO]...</td>\n",
       "      <td>Apple</td>\n",
       "      <td>No emotion toward brand or product</td>\n",
       "      <td>mashable ipad take video ipad gadget</td>\n",
       "      <td>1</td>\n",
       "    </tr>\n",
       "    <tr>\n",
       "      <th>44</th>\n",
       "      <td>For I-Pad ?RT @mention New #UberSocial for #iP...</td>\n",
       "      <td>Apple</td>\n",
       "      <td>No emotion toward brand or product</td>\n",
       "      <td>ipad new ubersocial iphone app store include u...</td>\n",
       "      <td>1</td>\n",
       "    </tr>\n",
       "    <tr>\n",
       "      <th>48</th>\n",
       "      <td>Orly....? ÛÏ@mention Google set to launch new...</td>\n",
       "      <td>Google</td>\n",
       "      <td>No emotion toward brand or product</td>\n",
       "      <td>orly google set launch new social network circ...</td>\n",
       "      <td>1</td>\n",
       "    </tr>\n",
       "    <tr>\n",
       "      <th>50</th>\n",
       "      <td>Khoi Vinh (@mention says Conde Nast's headlong...</td>\n",
       "      <td>Apple</td>\n",
       "      <td>No emotion toward brand or product</td>\n",
       "      <td>khoi vinh say conde nast headlong rush ipad pu...</td>\n",
       "      <td>1</td>\n",
       "    </tr>\n",
       "    <tr>\n",
       "      <th>54</th>\n",
       "      <td>ÛÏ@mention @mention #Google Will Connect the ...</td>\n",
       "      <td>Google</td>\n",
       "      <td>No emotion toward brand or product</td>\n",
       "      <td>google connect digital amp physical world mobile</td>\n",
       "      <td>1</td>\n",
       "    </tr>\n",
       "    <tr>\n",
       "      <th>56</th>\n",
       "      <td>{link} RT @mention &amp;quot;Google before you twe...</td>\n",
       "      <td>Google</td>\n",
       "      <td>No emotion toward brand or product</td>\n",
       "      <td>quotgoogle tweetquot new quotthink speakquot m...</td>\n",
       "      <td>1</td>\n",
       "    </tr>\n",
       "    <tr>\n",
       "      <th>58</th>\n",
       "      <td>{link} RT @mention Those at #SXSW check out th...</td>\n",
       "      <td>Apple</td>\n",
       "      <td>No emotion toward brand or product</td>\n",
       "      <td>check holler gram ipad app</td>\n",
       "      <td>1</td>\n",
       "    </tr>\n",
       "    <tr>\n",
       "      <th>59</th>\n",
       "      <td>@mention  @mention &amp;amp;  @mention having fun ...</td>\n",
       "      <td>Google</td>\n",
       "      <td>No emotion toward brand or product</td>\n",
       "      <td>amp fun google pic</td>\n",
       "      <td>1</td>\n",
       "    </tr>\n",
       "    <tr>\n",
       "      <th>60</th>\n",
       "      <td>&amp;quot;via @mention : {link} Guy Kawasaki talks...</td>\n",
       "      <td>Apple</td>\n",
       "      <td>No emotion toward brand or product</td>\n",
       "      <td>quotvia guy kawasaki talk enchant know stuff b...</td>\n",
       "      <td>1</td>\n",
       "    </tr>\n",
       "    <tr>\n",
       "      <th>61</th>\n",
       "      <td>#futuremf @mention {link} spec for recipes on ...</td>\n",
       "      <td>Google</td>\n",
       "      <td>No emotion toward brand or product</td>\n",
       "      <td>futuremf spec recipes web google search</td>\n",
       "      <td>1</td>\n",
       "    </tr>\n",
       "    <tr>\n",
       "      <th>63</th>\n",
       "      <td>#Smile RT @mention I think Apple's &amp;quot;pop-u...</td>\n",
       "      <td>Apple</td>\n",
       "      <td>No emotion toward brand or product</td>\n",
       "      <td>smile think apple quotpopup storequot austin w...</td>\n",
       "      <td>1</td>\n",
       "    </tr>\n",
       "    <tr>\n",
       "      <th>65</th>\n",
       "      <td>Agree. RT @mention Wait. FIONA APPLE is in tow...</td>\n",
       "      <td>Apple</td>\n",
       "      <td>No emotion toward brand or product</td>\n",
       "      <td>agree wait fiona apple town somebody kidnap pu...</td>\n",
       "      <td>1</td>\n",
       "    </tr>\n",
       "    <tr>\n",
       "      <th>70</th>\n",
       "      <td>Check! RT @mention giving added value to locat...</td>\n",
       "      <td>Google</td>\n",
       "      <td>No emotion toward brand or product</td>\n",
       "      <td>check give add value location base service nee...</td>\n",
       "      <td>1</td>\n",
       "    </tr>\n",
       "    <tr>\n",
       "      <th>74</th>\n",
       "      <td>Ha.ha. RT @mention #SXSW News: Yahoo.com is lo...</td>\n",
       "      <td>Google</td>\n",
       "      <td>No emotion toward brand or product</td>\n",
       "      <td>haha news yahoocom loose search traffic new si...</td>\n",
       "      <td>1</td>\n",
       "    </tr>\n",
       "    <tr>\n",
       "      <th>78</th>\n",
       "      <td>iPad2? RT @mention Droid &amp;amp; Mac here :) RT ...</td>\n",
       "      <td>Apple</td>\n",
       "      <td>No emotion toward brand or product</td>\n",
       "      <td>ipad droid amp mac agnerd confession use lapto...</td>\n",
       "      <td>1</td>\n",
       "    </tr>\n",
       "    <tr>\n",
       "      <th>82</th>\n",
       "      <td>Nice!  RT @mention Apple opening popup store f...</td>\n",
       "      <td>Apple</td>\n",
       "      <td>No emotion toward brand or product</td>\n",
       "      <td>nice apple open popup store ipad launch downto...</td>\n",
       "      <td>1</td>\n",
       "    </tr>\n",
       "    <tr>\n",
       "      <th>93</th>\n",
       "      <td>Wonder if @mention &amp;amp; @mention will be in t...</td>\n",
       "      <td>Apple</td>\n",
       "      <td>No emotion toward brand or product</td>\n",
       "      <td>wonder amp apple flashmob tcrnchfcsj ipad</td>\n",
       "      <td>1</td>\n",
       "    </tr>\n",
       "    <tr>\n",
       "      <th>99</th>\n",
       "      <td>GSD&amp;amp;M &amp;amp; Google's Industry Party Tonigh...</td>\n",
       "      <td>Google</td>\n",
       "      <td>No emotion toward brand or product</td>\n",
       "      <td>gsdampm amp google industry party tonight see ...</td>\n",
       "      <td>1</td>\n",
       "    </tr>\n",
       "    <tr>\n",
       "      <th>100</th>\n",
       "      <td>New buzz? &amp;quot;@mention Google to Launch Majo...</td>\n",
       "      <td>Google</td>\n",
       "      <td>No emotion toward brand or product</td>\n",
       "      <td>new buzz quotmention google launch major new s...</td>\n",
       "      <td>1</td>\n",
       "    </tr>\n",
       "    <tr>\n",
       "      <th>105</th>\n",
       "      <td>.@mention &amp;quot;Google launched checkins a mon...</td>\n",
       "      <td>Google</td>\n",
       "      <td>No emotion toward brand or product</td>\n",
       "      <td>quotgoogle launch checkins month agoquot check...</td>\n",
       "      <td>1</td>\n",
       "    </tr>\n",
       "  </tbody>\n",
       "</table>\n",
       "</div>"
      ],
      "text/plain": [
       "                                     unprocessed_tweet product  \\\n",
       "5    @teachntech00 New iPad Apps For #SpeechTherapy...   Apple   \n",
       "16   Holler Gram for iPad on the iTunes App Store -...   Apple   \n",
       "32   Attn: All  #SXSW frineds, @mention Register fo...  Google   \n",
       "33       Anyone at  #sxsw want to sell their old iPad?   Apple   \n",
       "34   Anyone at  #SXSW who bought the new iPad want ...   Apple   \n",
       "35   At #sxsw.  Oooh. RT @mention Google to Launch ...  Google   \n",
       "37   SPIN Play - a new concept in music discovery f...   Apple   \n",
       "39   VatorNews - Google And Apple Force Print Media...   Apple   \n",
       "41   HootSuite - HootSuite Mobile for #SXSW ~ Updat...   Apple   \n",
       "42   Hey #SXSW - How long do you think it takes us ...   Apple   \n",
       "43   Mashable! - The iPad 2 Takes Over SXSW [VIDEO]...   Apple   \n",
       "44   For I-Pad ?RT @mention New #UberSocial for #iP...   Apple   \n",
       "48   Orly....? ÛÏ@mention Google set to launch new...  Google   \n",
       "50   Khoi Vinh (@mention says Conde Nast's headlong...   Apple   \n",
       "54   ÛÏ@mention @mention #Google Will Connect the ...  Google   \n",
       "56   {link} RT @mention &quot;Google before you twe...  Google   \n",
       "58   {link} RT @mention Those at #SXSW check out th...   Apple   \n",
       "59   @mention  @mention &amp;  @mention having fun ...  Google   \n",
       "60   &quot;via @mention : {link} Guy Kawasaki talks...   Apple   \n",
       "61   #futuremf @mention {link} spec for recipes on ...  Google   \n",
       "63   #Smile RT @mention I think Apple's &quot;pop-u...   Apple   \n",
       "65   Agree. RT @mention Wait. FIONA APPLE is in tow...   Apple   \n",
       "70   Check! RT @mention giving added value to locat...  Google   \n",
       "74   Ha.ha. RT @mention #SXSW News: Yahoo.com is lo...  Google   \n",
       "78   iPad2? RT @mention Droid &amp; Mac here :) RT ...   Apple   \n",
       "82   Nice!  RT @mention Apple opening popup store f...   Apple   \n",
       "93   Wonder if @mention &amp; @mention will be in t...   Apple   \n",
       "99   GSD&amp;M &amp; Google's Industry Party Tonigh...  Google   \n",
       "100  New buzz? &quot;@mention Google to Launch Majo...  Google   \n",
       "105  .@mention &quot;Google launched checkins a mon...  Google   \n",
       "\n",
       "                                emotion  \\\n",
       "5    No emotion toward brand or product   \n",
       "16   No emotion toward brand or product   \n",
       "32   No emotion toward brand or product   \n",
       "33   No emotion toward brand or product   \n",
       "34   No emotion toward brand or product   \n",
       "35   No emotion toward brand or product   \n",
       "37   No emotion toward brand or product   \n",
       "39   No emotion toward brand or product   \n",
       "41   No emotion toward brand or product   \n",
       "42   No emotion toward brand or product   \n",
       "43   No emotion toward brand or product   \n",
       "44   No emotion toward brand or product   \n",
       "48   No emotion toward brand or product   \n",
       "50   No emotion toward brand or product   \n",
       "54   No emotion toward brand or product   \n",
       "56   No emotion toward brand or product   \n",
       "58   No emotion toward brand or product   \n",
       "59   No emotion toward brand or product   \n",
       "60   No emotion toward brand or product   \n",
       "61   No emotion toward brand or product   \n",
       "63   No emotion toward brand or product   \n",
       "65   No emotion toward brand or product   \n",
       "70   No emotion toward brand or product   \n",
       "74   No emotion toward brand or product   \n",
       "78   No emotion toward brand or product   \n",
       "82   No emotion toward brand or product   \n",
       "93   No emotion toward brand or product   \n",
       "99   No emotion toward brand or product   \n",
       "100  No emotion toward brand or product   \n",
       "105  No emotion toward brand or product   \n",
       "\n",
       "                                       processed_tweet  emotion_encoded  \n",
       "5    teachntech new ipad apps speechtherapy communi...                1  \n",
       "16   holler gram ipad itunes app store httptcokfnfq...                1  \n",
       "32   attn frineds register gdgtlive see cobra irada...                1  \n",
       "33                           anyone want sell old ipad                1  \n",
       "34              anyone buy new ipad want sell old ipad                1  \n",
       "35   oooh google launch major new social network ca...                1  \n",
       "37   spin play new concept music discovery ipad amp...                1  \n",
       "39    vatornews google apple force print medium evolve                1  \n",
       "41   hootsuite hootsuite mobile update iphone black...                1  \n",
       "42   hey long think take u make iphone case answer ...                1  \n",
       "43                mashable ipad take video ipad gadget                1  \n",
       "44   ipad new ubersocial iphone app store include u...                1  \n",
       "48   orly google set launch new social network circ...                1  \n",
       "50   khoi vinh say conde nast headlong rush ipad pu...                1  \n",
       "54    google connect digital amp physical world mobile                1  \n",
       "56   quotgoogle tweetquot new quotthink speakquot m...                1  \n",
       "58                          check holler gram ipad app                1  \n",
       "59                                  amp fun google pic                1  \n",
       "60   quotvia guy kawasaki talk enchant know stuff b...                1  \n",
       "61             futuremf spec recipes web google search                1  \n",
       "63   smile think apple quotpopup storequot austin w...                1  \n",
       "65   agree wait fiona apple town somebody kidnap pu...                1  \n",
       "70   check give add value location base service nee...                1  \n",
       "74   haha news yahoocom loose search traffic new si...                1  \n",
       "78   ipad droid amp mac agnerd confession use lapto...                1  \n",
       "82   nice apple open popup store ipad launch downto...                1  \n",
       "93           wonder amp apple flashmob tcrnchfcsj ipad                1  \n",
       "99   gsdampm amp google industry party tonight see ...                1  \n",
       "100  new buzz quotmention google launch major new s...                1  \n",
       "105  quotgoogle launch checkins month agoquot check...                1  "
      ]
     },
     "execution_count": 205,
     "metadata": {},
     "output_type": "execute_result"
    }
   ],
   "source": [
    "neutral_data.head(30)"
   ]
  },
  {
   "cell_type": "code",
   "execution_count": 228,
   "metadata": {},
   "outputs": [
    {
     "data": {
      "text/plain": [
       "'.@mention &quot;Google launched checkins a month ago.&quot; Check ins are ok, but CHECK OUTS are the future. #sxsw #Bizzy (via @mention'"
      ]
     },
     "execution_count": 228,
     "metadata": {},
     "output_type": "execute_result"
    }
   ],
   "source": [
    "neutral_df['unprocessed_tweet'][105]"
   ]
  },
  {
   "cell_type": "code",
   "execution_count": 136,
   "metadata": {},
   "outputs": [],
   "source": [
    "neutral_test = neutral_data['processed_tweet']"
   ]
  },
  {
   "cell_type": "code",
   "execution_count": null,
   "metadata": {},
   "outputs": [],
   "source": []
  },
  {
   "cell_type": "code",
   "execution_count": 126,
   "metadata": {},
   "outputs": [
    {
     "data": {
      "text/plain": [
       "0"
      ]
     },
     "execution_count": 126,
     "metadata": {},
     "output_type": "execute_result"
    }
   ],
   "source": [
    "neutral_test.isna().sum()"
   ]
  },
  {
   "cell_type": "code",
   "execution_count": 127,
   "metadata": {},
   "outputs": [
    {
     "data": {
      "text/plain": [
       "array([1, 1, 1, ..., 1, 1, 1])"
      ]
     },
     "execution_count": 127,
     "metadata": {},
     "output_type": "execute_result"
    }
   ],
   "source": [
    "y_pred_neutral = bin_forest_grid.predict(neutral_test)\n",
    "y_pred_neutral"
   ]
  },
  {
   "cell_type": "code",
   "execution_count": 139,
   "metadata": {},
   "outputs": [
    {
     "data": {
      "text/html": [
       "<div>\n",
       "<style scoped>\n",
       "    .dataframe tbody tr th:only-of-type {\n",
       "        vertical-align: middle;\n",
       "    }\n",
       "\n",
       "    .dataframe tbody tr th {\n",
       "        vertical-align: top;\n",
       "    }\n",
       "\n",
       "    .dataframe thead th {\n",
       "        text-align: right;\n",
       "    }\n",
       "</style>\n",
       "<table border=\"1\" class=\"dataframe\">\n",
       "  <thead>\n",
       "    <tr style=\"text-align: right;\">\n",
       "      <th></th>\n",
       "      <th>unprocessed_tweet</th>\n",
       "      <th>product</th>\n",
       "      <th>emotion</th>\n",
       "      <th>processed_tweet</th>\n",
       "    </tr>\n",
       "  </thead>\n",
       "  <tbody>\n",
       "    <tr>\n",
       "      <th>5</th>\n",
       "      <td>@teachntech00 New iPad Apps For #SpeechTherapy...</td>\n",
       "      <td>Apple</td>\n",
       "      <td>No emotion toward brand or product</td>\n",
       "      <td>teachntech new ipad apps speechtherapy communi...</td>\n",
       "    </tr>\n",
       "    <tr>\n",
       "      <th>16</th>\n",
       "      <td>Holler Gram for iPad on the iTunes App Store -...</td>\n",
       "      <td>Apple</td>\n",
       "      <td>No emotion toward brand or product</td>\n",
       "      <td>holler gram ipad itunes app store httptcokfnfq...</td>\n",
       "    </tr>\n",
       "    <tr>\n",
       "      <th>32</th>\n",
       "      <td>Attn: All  #SXSW frineds, @mention Register fo...</td>\n",
       "      <td>Google</td>\n",
       "      <td>No emotion toward brand or product</td>\n",
       "      <td>attn frineds register gdgtlive see cobra irada...</td>\n",
       "    </tr>\n",
       "    <tr>\n",
       "      <th>33</th>\n",
       "      <td>Anyone at  #sxsw want to sell their old iPad?</td>\n",
       "      <td>Apple</td>\n",
       "      <td>No emotion toward brand or product</td>\n",
       "      <td>anyone want sell old ipad</td>\n",
       "    </tr>\n",
       "    <tr>\n",
       "      <th>34</th>\n",
       "      <td>Anyone at  #SXSW who bought the new iPad want ...</td>\n",
       "      <td>Apple</td>\n",
       "      <td>No emotion toward brand or product</td>\n",
       "      <td>anyone buy new ipad want sell old ipad</td>\n",
       "    </tr>\n",
       "    <tr>\n",
       "      <th>...</th>\n",
       "      <td>...</td>\n",
       "      <td>...</td>\n",
       "      <td>...</td>\n",
       "      <td>...</td>\n",
       "    </tr>\n",
       "    <tr>\n",
       "      <th>9087</th>\n",
       "      <td>@mention Yup, but I don't have a third app yet...</td>\n",
       "      <td>Google</td>\n",
       "      <td>No emotion toward brand or product</td>\n",
       "      <td>yup third app yet im android suggestion cc</td>\n",
       "    </tr>\n",
       "    <tr>\n",
       "      <th>9089</th>\n",
       "      <td>Wave, buzz... RT @mention We interrupt your re...</td>\n",
       "      <td>Google</td>\n",
       "      <td>No emotion toward brand or product</td>\n",
       "      <td>wave buzz interrupt regularly schedule geek pr...</td>\n",
       "    </tr>\n",
       "    <tr>\n",
       "      <th>9090</th>\n",
       "      <td>Google's Zeiger, a physician never reported po...</td>\n",
       "      <td>Google</td>\n",
       "      <td>No emotion toward brand or product</td>\n",
       "      <td>google zeiger physician never report potential...</td>\n",
       "    </tr>\n",
       "    <tr>\n",
       "      <th>9091</th>\n",
       "      <td>Some Verizon iPhone customers complained their...</td>\n",
       "      <td>Apple</td>\n",
       "      <td>No emotion toward brand or product</td>\n",
       "      <td>verizon iphone customer complain time fell bac...</td>\n",
       "    </tr>\n",
       "    <tr>\n",
       "      <th>9092</th>\n",
       "      <td>Ï¡Ïàü_ÊÎÒ£Áââ_£â_ÛâRT @...</td>\n",
       "      <td>Google</td>\n",
       "      <td>No emotion toward brand or product</td>\n",
       "      <td>google test checkin offer</td>\n",
       "    </tr>\n",
       "  </tbody>\n",
       "</table>\n",
       "<p>4647 rows × 4 columns</p>\n",
       "</div>"
      ],
      "text/plain": [
       "                                      unprocessed_tweet product  \\\n",
       "5     @teachntech00 New iPad Apps For #SpeechTherapy...   Apple   \n",
       "16    Holler Gram for iPad on the iTunes App Store -...   Apple   \n",
       "32    Attn: All  #SXSW frineds, @mention Register fo...  Google   \n",
       "33        Anyone at  #sxsw want to sell their old iPad?   Apple   \n",
       "34    Anyone at  #SXSW who bought the new iPad want ...   Apple   \n",
       "...                                                 ...     ...   \n",
       "9087  @mention Yup, but I don't have a third app yet...  Google   \n",
       "9089  Wave, buzz... RT @mention We interrupt your re...  Google   \n",
       "9090  Google's Zeiger, a physician never reported po...  Google   \n",
       "9091  Some Verizon iPhone customers complained their...   Apple   \n",
       "9092  Ï¡Ïàü_ÊÎÒ£Áââ_£â_ÛâRT @...  Google   \n",
       "\n",
       "                                 emotion  \\\n",
       "5     No emotion toward brand or product   \n",
       "16    No emotion toward brand or product   \n",
       "32    No emotion toward brand or product   \n",
       "33    No emotion toward brand or product   \n",
       "34    No emotion toward brand or product   \n",
       "...                                  ...   \n",
       "9087  No emotion toward brand or product   \n",
       "9089  No emotion toward brand or product   \n",
       "9090  No emotion toward brand or product   \n",
       "9091  No emotion toward brand or product   \n",
       "9092  No emotion toward brand or product   \n",
       "\n",
       "                                        processed_tweet  \n",
       "5     teachntech new ipad apps speechtherapy communi...  \n",
       "16    holler gram ipad itunes app store httptcokfnfq...  \n",
       "32    attn frineds register gdgtlive see cobra irada...  \n",
       "33                            anyone want sell old ipad  \n",
       "34               anyone buy new ipad want sell old ipad  \n",
       "...                                                 ...  \n",
       "9087         yup third app yet im android suggestion cc  \n",
       "9089  wave buzz interrupt regularly schedule geek pr...  \n",
       "9090  google zeiger physician never report potential...  \n",
       "9091  verizon iphone customer complain time fell bac...  \n",
       "9092                          google test checkin offer  \n",
       "\n",
       "[4647 rows x 4 columns]"
      ]
     },
     "execution_count": 139,
     "metadata": {},
     "output_type": "execute_result"
    }
   ],
   "source": [
    "neutral_df = neutral_data\n",
    "neutral_data"
   ]
  },
  {
   "cell_type": "code",
   "execution_count": 204,
   "metadata": {},
   "outputs": [
    {
     "data": {
      "text/plain": [
       "'SPIN Play - a new concept in music discovery for your iPad from @mention &amp; spin.com {link} #iTunes #sxsw @mention'"
      ]
     },
     "execution_count": 204,
     "metadata": {},
     "output_type": "execute_result"
    }
   ],
   "source": []
  },
  {
   "cell_type": "code",
   "execution_count": 140,
   "metadata": {},
   "outputs": [
    {
     "data": {
      "text/plain": [
       "5       teachntech new ipad apps speechtherapy communi...\n",
       "16      holler gram ipad itunes app store httptcokfnfq...\n",
       "32      attn frineds register gdgtlive see cobra irada...\n",
       "33                              anyone want sell old ipad\n",
       "34                 anyone buy new ipad want sell old ipad\n",
       "                              ...                        \n",
       "9087           yup third app yet im android suggestion cc\n",
       "9089    wave buzz interrupt regularly schedule geek pr...\n",
       "9090    google zeiger physician never report potential...\n",
       "9091    verizon iphone customer complain time fell bac...\n",
       "9092                            google test checkin offer\n",
       "Name: processed_tweet, Length: 4647, dtype: object"
      ]
     },
     "execution_count": 140,
     "metadata": {},
     "output_type": "execute_result"
    }
   ],
   "source": [
    "neutral_test"
   ]
  },
  {
   "cell_type": "code",
   "execution_count": null,
   "metadata": {},
   "outputs": [],
   "source": []
  },
  {
   "cell_type": "code",
   "execution_count": 141,
   "metadata": {},
   "outputs": [
    {
     "name": "stderr",
     "output_type": "stream",
     "text": [
      "<ipython-input-141-2f5b99619a49>:1: SettingWithCopyWarning: \n",
      "A value is trying to be set on a copy of a slice from a DataFrame.\n",
      "Try using .loc[row_indexer,col_indexer] = value instead\n",
      "\n",
      "See the caveats in the documentation: https://pandas.pydata.org/pandas-docs/stable/user_guide/indexing.html#returning-a-view-versus-a-copy\n",
      "  neutral_df['emotion_encoded'] = y_pred_neutral\n"
     ]
    },
    {
     "data": {
      "text/html": [
       "<div>\n",
       "<style scoped>\n",
       "    .dataframe tbody tr th:only-of-type {\n",
       "        vertical-align: middle;\n",
       "    }\n",
       "\n",
       "    .dataframe tbody tr th {\n",
       "        vertical-align: top;\n",
       "    }\n",
       "\n",
       "    .dataframe thead th {\n",
       "        text-align: right;\n",
       "    }\n",
       "</style>\n",
       "<table border=\"1\" class=\"dataframe\">\n",
       "  <thead>\n",
       "    <tr style=\"text-align: right;\">\n",
       "      <th></th>\n",
       "      <th>unprocessed_tweet</th>\n",
       "      <th>product</th>\n",
       "      <th>emotion</th>\n",
       "      <th>processed_tweet</th>\n",
       "      <th>emotion_encoded</th>\n",
       "    </tr>\n",
       "  </thead>\n",
       "  <tbody>\n",
       "    <tr>\n",
       "      <th>5</th>\n",
       "      <td>@teachntech00 New iPad Apps For #SpeechTherapy...</td>\n",
       "      <td>Apple</td>\n",
       "      <td>No emotion toward brand or product</td>\n",
       "      <td>teachntech new ipad apps speechtherapy communi...</td>\n",
       "      <td>1</td>\n",
       "    </tr>\n",
       "    <tr>\n",
       "      <th>16</th>\n",
       "      <td>Holler Gram for iPad on the iTunes App Store -...</td>\n",
       "      <td>Apple</td>\n",
       "      <td>No emotion toward brand or product</td>\n",
       "      <td>holler gram ipad itunes app store httptcokfnfq...</td>\n",
       "      <td>1</td>\n",
       "    </tr>\n",
       "    <tr>\n",
       "      <th>32</th>\n",
       "      <td>Attn: All  #SXSW frineds, @mention Register fo...</td>\n",
       "      <td>Google</td>\n",
       "      <td>No emotion toward brand or product</td>\n",
       "      <td>attn frineds register gdgtlive see cobra irada...</td>\n",
       "      <td>1</td>\n",
       "    </tr>\n",
       "    <tr>\n",
       "      <th>33</th>\n",
       "      <td>Anyone at  #sxsw want to sell their old iPad?</td>\n",
       "      <td>Apple</td>\n",
       "      <td>No emotion toward brand or product</td>\n",
       "      <td>anyone want sell old ipad</td>\n",
       "      <td>1</td>\n",
       "    </tr>\n",
       "    <tr>\n",
       "      <th>34</th>\n",
       "      <td>Anyone at  #SXSW who bought the new iPad want ...</td>\n",
       "      <td>Apple</td>\n",
       "      <td>No emotion toward brand or product</td>\n",
       "      <td>anyone buy new ipad want sell old ipad</td>\n",
       "      <td>1</td>\n",
       "    </tr>\n",
       "    <tr>\n",
       "      <th>...</th>\n",
       "      <td>...</td>\n",
       "      <td>...</td>\n",
       "      <td>...</td>\n",
       "      <td>...</td>\n",
       "      <td>...</td>\n",
       "    </tr>\n",
       "    <tr>\n",
       "      <th>9087</th>\n",
       "      <td>@mention Yup, but I don't have a third app yet...</td>\n",
       "      <td>Google</td>\n",
       "      <td>No emotion toward brand or product</td>\n",
       "      <td>yup third app yet im android suggestion cc</td>\n",
       "      <td>1</td>\n",
       "    </tr>\n",
       "    <tr>\n",
       "      <th>9089</th>\n",
       "      <td>Wave, buzz... RT @mention We interrupt your re...</td>\n",
       "      <td>Google</td>\n",
       "      <td>No emotion toward brand or product</td>\n",
       "      <td>wave buzz interrupt regularly schedule geek pr...</td>\n",
       "      <td>1</td>\n",
       "    </tr>\n",
       "    <tr>\n",
       "      <th>9090</th>\n",
       "      <td>Google's Zeiger, a physician never reported po...</td>\n",
       "      <td>Google</td>\n",
       "      <td>No emotion toward brand or product</td>\n",
       "      <td>google zeiger physician never report potential...</td>\n",
       "      <td>1</td>\n",
       "    </tr>\n",
       "    <tr>\n",
       "      <th>9091</th>\n",
       "      <td>Some Verizon iPhone customers complained their...</td>\n",
       "      <td>Apple</td>\n",
       "      <td>No emotion toward brand or product</td>\n",
       "      <td>verizon iphone customer complain time fell bac...</td>\n",
       "      <td>1</td>\n",
       "    </tr>\n",
       "    <tr>\n",
       "      <th>9092</th>\n",
       "      <td>Ï¡Ïàü_ÊÎÒ£Áââ_£â_ÛâRT @...</td>\n",
       "      <td>Google</td>\n",
       "      <td>No emotion toward brand or product</td>\n",
       "      <td>google test checkin offer</td>\n",
       "      <td>1</td>\n",
       "    </tr>\n",
       "  </tbody>\n",
       "</table>\n",
       "<p>4647 rows × 5 columns</p>\n",
       "</div>"
      ],
      "text/plain": [
       "                                      unprocessed_tweet product  \\\n",
       "5     @teachntech00 New iPad Apps For #SpeechTherapy...   Apple   \n",
       "16    Holler Gram for iPad on the iTunes App Store -...   Apple   \n",
       "32    Attn: All  #SXSW frineds, @mention Register fo...  Google   \n",
       "33        Anyone at  #sxsw want to sell their old iPad?   Apple   \n",
       "34    Anyone at  #SXSW who bought the new iPad want ...   Apple   \n",
       "...                                                 ...     ...   \n",
       "9087  @mention Yup, but I don't have a third app yet...  Google   \n",
       "9089  Wave, buzz... RT @mention We interrupt your re...  Google   \n",
       "9090  Google's Zeiger, a physician never reported po...  Google   \n",
       "9091  Some Verizon iPhone customers complained their...   Apple   \n",
       "9092  Ï¡Ïàü_ÊÎÒ£Áââ_£â_ÛâRT @...  Google   \n",
       "\n",
       "                                 emotion  \\\n",
       "5     No emotion toward brand or product   \n",
       "16    No emotion toward brand or product   \n",
       "32    No emotion toward brand or product   \n",
       "33    No emotion toward brand or product   \n",
       "34    No emotion toward brand or product   \n",
       "...                                  ...   \n",
       "9087  No emotion toward brand or product   \n",
       "9089  No emotion toward brand or product   \n",
       "9090  No emotion toward brand or product   \n",
       "9091  No emotion toward brand or product   \n",
       "9092  No emotion toward brand or product   \n",
       "\n",
       "                                        processed_tweet  emotion_encoded  \n",
       "5     teachntech new ipad apps speechtherapy communi...                1  \n",
       "16    holler gram ipad itunes app store httptcokfnfq...                1  \n",
       "32    attn frineds register gdgtlive see cobra irada...                1  \n",
       "33                            anyone want sell old ipad                1  \n",
       "34               anyone buy new ipad want sell old ipad                1  \n",
       "...                                                 ...              ...  \n",
       "9087         yup third app yet im android suggestion cc                1  \n",
       "9089  wave buzz interrupt regularly schedule geek pr...                1  \n",
       "9090  google zeiger physician never report potential...                1  \n",
       "9091  verizon iphone customer complain time fell bac...                1  \n",
       "9092                          google test checkin offer                1  \n",
       "\n",
       "[4647 rows x 5 columns]"
      ]
     },
     "execution_count": 141,
     "metadata": {},
     "output_type": "execute_result"
    }
   ],
   "source": [
    "neutral_df['emotion_encoded'] = y_pred_neutral\n",
    "neutral_df"
   ]
  },
  {
   "cell_type": "code",
   "execution_count": 147,
   "metadata": {},
   "outputs": [
    {
     "data": {
      "text/plain": [
       "Apple     2875\n",
       "Google    1772\n",
       "Name: product, dtype: int64"
      ]
     },
     "execution_count": 147,
     "metadata": {},
     "output_type": "execute_result"
    }
   ],
   "source": [
    "neutral_df['product'].value_counts()"
   ]
  },
  {
   "cell_type": "code",
   "execution_count": 151,
   "metadata": {},
   "outputs": [
    {
     "data": {
      "text/html": [
       "<div>\n",
       "<style scoped>\n",
       "    .dataframe tbody tr th:only-of-type {\n",
       "        vertical-align: middle;\n",
       "    }\n",
       "\n",
       "    .dataframe tbody tr th {\n",
       "        vertical-align: top;\n",
       "    }\n",
       "\n",
       "    .dataframe thead th {\n",
       "        text-align: right;\n",
       "    }\n",
       "</style>\n",
       "<table border=\"1\" class=\"dataframe\">\n",
       "  <thead>\n",
       "    <tr style=\"text-align: right;\">\n",
       "      <th></th>\n",
       "      <th>emotion_encoded</th>\n",
       "      <th>product</th>\n",
       "    </tr>\n",
       "  </thead>\n",
       "  <tbody>\n",
       "    <tr>\n",
       "      <th>5</th>\n",
       "      <td>1</td>\n",
       "      <td>Apple</td>\n",
       "    </tr>\n",
       "    <tr>\n",
       "      <th>16</th>\n",
       "      <td>1</td>\n",
       "      <td>Apple</td>\n",
       "    </tr>\n",
       "    <tr>\n",
       "      <th>32</th>\n",
       "      <td>1</td>\n",
       "      <td>Google</td>\n",
       "    </tr>\n",
       "    <tr>\n",
       "      <th>33</th>\n",
       "      <td>1</td>\n",
       "      <td>Apple</td>\n",
       "    </tr>\n",
       "    <tr>\n",
       "      <th>34</th>\n",
       "      <td>1</td>\n",
       "      <td>Apple</td>\n",
       "    </tr>\n",
       "    <tr>\n",
       "      <th>...</th>\n",
       "      <td>...</td>\n",
       "      <td>...</td>\n",
       "    </tr>\n",
       "    <tr>\n",
       "      <th>9087</th>\n",
       "      <td>1</td>\n",
       "      <td>Google</td>\n",
       "    </tr>\n",
       "    <tr>\n",
       "      <th>9089</th>\n",
       "      <td>1</td>\n",
       "      <td>Google</td>\n",
       "    </tr>\n",
       "    <tr>\n",
       "      <th>9090</th>\n",
       "      <td>1</td>\n",
       "      <td>Google</td>\n",
       "    </tr>\n",
       "    <tr>\n",
       "      <th>9091</th>\n",
       "      <td>1</td>\n",
       "      <td>Apple</td>\n",
       "    </tr>\n",
       "    <tr>\n",
       "      <th>9092</th>\n",
       "      <td>1</td>\n",
       "      <td>Google</td>\n",
       "    </tr>\n",
       "  </tbody>\n",
       "</table>\n",
       "<p>4647 rows × 2 columns</p>\n",
       "</div>"
      ],
      "text/plain": [
       "      emotion_encoded product\n",
       "5                   1   Apple\n",
       "16                  1   Apple\n",
       "32                  1  Google\n",
       "33                  1   Apple\n",
       "34                  1   Apple\n",
       "...               ...     ...\n",
       "9087                1  Google\n",
       "9089                1  Google\n",
       "9090                1  Google\n",
       "9091                1   Apple\n",
       "9092                1  Google\n",
       "\n",
       "[4647 rows x 2 columns]"
      ]
     },
     "execution_count": 151,
     "metadata": {},
     "output_type": "execute_result"
    }
   ],
   "source": [
    "n_sentiment = neutral_df[['emotion_encoded', 'product']]\n",
    "n_sentiment"
   ]
  },
  {
   "cell_type": "code",
   "execution_count": 153,
   "metadata": {},
   "outputs": [
    {
     "data": {
      "text/plain": [
       "1    2753\n",
       "0     122\n",
       "Name: emotion_encoded, dtype: int64"
      ]
     },
     "execution_count": 153,
     "metadata": {},
     "output_type": "execute_result"
    }
   ],
   "source": [
    "n_apple = n_sentiment[n_sentiment['product'] == 'Apple']\n",
    "n_apple['emotion_encoded'].value_counts()"
   ]
  },
  {
   "cell_type": "code",
   "execution_count": 154,
   "metadata": {},
   "outputs": [
    {
     "data": {
      "text/plain": [
       "1    1654\n",
       "0     118\n",
       "Name: emotion_encoded, dtype: int64"
      ]
     },
     "execution_count": 154,
     "metadata": {},
     "output_type": "execute_result"
    }
   ],
   "source": [
    "n_google = n_sentiment[n_sentiment['product'] == 'Google']\n",
    "n_google['emotion_encoded'].value_counts()"
   ]
  },
  {
   "cell_type": "code",
   "execution_count": 169,
   "metadata": {},
   "outputs": [],
   "source": [
    "apple_t = len(n_apple)\n",
    "apple_p = 2753/apple_t\n",
    "apple_n = 1 - apple_p"
   ]
  },
  {
   "cell_type": "code",
   "execution_count": 170,
   "metadata": {},
   "outputs": [],
   "source": [
    "google_t = len(n_google)\n",
    "google_p = 1654/google_t\n",
    "google_n = 1 - google_p"
   ]
  },
  {
   "cell_type": "code",
   "execution_count": 177,
   "metadata": {},
   "outputs": [
    {
     "data": {
      "text/html": [
       "<div>\n",
       "<style scoped>\n",
       "    .dataframe tbody tr th:only-of-type {\n",
       "        vertical-align: middle;\n",
       "    }\n",
       "\n",
       "    .dataframe tbody tr th {\n",
       "        vertical-align: top;\n",
       "    }\n",
       "\n",
       "    .dataframe thead th {\n",
       "        text-align: right;\n",
       "    }\n",
       "</style>\n",
       "<table border=\"1\" class=\"dataframe\">\n",
       "  <thead>\n",
       "    <tr style=\"text-align: right;\">\n",
       "      <th></th>\n",
       "      <th>index</th>\n",
       "      <th>Positive Review Percentage</th>\n",
       "      <th>Negative Review Percentage</th>\n",
       "      <th>Brand</th>\n",
       "    </tr>\n",
       "  </thead>\n",
       "  <tbody>\n",
       "    <tr>\n",
       "      <th>0</th>\n",
       "      <td>0</td>\n",
       "      <td>0.833975</td>\n",
       "      <td>0.166025</td>\n",
       "      <td>Apple</td>\n",
       "    </tr>\n",
       "    <tr>\n",
       "      <th>1</th>\n",
       "      <td>1</td>\n",
       "      <td>0.846604</td>\n",
       "      <td>0.153396</td>\n",
       "      <td>Google</td>\n",
       "    </tr>\n",
       "    <tr>\n",
       "      <th>2</th>\n",
       "      <td>2</td>\n",
       "      <td>0.957565</td>\n",
       "      <td>0.042435</td>\n",
       "      <td>Apple</td>\n",
       "    </tr>\n",
       "    <tr>\n",
       "      <th>3</th>\n",
       "      <td>3</td>\n",
       "      <td>0.933409</td>\n",
       "      <td>0.066591</td>\n",
       "      <td>Google</td>\n",
       "    </tr>\n",
       "  </tbody>\n",
       "</table>\n",
       "</div>"
      ],
      "text/plain": [
       "   index  Positive Review Percentage  Negative Review Percentage   Brand\n",
       "0      0                    0.833975                    0.166025   Apple\n",
       "1      1                    0.846604                    0.153396  Google\n",
       "2      2                    0.957565                    0.042435   Apple\n",
       "3      3                    0.933409                    0.066591  Google"
      ]
     },
     "execution_count": 177,
     "metadata": {},
     "output_type": "execute_result"
    }
   ],
   "source": [
    "review_df"
   ]
  },
  {
   "cell_type": "code",
   "execution_count": 176,
   "metadata": {},
   "outputs": [],
   "source": []
  },
  {
   "cell_type": "code",
   "execution_count": null,
   "metadata": {},
   "outputs": [],
   "source": []
  },
  {
   "cell_type": "code",
   "execution_count": null,
   "metadata": {},
   "outputs": [],
   "source": []
  },
  {
   "cell_type": "code",
   "execution_count": null,
   "metadata": {},
   "outputs": [],
   "source": []
  },
  {
   "cell_type": "code",
   "execution_count": 150,
   "metadata": {},
   "outputs": [
    {
     "data": {
      "text/html": [
       "<div>\n",
       "<style scoped>\n",
       "    .dataframe tbody tr th:only-of-type {\n",
       "        vertical-align: middle;\n",
       "    }\n",
       "\n",
       "    .dataframe tbody tr th {\n",
       "        vertical-align: top;\n",
       "    }\n",
       "\n",
       "    .dataframe thead th {\n",
       "        text-align: right;\n",
       "    }\n",
       "</style>\n",
       "<table border=\"1\" class=\"dataframe\">\n",
       "  <thead>\n",
       "    <tr style=\"text-align: right;\">\n",
       "      <th></th>\n",
       "      <th>unprocessed_tweet</th>\n",
       "      <th>product</th>\n",
       "      <th>emotion</th>\n",
       "      <th>processed_tweet</th>\n",
       "      <th>emotion_encoded</th>\n",
       "    </tr>\n",
       "  </thead>\n",
       "  <tbody>\n",
       "    <tr>\n",
       "      <th>123</th>\n",
       "      <td>Funny how #Austin is trending but not #SXSW. O...</td>\n",
       "      <td>Apple</td>\n",
       "      <td>No emotion toward brand or product</td>\n",
       "      <td>funny austin trend matter minute point least a...</td>\n",
       "      <td>0</td>\n",
       "    </tr>\n",
       "    <tr>\n",
       "      <th>312</th>\n",
       "      <td>Those who are tweeting that Google is coming o...</td>\n",
       "      <td>Google</td>\n",
       "      <td>No emotion toward brand or product</td>\n",
       "      <td>tweet google come circle platform today outsid...</td>\n",
       "      <td>0</td>\n",
       "    </tr>\n",
       "    <tr>\n",
       "      <th>330</th>\n",
       "      <td>Long line at #sxsw? What Else?  Apple Store {l...</td>\n",
       "      <td>Apple</td>\n",
       "      <td>No emotion toward brand or product</td>\n",
       "      <td>long line else apple store</td>\n",
       "      <td>0</td>\n",
       "    </tr>\n",
       "    <tr>\n",
       "      <th>401</th>\n",
       "      <td>10 Austin Classics not to be missed at #SXSW. ...</td>\n",
       "      <td>Apple</td>\n",
       "      <td>No emotion toward brand or product</td>\n",
       "      <td>austin classic miss mblogcom twitter iphone pm</td>\n",
       "      <td>0</td>\n",
       "    </tr>\n",
       "    <tr>\n",
       "      <th>496</th>\n",
       "      <td>At a DSLR film discussion moderated by Guy Kaw...</td>\n",
       "      <td>Apple</td>\n",
       "      <td>No emotion toward brand or product</td>\n",
       "      <td>dslr film discussion moderate guy kawasaki app...</td>\n",
       "      <td>0</td>\n",
       "    </tr>\n",
       "    <tr>\n",
       "      <th>...</th>\n",
       "      <td>...</td>\n",
       "      <td>...</td>\n",
       "      <td>...</td>\n",
       "      <td>...</td>\n",
       "      <td>...</td>\n",
       "    </tr>\n",
       "    <tr>\n",
       "      <th>8937</th>\n",
       "      <td>which browser do u prefer? Internet Explorer 9...</td>\n",
       "      <td>Google</td>\n",
       "      <td>No emotion toward brand or product</td>\n",
       "      <td>browser prefer internet explorer google chrome...</td>\n",
       "      <td>0</td>\n",
       "    </tr>\n",
       "    <tr>\n",
       "      <th>8953</th>\n",
       "      <td>At the #sxsw Google Blogger/Sketchup party wit...</td>\n",
       "      <td>Google</td>\n",
       "      <td>No emotion toward brand or product</td>\n",
       "      <td>google bloggersketchup party unexpectedly quie...</td>\n",
       "      <td>0</td>\n",
       "    </tr>\n",
       "    <tr>\n",
       "      <th>9014</th>\n",
       "      <td>Am I crazy to be thinking about upgrading my i...</td>\n",
       "      <td>Apple</td>\n",
       "      <td>No emotion toward brand or product</td>\n",
       "      <td>crazy think upgrade iphone right</td>\n",
       "      <td>0</td>\n",
       "    </tr>\n",
       "    <tr>\n",
       "      <th>9016</th>\n",
       "      <td>smoked way too much yesterday! hahaha  #austin...</td>\n",
       "      <td>Google</td>\n",
       "      <td>No emotion toward brand or product</td>\n",
       "      <td>smoked way much yesterday hahaha austin wakenb...</td>\n",
       "      <td>0</td>\n",
       "    </tr>\n",
       "    <tr>\n",
       "      <th>9084</th>\n",
       "      <td>Google says the future is location, location, ...</td>\n",
       "      <td>Google</td>\n",
       "      <td>No emotion toward brand or product</td>\n",
       "      <td>google say future location location location cnn</td>\n",
       "      <td>0</td>\n",
       "    </tr>\n",
       "  </tbody>\n",
       "</table>\n",
       "<p>240 rows × 5 columns</p>\n",
       "</div>"
      ],
      "text/plain": [
       "                                      unprocessed_tweet product  \\\n",
       "123   Funny how #Austin is trending but not #SXSW. O...   Apple   \n",
       "312   Those who are tweeting that Google is coming o...  Google   \n",
       "330   Long line at #sxsw? What Else?  Apple Store {l...   Apple   \n",
       "401   10 Austin Classics not to be missed at #SXSW. ...   Apple   \n",
       "496   At a DSLR film discussion moderated by Guy Kaw...   Apple   \n",
       "...                                                 ...     ...   \n",
       "8937  which browser do u prefer? Internet Explorer 9...  Google   \n",
       "8953  At the #sxsw Google Blogger/Sketchup party wit...  Google   \n",
       "9014  Am I crazy to be thinking about upgrading my i...   Apple   \n",
       "9016  smoked way too much yesterday! hahaha  #austin...  Google   \n",
       "9084  Google says the future is location, location, ...  Google   \n",
       "\n",
       "                                 emotion  \\\n",
       "123   No emotion toward brand or product   \n",
       "312   No emotion toward brand or product   \n",
       "330   No emotion toward brand or product   \n",
       "401   No emotion toward brand or product   \n",
       "496   No emotion toward brand or product   \n",
       "...                                  ...   \n",
       "8937  No emotion toward brand or product   \n",
       "8953  No emotion toward brand or product   \n",
       "9014  No emotion toward brand or product   \n",
       "9016  No emotion toward brand or product   \n",
       "9084  No emotion toward brand or product   \n",
       "\n",
       "                                        processed_tweet  emotion_encoded  \n",
       "123   funny austin trend matter minute point least a...                0  \n",
       "312   tweet google come circle platform today outsid...                0  \n",
       "330                          long line else apple store                0  \n",
       "401      austin classic miss mblogcom twitter iphone pm                0  \n",
       "496   dslr film discussion moderate guy kawasaki app...                0  \n",
       "...                                                 ...              ...  \n",
       "8937  browser prefer internet explorer google chrome...                0  \n",
       "8953  google bloggersketchup party unexpectedly quie...                0  \n",
       "9014                   crazy think upgrade iphone right                0  \n",
       "9016  smoked way much yesterday hahaha austin wakenb...                0  \n",
       "9084   google say future location location location cnn                0  \n",
       "\n",
       "[240 rows x 5 columns]"
      ]
     },
     "execution_count": 150,
     "metadata": {},
     "output_type": "execute_result"
    }
   ],
   "source": [
    "neutral_df[neutral_df['emotion_encoded'] == 0]"
   ]
  },
  {
   "cell_type": "code",
   "execution_count": null,
   "metadata": {},
   "outputs": [],
   "source": []
  },
  {
   "cell_type": "code",
   "execution_count": 179,
   "metadata": {},
   "outputs": [],
   "source": [
    "idk_data = data_branded[data_branded['emotion'] == \"I can't tell\"]\n",
    "idk_test = idk_data['processed_tweet']"
   ]
  },
  {
   "cell_type": "code",
   "execution_count": 180,
   "metadata": {},
   "outputs": [
    {
     "data": {
      "text/plain": [
       "array([1, 0, 0, 0, 1, 1, 1, 1, 1, 0, 1, 1, 1, 1, 1, 1, 1, 1, 1, 1, 1, 1,\n",
       "       0, 1, 0, 1, 1, 1, 0, 1, 1, 1, 1, 0, 1, 1, 1, 1, 1, 1, 1, 1, 1, 1,\n",
       "       1, 1, 1, 1, 1, 1, 1, 1, 0, 1, 1, 1, 1, 1, 1, 1, 1, 1, 1, 0, 0, 1,\n",
       "       1, 0, 1, 1, 1, 1, 1, 1, 1, 1, 1, 1, 1, 1, 0, 1, 1, 1, 1, 1, 1, 1,\n",
       "       1, 1, 1, 1, 1, 0, 1, 1, 1, 0, 1, 1, 1, 1, 1, 1, 1, 1, 1, 1, 1, 0,\n",
       "       1, 1, 1, 1, 1, 1, 1, 1, 0, 1, 1, 1, 1, 1, 1, 1, 1, 0, 1, 1, 1, 1,\n",
       "       1, 1, 1, 1, 1, 0, 1, 1, 1, 1, 1, 1, 1, 1, 1, 0, 1, 1])"
      ]
     },
     "execution_count": 180,
     "metadata": {},
     "output_type": "execute_result"
    }
   ],
   "source": [
    "y_pred_idk = bin_forest_grid.predict(idk_test)\n",
    "y_pred_idk"
   ]
  },
  {
   "cell_type": "code",
   "execution_count": 181,
   "metadata": {},
   "outputs": [
    {
     "name": "stderr",
     "output_type": "stream",
     "text": [
      "<ipython-input-181-014761fcca52>:2: SettingWithCopyWarning: \n",
      "A value is trying to be set on a copy of a slice from a DataFrame.\n",
      "Try using .loc[row_indexer,col_indexer] = value instead\n",
      "\n",
      "See the caveats in the documentation: https://pandas.pydata.org/pandas-docs/stable/user_guide/indexing.html#returning-a-view-versus-a-copy\n",
      "  idk_df['emotion_encoded'] = y_pred_idk\n"
     ]
    },
    {
     "data": {
      "text/html": [
       "<div>\n",
       "<style scoped>\n",
       "    .dataframe tbody tr th:only-of-type {\n",
       "        vertical-align: middle;\n",
       "    }\n",
       "\n",
       "    .dataframe tbody tr th {\n",
       "        vertical-align: top;\n",
       "    }\n",
       "\n",
       "    .dataframe thead th {\n",
       "        text-align: right;\n",
       "    }\n",
       "</style>\n",
       "<table border=\"1\" class=\"dataframe\">\n",
       "  <thead>\n",
       "    <tr style=\"text-align: right;\">\n",
       "      <th></th>\n",
       "      <th>unprocessed_tweet</th>\n",
       "      <th>product</th>\n",
       "      <th>emotion</th>\n",
       "      <th>processed_tweet</th>\n",
       "      <th>emotion_encoded</th>\n",
       "    </tr>\n",
       "  </thead>\n",
       "  <tbody>\n",
       "    <tr>\n",
       "      <th>102</th>\n",
       "      <td>ÛÏ@mention &amp;quot;Apple has opened a pop-up st...</td>\n",
       "      <td>Apple</td>\n",
       "      <td>I can't tell</td>\n",
       "      <td>quotapple open popup store austin nerd town ge...</td>\n",
       "      <td>1</td>\n",
       "    </tr>\n",
       "    <tr>\n",
       "      <th>237</th>\n",
       "      <td>Just what America needs. RT @mention Google to...</td>\n",
       "      <td>Google</td>\n",
       "      <td>I can't tell</td>\n",
       "      <td>america need google launch major new social ne...</td>\n",
       "      <td>0</td>\n",
       "    </tr>\n",
       "    <tr>\n",
       "      <th>341</th>\n",
       "      <td>The queue at the Apple Store in Austin is FOUR...</td>\n",
       "      <td>Apple</td>\n",
       "      <td>I can't tell</td>\n",
       "      <td>queue apple store austin four block long crazy...</td>\n",
       "      <td>0</td>\n",
       "    </tr>\n",
       "    <tr>\n",
       "      <th>368</th>\n",
       "      <td>Hope it's better than wave RT @mention Buzz is...</td>\n",
       "      <td>Google</td>\n",
       "      <td>I can't tell</td>\n",
       "      <td>hope well wave buzz google preview social netw...</td>\n",
       "      <td>0</td>\n",
       "    </tr>\n",
       "    <tr>\n",
       "      <th>413</th>\n",
       "      <td>SYD #SXSW crew your iPhone extra juice pods ha...</td>\n",
       "      <td>Apple</td>\n",
       "      <td>I can't tell</td>\n",
       "      <td>syd crew iphone extra juice pod procure</td>\n",
       "      <td>1</td>\n",
       "    </tr>\n",
       "    <tr>\n",
       "      <th>...</th>\n",
       "      <td>...</td>\n",
       "      <td>...</td>\n",
       "      <td>...</td>\n",
       "      <td>...</td>\n",
       "      <td>...</td>\n",
       "    </tr>\n",
       "    <tr>\n",
       "      <th>9020</th>\n",
       "      <td>It's funny watching a room full of people hold...</td>\n",
       "      <td>Apple</td>\n",
       "      <td>I can't tell</td>\n",
       "      <td>funny watching room full people hold ipad air ...</td>\n",
       "      <td>1</td>\n",
       "    </tr>\n",
       "    <tr>\n",
       "      <th>9032</th>\n",
       "      <td>@mention yeah, we have @mention , Google has n...</td>\n",
       "      <td>Google</td>\n",
       "      <td>I can't tell</td>\n",
       "      <td>yeah google nothing u</td>\n",
       "      <td>1</td>\n",
       "    </tr>\n",
       "    <tr>\n",
       "      <th>9037</th>\n",
       "      <td>@mention Yes, the Google presentation was not ...</td>\n",
       "      <td>Google</td>\n",
       "      <td>I can't tell</td>\n",
       "      <td>yes google presentation exactly expect</td>\n",
       "      <td>0</td>\n",
       "    </tr>\n",
       "    <tr>\n",
       "      <th>9058</th>\n",
       "      <td>&amp;quot;Do you know what Apple is really good at...</td>\n",
       "      <td>Apple</td>\n",
       "      <td>I can't tell</td>\n",
       "      <td>quotdo know apple really good make feel bad xm...</td>\n",
       "      <td>1</td>\n",
       "    </tr>\n",
       "    <tr>\n",
       "      <th>9066</th>\n",
       "      <td>How much you want to bet Apple is disproportio...</td>\n",
       "      <td>Apple</td>\n",
       "      <td>I can't tell</td>\n",
       "      <td>much want bet apple disproportionately stock p...</td>\n",
       "      <td>1</td>\n",
       "    </tr>\n",
       "  </tbody>\n",
       "</table>\n",
       "<p>150 rows × 5 columns</p>\n",
       "</div>"
      ],
      "text/plain": [
       "                                      unprocessed_tweet product       emotion  \\\n",
       "102   ÛÏ@mention &quot;Apple has opened a pop-up st...   Apple  I can't tell   \n",
       "237   Just what America needs. RT @mention Google to...  Google  I can't tell   \n",
       "341   The queue at the Apple Store in Austin is FOUR...   Apple  I can't tell   \n",
       "368   Hope it's better than wave RT @mention Buzz is...  Google  I can't tell   \n",
       "413   SYD #SXSW crew your iPhone extra juice pods ha...   Apple  I can't tell   \n",
       "...                                                 ...     ...           ...   \n",
       "9020  It's funny watching a room full of people hold...   Apple  I can't tell   \n",
       "9032  @mention yeah, we have @mention , Google has n...  Google  I can't tell   \n",
       "9037  @mention Yes, the Google presentation was not ...  Google  I can't tell   \n",
       "9058  &quot;Do you know what Apple is really good at...   Apple  I can't tell   \n",
       "9066  How much you want to bet Apple is disproportio...   Apple  I can't tell   \n",
       "\n",
       "                                        processed_tweet  emotion_encoded  \n",
       "102   quotapple open popup store austin nerd town ge...                1  \n",
       "237   america need google launch major new social ne...                0  \n",
       "341   queue apple store austin four block long crazy...                0  \n",
       "368   hope well wave buzz google preview social netw...                0  \n",
       "413             syd crew iphone extra juice pod procure                1  \n",
       "...                                                 ...              ...  \n",
       "9020  funny watching room full people hold ipad air ...                1  \n",
       "9032                              yeah google nothing u                1  \n",
       "9037             yes google presentation exactly expect                0  \n",
       "9058  quotdo know apple really good make feel bad xm...                1  \n",
       "9066  much want bet apple disproportionately stock p...                1  \n",
       "\n",
       "[150 rows x 5 columns]"
      ]
     },
     "execution_count": 181,
     "metadata": {},
     "output_type": "execute_result"
    }
   ],
   "source": [
    "idk_df = idk_data\n",
    "idk_df['emotion_encoded'] = y_pred_idk\n",
    "idk_df"
   ]
  },
  {
   "cell_type": "code",
   "execution_count": 183,
   "metadata": {},
   "outputs": [
    {
     "data": {
      "text/plain": [
       "1    130\n",
       "0     20\n",
       "Name: emotion_encoded, dtype: int64"
      ]
     },
     "execution_count": 183,
     "metadata": {},
     "output_type": "execute_result"
    }
   ],
   "source": [
    "idk_df['emotion_encoded'].value_counts()"
   ]
  },
  {
   "cell_type": "code",
   "execution_count": 185,
   "metadata": {},
   "outputs": [
    {
     "data": {
      "text/plain": [
       "1    85\n",
       "0    14\n",
       "Name: emotion_encoded, dtype: int64"
      ]
     },
     "execution_count": 185,
     "metadata": {},
     "output_type": "execute_result"
    }
   ],
   "source": [
    "idk_apple = idk_df[idk_df['product'] == 'Apple']\n",
    "idk_apple['emotion_encoded'].value_counts()"
   ]
  },
  {
   "cell_type": "code",
   "execution_count": 186,
   "metadata": {},
   "outputs": [
    {
     "data": {
      "text/plain": [
       "1    45\n",
       "0     6\n",
       "Name: emotion_encoded, dtype: int64"
      ]
     },
     "execution_count": 186,
     "metadata": {},
     "output_type": "execute_result"
    }
   ],
   "source": [
    "idk_google = idk_df[idk_df['product'] == 'Google']\n",
    "idk_google['emotion_encoded'].value_counts()"
   ]
  },
  {
   "cell_type": "code",
   "execution_count": 187,
   "metadata": {},
   "outputs": [],
   "source": [
    "idk_apple_t = len(idk_apple)\n",
    "idk_apple_p = 85/idk_apple_t\n",
    "idk_apple_n = 1 - idk_apple_p"
   ]
  },
  {
   "cell_type": "code",
   "execution_count": 188,
   "metadata": {},
   "outputs": [],
   "source": [
    "idk_google_t = len(idk_google)\n",
    "idk_google_p = 45/idk_google_t\n",
    "idk_google_n = 1 - idk_google_p"
   ]
  },
  {
   "cell_type": "code",
   "execution_count": 189,
   "metadata": {},
   "outputs": [],
   "source": [
    "review_data = {\"Positive Review Percentage\": [pos_apple_review, pos_google_review, apple_p, google_p,\n",
    "                                              idk_apple_p, idk_google_p],\n",
    "               \"Negative Review Percentage\": [neg_apple_review, neg_google_review, apple_n, google_n,\n",
    "                                             idk_apple_n, idk_google_n]\n",
    "              }\n",
    "review_df = pd.DataFrame(review_data)\n",
    "review_df = review_df.reset_index()\n",
    "review_df['Brand'] = ['Apple', 'Google', 'Apple', 'Google', 'Apple', 'Google']\n",
    "review_df.to_csv('data/review.csv')"
   ]
  },
  {
   "cell_type": "code",
   "execution_count": 190,
   "metadata": {},
   "outputs": [
    {
     "data": {
      "text/html": [
       "<div>\n",
       "<style scoped>\n",
       "    .dataframe tbody tr th:only-of-type {\n",
       "        vertical-align: middle;\n",
       "    }\n",
       "\n",
       "    .dataframe tbody tr th {\n",
       "        vertical-align: top;\n",
       "    }\n",
       "\n",
       "    .dataframe thead th {\n",
       "        text-align: right;\n",
       "    }\n",
       "</style>\n",
       "<table border=\"1\" class=\"dataframe\">\n",
       "  <thead>\n",
       "    <tr style=\"text-align: right;\">\n",
       "      <th></th>\n",
       "      <th>index</th>\n",
       "      <th>Positive Review Percentage</th>\n",
       "      <th>Negative Review Percentage</th>\n",
       "      <th>Brand</th>\n",
       "    </tr>\n",
       "  </thead>\n",
       "  <tbody>\n",
       "    <tr>\n",
       "      <th>0</th>\n",
       "      <td>0</td>\n",
       "      <td>0.833975</td>\n",
       "      <td>0.166025</td>\n",
       "      <td>Apple</td>\n",
       "    </tr>\n",
       "    <tr>\n",
       "      <th>1</th>\n",
       "      <td>1</td>\n",
       "      <td>0.846604</td>\n",
       "      <td>0.153396</td>\n",
       "      <td>Google</td>\n",
       "    </tr>\n",
       "    <tr>\n",
       "      <th>2</th>\n",
       "      <td>2</td>\n",
       "      <td>0.957565</td>\n",
       "      <td>0.042435</td>\n",
       "      <td>Apple</td>\n",
       "    </tr>\n",
       "    <tr>\n",
       "      <th>3</th>\n",
       "      <td>3</td>\n",
       "      <td>0.933409</td>\n",
       "      <td>0.066591</td>\n",
       "      <td>Google</td>\n",
       "    </tr>\n",
       "    <tr>\n",
       "      <th>4</th>\n",
       "      <td>4</td>\n",
       "      <td>0.858586</td>\n",
       "      <td>0.141414</td>\n",
       "      <td>Apple</td>\n",
       "    </tr>\n",
       "    <tr>\n",
       "      <th>5</th>\n",
       "      <td>5</td>\n",
       "      <td>0.882353</td>\n",
       "      <td>0.117647</td>\n",
       "      <td>Google</td>\n",
       "    </tr>\n",
       "  </tbody>\n",
       "</table>\n",
       "</div>"
      ],
      "text/plain": [
       "   index  Positive Review Percentage  Negative Review Percentage   Brand\n",
       "0      0                    0.833975                    0.166025   Apple\n",
       "1      1                    0.846604                    0.153396  Google\n",
       "2      2                    0.957565                    0.042435   Apple\n",
       "3      3                    0.933409                    0.066591  Google\n",
       "4      4                    0.858586                    0.141414   Apple\n",
       "5      5                    0.882353                    0.117647  Google"
      ]
     },
     "execution_count": 190,
     "metadata": {},
     "output_type": "execute_result"
    }
   ],
   "source": [
    "review_df"
   ]
  },
  {
   "cell_type": "markdown",
   "metadata": {},
   "source": [
    "Negative Tweets about apple that are marked positive"
   ]
  },
  {
   "cell_type": "code",
   "execution_count": null,
   "metadata": {},
   "outputs": [],
   "source": [
    "df['unprocessed_tweet'][9066]"
   ]
  },
  {
   "cell_type": "code",
   "execution_count": null,
   "metadata": {},
   "outputs": [],
   "source": [
    "df['unprocessed_tweet'][9058]"
   ]
  },
  {
   "cell_type": "code",
   "execution_count": null,
   "metadata": {},
   "outputs": [],
   "source": [
    "df['unprocessed_tweet'][102]"
   ]
  },
  {
   "cell_type": "code",
   "execution_count": null,
   "metadata": {},
   "outputs": [],
   "source": [
    "df['unprocessed_tweet'][441]"
   ]
  },
  {
   "cell_type": "markdown",
   "metadata": {},
   "source": [
    "Negative tweet about Google that was marked positive"
   ]
  },
  {
   "cell_type": "code",
   "execution_count": null,
   "metadata": {},
   "outputs": [],
   "source": [
    "df['unprocessed_tweet'][9032]"
   ]
  },
  {
   "cell_type": "markdown",
   "metadata": {},
   "source": [
    "Properly labeled negative tweet about apple"
   ]
  },
  {
   "cell_type": "code",
   "execution_count": null,
   "metadata": {},
   "outputs": [],
   "source": [
    "df['unprocessed_tweet'][1670]"
   ]
  },
  {
   "cell_type": "code",
   "execution_count": null,
   "metadata": {},
   "outputs": [],
   "source": [
    "df['unprocessed_tweet'][4002]"
   ]
  },
  {
   "cell_type": "markdown",
   "metadata": {},
   "source": [
    "Positive tweet about Google marked as negative"
   ]
  },
  {
   "cell_type": "code",
   "execution_count": null,
   "metadata": {},
   "outputs": [],
   "source": [
    "df['unprocessed_tweet'][3855]"
   ]
  },
  {
   "cell_type": "markdown",
   "metadata": {},
   "source": [
    "Positive tweet about Apple marked as negative"
   ]
  },
  {
   "cell_type": "code",
   "execution_count": null,
   "metadata": {},
   "outputs": [],
   "source": [
    "df['unprocessed_tweet'][4862]"
   ]
  },
  {
   "cell_type": "markdown",
   "metadata": {},
   "source": [
    "Possibly properly labeled negative google tweet"
   ]
  },
  {
   "cell_type": "code",
   "execution_count": null,
   "metadata": {},
   "outputs": [],
   "source": [
    "df['unprocessed_tweet'][9037]"
   ]
  },
  {
   "cell_type": "markdown",
   "metadata": {},
   "source": [
    "properly labeled positive tweet about Apple"
   ]
  },
  {
   "cell_type": "code",
   "execution_count": null,
   "metadata": {},
   "outputs": [],
   "source": [
    "df['unprocessed_tweet'][488]"
   ]
  },
  {
   "cell_type": "markdown",
   "metadata": {},
   "source": [
    "This tweet is interesting, both positive and negative depending on what brand"
   ]
  },
  {
   "cell_type": "code",
   "execution_count": 201,
   "metadata": {},
   "outputs": [
    {
     "data": {
      "text/plain": [
       "'Forgot my iPhone for #sxsw. Android only. Knife to a gun fight'"
      ]
     },
     "execution_count": 201,
     "metadata": {},
     "output_type": "execute_result"
    }
   ],
   "source": [
    "df['unprocessed_tweet'][705]"
   ]
  },
  {
   "cell_type": "code",
   "execution_count": 202,
   "metadata": {},
   "outputs": [
    {
     "data": {
      "text/html": [
       "<div>\n",
       "<style scoped>\n",
       "    .dataframe tbody tr th:only-of-type {\n",
       "        vertical-align: middle;\n",
       "    }\n",
       "\n",
       "    .dataframe tbody tr th {\n",
       "        vertical-align: top;\n",
       "    }\n",
       "\n",
       "    .dataframe thead th {\n",
       "        text-align: right;\n",
       "    }\n",
       "</style>\n",
       "<table border=\"1\" class=\"dataframe\">\n",
       "  <thead>\n",
       "    <tr style=\"text-align: right;\">\n",
       "      <th></th>\n",
       "      <th>unprocessed_tweet</th>\n",
       "      <th>product</th>\n",
       "      <th>emotion</th>\n",
       "      <th>processed_tweet</th>\n",
       "      <th>emotion_encoded</th>\n",
       "    </tr>\n",
       "  </thead>\n",
       "  <tbody>\n",
       "    <tr>\n",
       "      <th>102</th>\n",
       "      <td>ÛÏ@mention &amp;quot;Apple has opened a pop-up st...</td>\n",
       "      <td>Apple</td>\n",
       "      <td>I can't tell</td>\n",
       "      <td>quotapple open popup store austin nerd town ge...</td>\n",
       "      <td>1</td>\n",
       "    </tr>\n",
       "    <tr>\n",
       "      <th>413</th>\n",
       "      <td>SYD #SXSW crew your iPhone extra juice pods ha...</td>\n",
       "      <td>Apple</td>\n",
       "      <td>I can't tell</td>\n",
       "      <td>syd crew iphone extra juice pod procure</td>\n",
       "      <td>1</td>\n",
       "    </tr>\n",
       "    <tr>\n",
       "      <th>441</th>\n",
       "      <td>Why Barry Diller thinks iPad only content is n...</td>\n",
       "      <td>Apple</td>\n",
       "      <td>I can't tell</td>\n",
       "      <td>barry diller think ipad content nut</td>\n",
       "      <td>1</td>\n",
       "    </tr>\n",
       "    <tr>\n",
       "      <th>488</th>\n",
       "      <td>Gave into extreme temptation at #SXSW and boug...</td>\n",
       "      <td>Apple</td>\n",
       "      <td>I can't tell</td>\n",
       "      <td>give extreme temptation buy ipad impulse</td>\n",
       "      <td>1</td>\n",
       "    </tr>\n",
       "    <tr>\n",
       "      <th>640</th>\n",
       "      <td>Catch 22Û_ I mean iPad 2 at #SXSW : {link}</td>\n",
       "      <td>Apple</td>\n",
       "      <td>I can't tell</td>\n",
       "      <td>catch mean ipad</td>\n",
       "      <td>1</td>\n",
       "    </tr>\n",
       "    <tr>\n",
       "      <th>705</th>\n",
       "      <td>Forgot my iPhone for #sxsw. Android only. Knif...</td>\n",
       "      <td>Apple</td>\n",
       "      <td>I can't tell</td>\n",
       "      <td>forgot iphone android knife gun fight</td>\n",
       "      <td>1</td>\n",
       "    </tr>\n",
       "    <tr>\n",
       "      <th>749</th>\n",
       "      <td>Google no lanzara ningun producto en South by ...</td>\n",
       "      <td>Google</td>\n",
       "      <td>I can't tell</td>\n",
       "      <td>google lanzara ningun producto en south southwest</td>\n",
       "      <td>1</td>\n",
       "    </tr>\n",
       "    <tr>\n",
       "      <th>882</th>\n",
       "      <td>Comprando mi iPad 2 en el #SXSW (@mention Appl...</td>\n",
       "      <td>Apple</td>\n",
       "      <td>I can't tell</td>\n",
       "      <td>comprando mi ipad en el apple store others</td>\n",
       "      <td>1</td>\n",
       "    </tr>\n",
       "    <tr>\n",
       "      <th>1069</th>\n",
       "      <td>I can now say that Google got me drunk #sxsw #...</td>\n",
       "      <td>Google</td>\n",
       "      <td>I can't tell</td>\n",
       "      <td>say google get drunk hckers</td>\n",
       "      <td>1</td>\n",
       "    </tr>\n",
       "    <tr>\n",
       "      <th>1087</th>\n",
       "      <td>ipad is a slow resting heartrate  #tapworthy #...</td>\n",
       "      <td>Apple</td>\n",
       "      <td>I can't tell</td>\n",
       "      <td>ipad slow rest heartrate tapworthy gsdm leisur...</td>\n",
       "      <td>1</td>\n",
       "    </tr>\n",
       "    <tr>\n",
       "      <th>1164</th>\n",
       "      <td>Walked by the mobile Apple store in austin.  L...</td>\n",
       "      <td>Apple</td>\n",
       "      <td>I can't tell</td>\n",
       "      <td>walk mobile apple store austin line insane</td>\n",
       "      <td>1</td>\n",
       "    </tr>\n",
       "    <tr>\n",
       "      <th>1297</th>\n",
       "      <td>This Waze vs Google discussion is one of the b...</td>\n",
       "      <td>Google</td>\n",
       "      <td>I can't tell</td>\n",
       "      <td>waze v google discussion one best see need com...</td>\n",
       "      <td>1</td>\n",
       "    </tr>\n",
       "    <tr>\n",
       "      <th>1391</th>\n",
       "      <td>Wow folks, make sure that iPhone ringer is tur...</td>\n",
       "      <td>Apple</td>\n",
       "      <td>I can't tell</td>\n",
       "      <td>wow folk make sure iphone ringer turn way pres...</td>\n",
       "      <td>1</td>\n",
       "    </tr>\n",
       "    <tr>\n",
       "      <th>1422</th>\n",
       "      <td>Let's see: Google announcing Circles, Obama in...</td>\n",
       "      <td>Google</td>\n",
       "      <td>I can't tell</td>\n",
       "      <td>let see google announce circle obama austin do...</td>\n",
       "      <td>1</td>\n",
       "    </tr>\n",
       "    <tr>\n",
       "      <th>1437</th>\n",
       "      <td>@mention :) Maybe not *entirely* HD (Flip? iPh...</td>\n",
       "      <td>Apple</td>\n",
       "      <td>I can't tell</td>\n",
       "      <td>maybe entirely hd flip iphone xl footage certa...</td>\n",
       "      <td>1</td>\n",
       "    </tr>\n",
       "    <tr>\n",
       "      <th>1545</th>\n",
       "      <td>@mention @mention @mention #Platformer CI di v...</td>\n",
       "      <td>Apple</td>\n",
       "      <td>I can't tell</td>\n",
       "      <td>platformer ci di venue pake app sq apid cnth t...</td>\n",
       "      <td>1</td>\n",
       "    </tr>\n",
       "    <tr>\n",
       "      <th>1558</th>\n",
       "      <td>Google's @mention &amp;quot;credit card cos. know ...</td>\n",
       "      <td>Google</td>\n",
       "      <td>I can't tell</td>\n",
       "      <td>google quotcredit card co know accuracy yr go ...</td>\n",
       "      <td>1</td>\n",
       "    </tr>\n",
       "    <tr>\n",
       "      <th>1599</th>\n",
       "      <td>Hijacked @mention iPhone since mine is DOA. Mu...</td>\n",
       "      <td>Apple</td>\n",
       "      <td>I can't tell</td>\n",
       "      <td>hijack iphone since mine doa muahahahahhaahaha...</td>\n",
       "      <td>1</td>\n",
       "    </tr>\n",
       "    <tr>\n",
       "      <th>1716</th>\n",
       "      <td>I'd take #sxsw hashtags over scheen, ipad/ipad...</td>\n",
       "      <td>Apple</td>\n",
       "      <td>I can't tell</td>\n",
       "      <td>id take hashtags scheen ipadipad tv sport twee...</td>\n",
       "      <td>1</td>\n",
       "    </tr>\n",
       "    <tr>\n",
       "      <th>1908</th>\n",
       "      <td>O no,not again {link} Google Circles Juwan How...</td>\n",
       "      <td>Google</td>\n",
       "      <td>I can't tell</td>\n",
       "      <td>nonot google circle juwan howard</td>\n",
       "      <td>1</td>\n",
       "    </tr>\n",
       "    <tr>\n",
       "      <th>1936</th>\n",
       "      <td>I just realized my iPhone's gonna go nuts with...</td>\n",
       "      <td>Apple</td>\n",
       "      <td>I can't tell</td>\n",
       "      <td>realize iphones gon na go nut foursquare gowal...</td>\n",
       "      <td>1</td>\n",
       "    </tr>\n",
       "    <tr>\n",
       "      <th>1961</th>\n",
       "      <td>At the Team Android party. Can't find it on Go...</td>\n",
       "      <td>Google</td>\n",
       "      <td>I can't tell</td>\n",
       "      <td>team android party cant find gowalla foursquar...</td>\n",
       "      <td>1</td>\n",
       "    </tr>\n",
       "    <tr>\n",
       "      <th>2068</th>\n",
       "      <td>Vai comeÌ¤ar a palestra do  @mention ex-chief ...</td>\n",
       "      <td>Apple</td>\n",
       "      <td>I can't tell</td>\n",
       "      <td>vai comear palestra exchief evangelist apple</td>\n",
       "      <td>1</td>\n",
       "    </tr>\n",
       "    <tr>\n",
       "      <th>2095</th>\n",
       "      <td>Man gets arrested at #sxsw for not having an i...</td>\n",
       "      <td>Apple</td>\n",
       "      <td>I can't tell</td>\n",
       "      <td>man get arrest iphone</td>\n",
       "      <td>1</td>\n",
       "    </tr>\n",
       "    <tr>\n",
       "      <th>2116</th>\n",
       "      <td>iPhone crashed in front of #sxsw Apple pop-up....</td>\n",
       "      <td>Apple</td>\n",
       "      <td>I can't tell</td>\n",
       "      <td>iphone crash front apple popup bestworstthingever</td>\n",
       "      <td>1</td>\n",
       "    </tr>\n",
       "    <tr>\n",
       "      <th>2144</th>\n",
       "      <td>Did... what my mom might call The Big at #SXSW...</td>\n",
       "      <td>Google</td>\n",
       "      <td>I can't tell</td>\n",
       "      <td>mom might call big power plant cnn google offc...</td>\n",
       "      <td>1</td>\n",
       "    </tr>\n",
       "    <tr>\n",
       "      <th>2263</th>\n",
       "      <td>Any blackberry apps for #sxsw ?? Pls let @ment...</td>\n",
       "      <td>Apple</td>\n",
       "      <td>I can't tell</td>\n",
       "      <td>blackberry apps pls let knowcheerswill iphone</td>\n",
       "      <td>1</td>\n",
       "    </tr>\n",
       "    <tr>\n",
       "      <th>2318</th>\n",
       "      <td>ipadi alacagimiz yer belli oldu:  Apple to Ope...</td>\n",
       "      <td>Apple</td>\n",
       "      <td>I can't tell</td>\n",
       "      <td>ipadi alacagimiz yer belli oldu apple open pop...</td>\n",
       "      <td>1</td>\n",
       "    </tr>\n",
       "    <tr>\n",
       "      <th>2334</th>\n",
       "      <td>Saw a bunch of security guards playing with iP...</td>\n",
       "      <td>Apple</td>\n",
       "      <td>I can't tell</td>\n",
       "      <td>saw bunch security guard play ipads apple stor...</td>\n",
       "      <td>1</td>\n",
       "    </tr>\n",
       "    <tr>\n",
       "      <th>2448</th>\n",
       "      <td>My #agnerd confession, using laptop, iPad and ...</td>\n",
       "      <td>Apple</td>\n",
       "      <td>I can't tell</td>\n",
       "      <td>agnerd confession use laptop ipad blackberry f...</td>\n",
       "      <td>1</td>\n",
       "    </tr>\n",
       "    <tr>\n",
       "      <th>2472</th>\n",
       "      <td>I'm bummed that I missed the Team Android part...</td>\n",
       "      <td>Google</td>\n",
       "      <td>I can't tell</td>\n",
       "      <td>im bum missed team android party oh well ctia ...</td>\n",
       "      <td>1</td>\n",
       "    </tr>\n",
       "    <tr>\n",
       "      <th>2525</th>\n",
       "      <td>Next up: designing interfaces for iPad. Or sho...</td>\n",
       "      <td>Apple</td>\n",
       "      <td>I can't tell</td>\n",
       "      <td>next designing interface ipad hit quotyour bra...</td>\n",
       "      <td>1</td>\n",
       "    </tr>\n",
       "    <tr>\n",
       "      <th>2547</th>\n",
       "      <td>Thank goodness for these two hour breaks where...</td>\n",
       "      <td>Apple</td>\n",
       "      <td>I can't tell</td>\n",
       "      <td>thank goodness two hour break turn iphone batt...</td>\n",
       "      <td>1</td>\n",
       "    </tr>\n",
       "    <tr>\n",
       "      <th>2597</th>\n",
       "      <td>Temp store #sxsw  @mention Apple Store, SXSW {...</td>\n",
       "      <td>Apple</td>\n",
       "      <td>I can't tell</td>\n",
       "      <td>temp store apple store</td>\n",
       "      <td>1</td>\n",
       "    </tr>\n",
       "    <tr>\n",
       "      <th>2614</th>\n",
       "      <td>I wish the apple store employees cheering for ...</td>\n",
       "      <td>Apple</td>\n",
       "      <td>I can't tell</td>\n",
       "      <td>wish apple store employee cheer people line po...</td>\n",
       "      <td>1</td>\n",
       "    </tr>\n",
       "    <tr>\n",
       "      <th>2617</th>\n",
       "      <td>I won't be at #sxsw and I won't be in line to ...</td>\n",
       "      <td>Apple</td>\n",
       "      <td>I can't tell</td>\n",
       "      <td>line buy ipad tomorrow notwinning</td>\n",
       "      <td>1</td>\n",
       "    </tr>\n",
       "    <tr>\n",
       "      <th>2732</th>\n",
       "      <td>Looks like the line for the Apple pop-up store...</td>\n",
       "      <td>Apple</td>\n",
       "      <td>I can't tell</td>\n",
       "      <td>look like line apple popup store congress ave ...</td>\n",
       "      <td>1</td>\n",
       "    </tr>\n",
       "    <tr>\n",
       "      <th>2739</th>\n",
       "      <td>Good place to test it. Will it be edgy enough?...</td>\n",
       "      <td>Google</td>\n",
       "      <td>I can't tell</td>\n",
       "      <td>good place test edgy enough google check offer...</td>\n",
       "      <td>1</td>\n",
       "    </tr>\n",
       "    <tr>\n",
       "      <th>2774</th>\n",
       "      <td>Hope there's time left for Poked Liked and ret...</td>\n",
       "      <td>Google</td>\n",
       "      <td>I can't tell</td>\n",
       "      <td>hope there time leave poked liked retweeted go...</td>\n",
       "      <td>1</td>\n",
       "    </tr>\n",
       "    <tr>\n",
       "      <th>2902</th>\n",
       "      <td>#SXSW haven't trend this time because of the t...</td>\n",
       "      <td>Apple</td>\n",
       "      <td>I can't tell</td>\n",
       "      <td>trend time tsunamithe ipad though</td>\n",
       "      <td>1</td>\n",
       "    </tr>\n",
       "    <tr>\n",
       "      <th>2954</th>\n",
       "      <td>#UXdes @mention is glad there are no standard ...</td>\n",
       "      <td>Apple</td>\n",
       "      <td>I can't tell</td>\n",
       "      <td>uxdes glad standard ipad navigation tool might...</td>\n",
       "      <td>1</td>\n",
       "    </tr>\n",
       "    <tr>\n",
       "      <th>2974</th>\n",
       "      <td>#sxsw: @mention We think we control our identi...</td>\n",
       "      <td>Google</td>\n",
       "      <td>I can't tell</td>\n",
       "      <td>think control identity facebook google becomes...</td>\n",
       "      <td>1</td>\n",
       "    </tr>\n",
       "    <tr>\n",
       "      <th>3058</th>\n",
       "      <td>Google doesn't place any value on your domain ...</td>\n",
       "      <td>Google</td>\n",
       "      <td>I can't tell</td>\n",
       "      <td>google place value domain extension equal qagb</td>\n",
       "      <td>1</td>\n",
       "    </tr>\n",
       "    <tr>\n",
       "      <th>3145</th>\n",
       "      <td>Google's Facebook-killer &amp;quot;Circles&amp;quot; t...</td>\n",
       "      <td>Google</td>\n",
       "      <td>I can't tell</td>\n",
       "      <td>google facebookkiller quotcirclesquot unveil t...</td>\n",
       "      <td>1</td>\n",
       "    </tr>\n",
       "    <tr>\n",
       "      <th>3197</th>\n",
       "      <td>Liveblog from #SXSW: Can indie #iPhone game de...</td>\n",
       "      <td>Apple</td>\n",
       "      <td>I can't tell</td>\n",
       "      <td>liveblog indie iphone game development survive...</td>\n",
       "      <td>1</td>\n",
       "    </tr>\n",
       "    <tr>\n",
       "      <th>3221</th>\n",
       "      <td>is walking around #SXSW while staring down at ...</td>\n",
       "      <td>Apple</td>\n",
       "      <td>I can't tell</td>\n",
       "      <td>walk around star iphone like everyone else</td>\n",
       "      <td>1</td>\n",
       "    </tr>\n",
       "    <tr>\n",
       "      <th>3265</th>\n",
       "      <td>Google might launching a social network called...</td>\n",
       "      <td>Google</td>\n",
       "      <td>I can't tell</td>\n",
       "      <td>google might launch social network call circle...</td>\n",
       "      <td>1</td>\n",
       "    </tr>\n",
       "    <tr>\n",
       "      <th>3298</th>\n",
       "      <td>&amp;quot;Google products need to be condensed&amp;quo...</td>\n",
       "      <td>Google</td>\n",
       "      <td>I can't tell</td>\n",
       "      <td>quotgoogle product need condensedquot merissa ...</td>\n",
       "      <td>1</td>\n",
       "    </tr>\n",
       "    <tr>\n",
       "      <th>3351</th>\n",
       "      <td>#Apple, #Google, #Intel and Others Go Gaga for...</td>\n",
       "      <td>Apple</td>\n",
       "      <td>I can't tell</td>\n",
       "      <td>apple google intel others go gaga go game fast...</td>\n",
       "      <td>1</td>\n",
       "    </tr>\n",
       "    <tr>\n",
       "      <th>3352</th>\n",
       "      <td>Bet on a GoogleBuzz-like #fail. People don't c...</td>\n",
       "      <td>Google</td>\n",
       "      <td>I can't tell</td>\n",
       "      <td>bet googlebuzzlike fail people care privacy el...</td>\n",
       "      <td>1</td>\n",
       "    </tr>\n",
       "    <tr>\n",
       "      <th>3467</th>\n",
       "      <td>I am neither at #SXSW nor buying an iPad 2 tod...</td>\n",
       "      <td>Apple</td>\n",
       "      <td>I can't tell</td>\n",
       "      <td>neither buying ipad today feel like geek cred ...</td>\n",
       "      <td>1</td>\n",
       "    </tr>\n",
       "    <tr>\n",
       "      <th>3501</th>\n",
       "      <td>funny! iphone correction? RT @mention Dashing ...</td>\n",
       "      <td>Apple</td>\n",
       "      <td>I can't tell</td>\n",
       "      <td>funny iphone correction dash learn thing two l...</td>\n",
       "      <td>1</td>\n",
       "    </tr>\n",
       "    <tr>\n",
       "      <th>3539</th>\n",
       "      <td>Diller: Why would you do product only for the ...</td>\n",
       "      <td>Apple</td>\n",
       "      <td>I can't tell</td>\n",
       "      <td>diller would product ipad one form factor toda...</td>\n",
       "      <td>1</td>\n",
       "    </tr>\n",
       "    <tr>\n",
       "      <th>3762</th>\n",
       "      <td>+1 ÛÏ@mention +1 RT @mention Petricone says G...</td>\n",
       "      <td>Google</td>\n",
       "      <td>I can't tell</td>\n",
       "      <td>petricone say google tv browser think thats co...</td>\n",
       "      <td>1</td>\n",
       "    </tr>\n",
       "    <tr>\n",
       "      <th>3939</th>\n",
       "      <td>I would give my Apple stock to be more like @m...</td>\n",
       "      <td>Apple</td>\n",
       "      <td>I can't tell</td>\n",
       "      <td>would give apple stock like</td>\n",
       "      <td>1</td>\n",
       "    </tr>\n",
       "    <tr>\n",
       "      <th>3941</th>\n",
       "      <td>need to give my iPhone &amp;amp; liver a rest. #SXSW</td>\n",
       "      <td>Apple</td>\n",
       "      <td>I can't tell</td>\n",
       "      <td>need give iphone amp liver rest</td>\n",
       "      <td>1</td>\n",
       "    </tr>\n",
       "    <tr>\n",
       "      <th>4086</th>\n",
       "      <td>LOL. #Apple erects temporary Apple Store in #A...</td>\n",
       "      <td>Apple</td>\n",
       "      <td>I can't tell</td>\n",
       "      <td>lol apple erects temporary apple store austin ...</td>\n",
       "      <td>1</td>\n",
       "    </tr>\n",
       "    <tr>\n",
       "      <th>4096</th>\n",
       "      <td>Line a mile long outside. Lucky to get in just...</td>\n",
       "      <td>Apple</td>\n",
       "      <td>I can't tell</td>\n",
       "      <td>line mile long outside lucky get sit floor mom...</td>\n",
       "      <td>1</td>\n",
       "    </tr>\n",
       "    <tr>\n",
       "      <th>4138</th>\n",
       "      <td>Barry Diller interview at #SXSW was pretty hig...</td>\n",
       "      <td>Apple</td>\n",
       "      <td>I can't tell</td>\n",
       "      <td>barry diller interview pretty high level under...</td>\n",
       "      <td>1</td>\n",
       "    </tr>\n",
       "    <tr>\n",
       "      <th>4290</th>\n",
       "      <td>Hi, if came out here for #sxsw and in line at ...</td>\n",
       "      <td>Apple</td>\n",
       "      <td>I can't tell</td>\n",
       "      <td>hi come line temp apple store buy ipad fuck ho...</td>\n",
       "      <td>1</td>\n",
       "    </tr>\n",
       "  </tbody>\n",
       "</table>\n",
       "</div>"
      ],
      "text/plain": [
       "                                      unprocessed_tweet product       emotion  \\\n",
       "102   ÛÏ@mention &quot;Apple has opened a pop-up st...   Apple  I can't tell   \n",
       "413   SYD #SXSW crew your iPhone extra juice pods ha...   Apple  I can't tell   \n",
       "441   Why Barry Diller thinks iPad only content is n...   Apple  I can't tell   \n",
       "488   Gave into extreme temptation at #SXSW and boug...   Apple  I can't tell   \n",
       "640         Catch 22Û_ I mean iPad 2 at #SXSW : {link}   Apple  I can't tell   \n",
       "705   Forgot my iPhone for #sxsw. Android only. Knif...   Apple  I can't tell   \n",
       "749   Google no lanzara ningun producto en South by ...  Google  I can't tell   \n",
       "882   Comprando mi iPad 2 en el #SXSW (@mention Appl...   Apple  I can't tell   \n",
       "1069  I can now say that Google got me drunk #sxsw #...  Google  I can't tell   \n",
       "1087  ipad is a slow resting heartrate  #tapworthy #...   Apple  I can't tell   \n",
       "1164  Walked by the mobile Apple store in austin.  L...   Apple  I can't tell   \n",
       "1297  This Waze vs Google discussion is one of the b...  Google  I can't tell   \n",
       "1391  Wow folks, make sure that iPhone ringer is tur...   Apple  I can't tell   \n",
       "1422  Let's see: Google announcing Circles, Obama in...  Google  I can't tell   \n",
       "1437  @mention :) Maybe not *entirely* HD (Flip? iPh...   Apple  I can't tell   \n",
       "1545  @mention @mention @mention #Platformer CI di v...   Apple  I can't tell   \n",
       "1558  Google's @mention &quot;credit card cos. know ...  Google  I can't tell   \n",
       "1599  Hijacked @mention iPhone since mine is DOA. Mu...   Apple  I can't tell   \n",
       "1716  I'd take #sxsw hashtags over scheen, ipad/ipad...   Apple  I can't tell   \n",
       "1908  O no,not again {link} Google Circles Juwan How...  Google  I can't tell   \n",
       "1936  I just realized my iPhone's gonna go nuts with...   Apple  I can't tell   \n",
       "1961  At the Team Android party. Can't find it on Go...  Google  I can't tell   \n",
       "2068  Vai comeÌ¤ar a palestra do  @mention ex-chief ...   Apple  I can't tell   \n",
       "2095  Man gets arrested at #sxsw for not having an i...   Apple  I can't tell   \n",
       "2116  iPhone crashed in front of #sxsw Apple pop-up....   Apple  I can't tell   \n",
       "2144  Did... what my mom might call The Big at #SXSW...  Google  I can't tell   \n",
       "2263  Any blackberry apps for #sxsw ?? Pls let @ment...   Apple  I can't tell   \n",
       "2318  ipadi alacagimiz yer belli oldu:  Apple to Ope...   Apple  I can't tell   \n",
       "2334  Saw a bunch of security guards playing with iP...   Apple  I can't tell   \n",
       "2448  My #agnerd confession, using laptop, iPad and ...   Apple  I can't tell   \n",
       "2472  I'm bummed that I missed the Team Android part...  Google  I can't tell   \n",
       "2525  Next up: designing interfaces for iPad. Or sho...   Apple  I can't tell   \n",
       "2547  Thank goodness for these two hour breaks where...   Apple  I can't tell   \n",
       "2597  Temp store #sxsw  @mention Apple Store, SXSW {...   Apple  I can't tell   \n",
       "2614  I wish the apple store employees cheering for ...   Apple  I can't tell   \n",
       "2617  I won't be at #sxsw and I won't be in line to ...   Apple  I can't tell   \n",
       "2732  Looks like the line for the Apple pop-up store...   Apple  I can't tell   \n",
       "2739  Good place to test it. Will it be edgy enough?...  Google  I can't tell   \n",
       "2774  Hope there's time left for Poked Liked and ret...  Google  I can't tell   \n",
       "2902  #SXSW haven't trend this time because of the t...   Apple  I can't tell   \n",
       "2954  #UXdes @mention is glad there are no standard ...   Apple  I can't tell   \n",
       "2974  #sxsw: @mention We think we control our identi...  Google  I can't tell   \n",
       "3058  Google doesn't place any value on your domain ...  Google  I can't tell   \n",
       "3145  Google's Facebook-killer &quot;Circles&quot; t...  Google  I can't tell   \n",
       "3197  Liveblog from #SXSW: Can indie #iPhone game de...   Apple  I can't tell   \n",
       "3221  is walking around #SXSW while staring down at ...   Apple  I can't tell   \n",
       "3265  Google might launching a social network called...  Google  I can't tell   \n",
       "3298  &quot;Google products need to be condensed&quo...  Google  I can't tell   \n",
       "3351  #Apple, #Google, #Intel and Others Go Gaga for...   Apple  I can't tell   \n",
       "3352  Bet on a GoogleBuzz-like #fail. People don't c...  Google  I can't tell   \n",
       "3467  I am neither at #SXSW nor buying an iPad 2 tod...   Apple  I can't tell   \n",
       "3501  funny! iphone correction? RT @mention Dashing ...   Apple  I can't tell   \n",
       "3539  Diller: Why would you do product only for the ...   Apple  I can't tell   \n",
       "3762  +1 ÛÏ@mention +1 RT @mention Petricone says G...  Google  I can't tell   \n",
       "3939  I would give my Apple stock to be more like @m...   Apple  I can't tell   \n",
       "3941   need to give my iPhone &amp; liver a rest. #SXSW   Apple  I can't tell   \n",
       "4086  LOL. #Apple erects temporary Apple Store in #A...   Apple  I can't tell   \n",
       "4096  Line a mile long outside. Lucky to get in just...   Apple  I can't tell   \n",
       "4138  Barry Diller interview at #SXSW was pretty hig...   Apple  I can't tell   \n",
       "4290  Hi, if came out here for #sxsw and in line at ...   Apple  I can't tell   \n",
       "\n",
       "                                        processed_tweet  emotion_encoded  \n",
       "102   quotapple open popup store austin nerd town ge...                1  \n",
       "413             syd crew iphone extra juice pod procure                1  \n",
       "441                 barry diller think ipad content nut                1  \n",
       "488            give extreme temptation buy ipad impulse                1  \n",
       "640                                     catch mean ipad                1  \n",
       "705               forgot iphone android knife gun fight                1  \n",
       "749   google lanzara ningun producto en south southwest                1  \n",
       "882          comprando mi ipad en el apple store others                1  \n",
       "1069                        say google get drunk hckers                1  \n",
       "1087  ipad slow rest heartrate tapworthy gsdm leisur...                1  \n",
       "1164         walk mobile apple store austin line insane                1  \n",
       "1297  waze v google discussion one best see need com...                1  \n",
       "1391  wow folk make sure iphone ringer turn way pres...                1  \n",
       "1422  let see google announce circle obama austin do...                1  \n",
       "1437  maybe entirely hd flip iphone xl footage certa...                1  \n",
       "1545  platformer ci di venue pake app sq apid cnth t...                1  \n",
       "1558  google quotcredit card co know accuracy yr go ...                1  \n",
       "1599  hijack iphone since mine doa muahahahahhaahaha...                1  \n",
       "1716  id take hashtags scheen ipadipad tv sport twee...                1  \n",
       "1908                   nonot google circle juwan howard                1  \n",
       "1936  realize iphones gon na go nut foursquare gowal...                1  \n",
       "1961  team android party cant find gowalla foursquar...                1  \n",
       "2068       vai comear palestra exchief evangelist apple                1  \n",
       "2095                              man get arrest iphone                1  \n",
       "2116  iphone crash front apple popup bestworstthingever                1  \n",
       "2144  mom might call big power plant cnn google offc...                1  \n",
       "2263      blackberry apps pls let knowcheerswill iphone                1  \n",
       "2318  ipadi alacagimiz yer belli oldu apple open pop...                1  \n",
       "2334  saw bunch security guard play ipads apple stor...                1  \n",
       "2448  agnerd confession use laptop ipad blackberry f...                1  \n",
       "2472  im bum missed team android party oh well ctia ...                1  \n",
       "2525  next designing interface ipad hit quotyour bra...                1  \n",
       "2547  thank goodness two hour break turn iphone batt...                1  \n",
       "2597                             temp store apple store                1  \n",
       "2614  wish apple store employee cheer people line po...                1  \n",
       "2617                  line buy ipad tomorrow notwinning                1  \n",
       "2732  look like line apple popup store congress ave ...                1  \n",
       "2739  good place test edgy enough google check offer...                1  \n",
       "2774  hope there time leave poked liked retweeted go...                1  \n",
       "2902                  trend time tsunamithe ipad though                1  \n",
       "2954  uxdes glad standard ipad navigation tool might...                1  \n",
       "2974  think control identity facebook google becomes...                1  \n",
       "3058     google place value domain extension equal qagb                1  \n",
       "3145  google facebookkiller quotcirclesquot unveil t...                1  \n",
       "3197  liveblog indie iphone game development survive...                1  \n",
       "3221         walk around star iphone like everyone else                1  \n",
       "3265  google might launch social network call circle...                1  \n",
       "3298  quotgoogle product need condensedquot merissa ...                1  \n",
       "3351  apple google intel others go gaga go game fast...                1  \n",
       "3352  bet googlebuzzlike fail people care privacy el...                1  \n",
       "3467  neither buying ipad today feel like geek cred ...                1  \n",
       "3501  funny iphone correction dash learn thing two l...                1  \n",
       "3539  diller would product ipad one form factor toda...                1  \n",
       "3762  petricone say google tv browser think thats co...                1  \n",
       "3939                        would give apple stock like                1  \n",
       "3941                    need give iphone amp liver rest                1  \n",
       "4086  lol apple erects temporary apple store austin ...                1  \n",
       "4096  line mile long outside lucky get sit floor mom...                1  \n",
       "4138  barry diller interview pretty high level under...                1  \n",
       "4290  hi come line temp apple store buy ipad fuck ho...                1  "
      ]
     },
     "execution_count": 202,
     "metadata": {},
     "output_type": "execute_result"
    }
   ],
   "source": [
    "idk_df[idk_df['emotion_encoded'] == 1].head(60)"
   ]
  },
  {
   "cell_type": "code",
   "execution_count": 178,
   "metadata": {},
   "outputs": [
    {
     "ename": "NameError",
     "evalue": "name 'idk_df' is not defined",
     "output_type": "error",
     "traceback": [
      "\u001b[0;31m---------------------------------------------------------------------------\u001b[0m",
      "\u001b[0;31mNameError\u001b[0m                                 Traceback (most recent call last)",
      "\u001b[0;32m<ipython-input-178-87e19bae674f>\u001b[0m in \u001b[0;36m<module>\u001b[0;34m\u001b[0m\n\u001b[0;32m----> 1\u001b[0;31m \u001b[0midk_df\u001b[0m\u001b[0;34m\u001b[0m\u001b[0;34m\u001b[0m\u001b[0m\n\u001b[0m",
      "\u001b[0;31mNameError\u001b[0m: name 'idk_df' is not defined"
     ]
    }
   ],
   "source": [
    "idk_df"
   ]
  },
  {
   "cell_type": "code",
   "execution_count": null,
   "metadata": {},
   "outputs": [],
   "source": []
  }
 ],
 "metadata": {
  "kernelspec": {
   "display_name": "Python 3",
   "language": "python",
   "name": "python3"
  },
  "language_info": {
   "codemirror_mode": {
    "name": "ipython",
    "version": 3
   },
   "file_extension": ".py",
   "mimetype": "text/x-python",
   "name": "python",
   "nbconvert_exporter": "python",
   "pygments_lexer": "ipython3",
   "version": "3.8.5"
  }
 },
 "nbformat": 4,
 "nbformat_minor": 2
}
