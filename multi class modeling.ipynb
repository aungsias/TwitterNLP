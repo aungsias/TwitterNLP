{
 "cells": [
  {
   "cell_type": "code",
   "execution_count": 26,
   "metadata": {},
   "outputs": [],
   "source": [
    "import pandas as pd"
   ]
  },
  {
   "cell_type": "code",
   "execution_count": 54,
   "metadata": {},
   "outputs": [],
   "source": [
    "df = pd.read_csv(\"data/processed_tweets.csv\", index_col=0).dropna(subset=[\"unprocessed_tweet\"])"
   ]
  },
  {
   "cell_type": "code",
   "execution_count": 55,
   "metadata": {},
   "outputs": [
    {
     "data": {
      "text/plain": [
       "No emotion toward brand or product    0.592609\n",
       "Positive emotion                      0.327541\n",
       "Negative emotion                      0.062692\n",
       "I can't tell                          0.017158\n",
       "Name: emotion, dtype: float64"
      ]
     },
     "execution_count": 55,
     "metadata": {},
     "output_type": "execute_result"
    }
   ],
   "source": [
    "df[\"emotion\"].value_counts() / len(df)"
   ]
  },
  {
   "cell_type": "code",
   "execution_count": 56,
   "metadata": {},
   "outputs": [
    {
     "data": {
      "text/plain": [
       "(8936, 4)"
      ]
     },
     "execution_count": 56,
     "metadata": {},
     "output_type": "execute_result"
    }
   ],
   "source": [
    "df_multi_dropped = df[~(df[\"emotion\"] == \"I can't tell\")].copy()\n",
    "df_multi_dropped.shape"
   ]
  },
  {
   "cell_type": "code",
   "execution_count": 57,
   "metadata": {},
   "outputs": [
    {
     "data": {
      "text/plain": [
       "No emotion toward brand or product    5388\n",
       "Positive emotion                      2978\n",
       "Negative emotion                       570\n",
       "Name: emotion, dtype: int64"
      ]
     },
     "execution_count": 57,
     "metadata": {},
     "output_type": "execute_result"
    }
   ],
   "source": [
    "df_multi_dropped[\"emotion\"].value_counts()"
   ]
  },
  {
   "cell_type": "code",
   "execution_count": 58,
   "metadata": {},
   "outputs": [
    {
     "data": {
      "text/plain": [
       "2    5388\n",
       "1    2978\n",
       "0     570\n",
       "Name: emotion_encoded, dtype: int64"
      ]
     },
     "execution_count": 58,
     "metadata": {},
     "output_type": "execute_result"
    }
   ],
   "source": [
    "emotion_map = {\n",
    "    \"No emotion toward brand or product\": 2,\n",
    "    \"Positive emotion\": 1,\n",
    "    \"Negative emotion\": 0,\n",
    "}\n",
    "\n",
    "df_multi_dropped[\"emotion_encoded\"] = df_multi_dropped[\"emotion\"].map(emotion_map)\n",
    "df_multi_dropped[\"emotion_encoded\"].value_counts()"
   ]
  },
  {
   "cell_type": "code",
   "execution_count": 59,
   "metadata": {},
   "outputs": [
    {
     "data": {
      "text/plain": [
       "((6255,), (2681,), (6255,), (2681,))"
      ]
     },
     "execution_count": 59,
     "metadata": {},
     "output_type": "execute_result"
    }
   ],
   "source": [
    "from sklearn.model_selection import train_test_split\n",
    "\n",
    "X = df_multi_dropped[\"processed_tweet\"]\n",
    "y = df_multi_dropped[\"emotion_encoded\"]\n",
    "\n",
    "X_train, X_test, y_train, y_test = train_test_split(\n",
    "    X, y, test_size=0.3, random_state=42\n",
    ")\n",
    "\n",
    "X_train.shape, X_test.shape, y_train.shape, y_test.shape"
   ]
  },
  {
   "cell_type": "code",
   "execution_count": 60,
   "metadata": {},
   "outputs": [
    {
     "name": "stdout",
     "output_type": "stream",
     "text": [
      "0\n",
      "0\n",
      "0\n",
      "0\n"
     ]
    }
   ],
   "source": [
    "for dataset in [X_train, X_test,  y_train, y_test]:\n",
    "    print(dataset.isnull().sum())"
   ]
  },
  {
   "cell_type": "code",
   "execution_count": 65,
   "metadata": {},
   "outputs": [
    {
     "name": "stderr",
     "output_type": "stream",
     "text": [
      "100%|██████████| 3/3 [00:04<00:00,  1.37s/it]\n"
     ]
    }
   ],
   "source": [
    "from sklearn.pipeline import Pipeline\n",
    "from sklearn.feature_extraction.text import TfidfVectorizer\n",
    "from sklearn.tree import DecisionTreeClassifier\n",
    "from sklearn.ensemble import RandomForestClassifier\n",
    "from sklearn.neighbors import KNeighborsClassifier\n",
    "from tqdm import tqdm\n",
    "\n",
    "pipe_dt = Pipeline([(\"vectorizer\", TfidfVectorizer()), (\"dt\", DecisionTreeClassifier(random_state=42))])\n",
    "pipe_rf = Pipeline([(\"vectorizer\", TfidfVectorizer()), (\"rf\", RandomForestClassifier(random_state=42))])\n",
    "pipe_knn = Pipeline([(\"vectorizer\", TfidfVectorizer()), (\"knn\", KNeighborsClassifier())])\n",
    "\n",
    "pipes = [pipe_dt, pipe_rf, pipe_knn]\n",
    "names = [\"dt\", \"rf\", \"knn\"]\n",
    "\n",
    "for pipeline in tqdm(pipes):\n",
    "    pipeline.fit(X_train, y_train)"
   ]
  },
  {
   "cell_type": "code",
   "execution_count": 67,
   "metadata": {},
   "outputs": [
    {
     "name": "stderr",
     "output_type": "stream",
     "text": [
      "3it [00:00,  3.85it/s]\n"
     ]
    }
   ],
   "source": [
    "preds = {pipe: None for pipe in names}\n",
    "\n",
    "for name, pipe in tqdm(zip(names, pipes)):\n",
    "    preds[name] = pipe.predict(X_test)"
   ]
  },
  {
   "cell_type": "code",
   "execution_count": 71,
   "metadata": {},
   "outputs": [
    {
     "name": "stdout",
     "output_type": "stream",
     "text": [
      "DT\n",
      "              precision    recall  f1-score   support\n",
      "\n",
      "           0       0.32      0.18      0.23       189\n",
      "           1       0.48      0.48      0.48       880\n",
      "           2       0.68      0.72      0.70      1612\n",
      "\n",
      "    accuracy                           0.60      2681\n",
      "   macro avg       0.50      0.46      0.47      2681\n",
      "weighted avg       0.59      0.60      0.59      2681\n",
      "\n",
      "\n",
      "RF\n",
      "              precision    recall  f1-score   support\n",
      "\n",
      "           0       0.71      0.15      0.25       189\n",
      "           1       0.61      0.39      0.47       880\n",
      "           2       0.68      0.88      0.76      1612\n",
      "\n",
      "    accuracy                           0.67      2681\n",
      "   macro avg       0.67      0.47      0.50      2681\n",
      "weighted avg       0.66      0.67      0.63      2681\n",
      "\n",
      "\n",
      "KNN\n",
      "              precision    recall  f1-score   support\n",
      "\n",
      "           0       0.29      0.11      0.16       189\n",
      "           1       0.53      0.37      0.44       880\n",
      "           2       0.67      0.83      0.74      1612\n",
      "\n",
      "    accuracy                           0.63      2681\n",
      "   macro avg       0.50      0.44      0.45      2681\n",
      "weighted avg       0.60      0.63      0.60      2681\n",
      "\n",
      "\n"
     ]
    }
   ],
   "source": [
    "from sklearn.metrics import accuracy_score, classification_report\n",
    "\n",
    "for name in preds.keys():\n",
    "    print(name.upper())\n",
    "    print(classification_report(y_test, preds[name]))\n",
    "    print()"
   ]
  }
 ],
 "metadata": {
  "kernelspec": {
   "display_name": "learn-env",
   "language": "python",
   "name": "python3"
  },
  "language_info": {
   "codemirror_mode": {
    "name": "ipython",
    "version": 3
   },
   "file_extension": ".py",
   "mimetype": "text/x-python",
   "name": "python",
   "nbconvert_exporter": "python",
   "pygments_lexer": "ipython3",
   "version": "3.8.5"
  },
  "orig_nbformat": 4
 },
 "nbformat": 4,
 "nbformat_minor": 2
}
