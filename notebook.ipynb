{
 "cells": [
  {
   "cell_type": "markdown",
   "metadata": {},
   "source": [
    "## Contents\n",
    "1. [Overview](#overview)\n",
    "2. [Business Understanding](#business-understanding)\n",
    "3. [The Data](#the-data)\n",
    "    - [Overview of the Data](#overview-of-the-data)\n",
    "    - [Data / Text Preprocessing](#data--text-preprocessing)\n",
    "4. [Modeling](#modeling)\n",
    "    - [Overview of Modeling](#overview-of-modeling)\n",
    "    - [Approach 1 - Binary Classification](#approach-1---binary-classification)\n",
    "        - [Binary Model Rationale](#binary-model-rationale)\n",
    "        - [1. Logistic Regression](#1-logistic-regression)\n",
    "        - [2. Naive Bayes](#2-naive-bayes)\n",
    "        - [3. Random Forest (Binary)](#3-random-forest-binary)\n",
    "    - [Approach 2 - Multiclass Classification](#approach-2---multiclass-classification)\n",
    "        - [Multiclass Model Rationale](#multiclass-model-rationale)\n",
    "        - [1. K-Nearest Neighbors](#1-k-nearest-neighbors)\n",
    "        - [2. Decision Tree](#2-decision-tree)\n",
    "        - [3. Random Forest](#3-random-forest-multiclass)\n",
    "        - [4. Neural Network](#4-neural-network)\n",
    "5. [Model Selection](#model-selection)\n",
    "\n",
    "## Overview\n",
    "Our data analytics firm, Flatiron Analytics, has been hired by SXSW to perform sentiment analysis on tweets from the festival. This project analyses a data set crowdsourced by festival goers to assess positive or negative emotions towards Apple and Google products. Based on our analysis results, we will identify which product brand has the most positive association amongst festival goers.\n",
    "\n",
    "## Business Understanding\n",
    "SXSW wants to develop a new app for their festival and is deciding whether to deploy it on the Apple Store or Google Play Store. Flatiron Analytics has been tasked with developing a predictive model to accurately identify whether a given tweet displays “positive,” “negative,” or “neutral” emotion towards Apple and Google devices. Our analysis will provide SXSW with a clear direction on which Store to deploy their new app and how to utilize our predictive models for future festivals.\n",
    "\n",
    "## The Data\n",
    "\n",
    "### Overview of the Data\n",
    "\n",
    "Our analysis data was pulled from [Data World](https://data.world/crowdflower/brands-and-product-emotions) and included 8,700 tweets from the 2011 SXSW festival. Sentiments for each tweet were crowd-sourced where the crowd \"was asked if the tweet expressed positive, negative, or no emotion towards a brand and/or product”. The dataset includes information about the text of each tweet, the product the tweet was directed at, and the emotion exhibited towards that product.\n",
    "\n",
    "### Data / Text Preprocessing\n",
    "Before delving into sentiment analysis, it's paramount that we preprocess the textual data for analysis. Preprocessing refines the raw tweets into a more manageable and interpretable form, essential for accurate modeling. We've employed a multi-step approach using the Natural Language Toolkit (NLTK) to remove special characters, normalize case, tokenize, filter out stopwords, and lemmatize the text. To do so, we introduce a Python function to preprocess tweets for Natural Language Processing (NLP) tasks. The function employs a sequence of operations to clean, tokenize, and lemmatize tweet text. The purpose is to transmute raw tweets into a refined form that enables more accurate and efficient text analysis.\n",
    "\n",
    "Steps:\n",
    "1. **Special Character Removal**: Eliminates non-alphabetic characters to make the text more uniform.\n",
    "2. **Case Normalization**: Converts all text to lowercase to neutralize case sensitivity.\n",
    "3. **Tokenization**: Breaks the text into individual words for easier manipulation.\n",
    "4. **Stopword Removal**: Filters out commonly-used words that usually don't contribute to the meaning of a sentence.\n",
    "5. **Word Length Filtering**: Removes words that are too short and are likely to be irrelevant.\n",
    "6. **POS Tagging and Lemmatization**: Assigns Parts of Speech (POS) tags and reduces words to their base or root form.\n",
    "\n",
    "The function utilizes the `nltk` library and is designed to operate on a Pandas Series representing the unprocessed text, and we pass in the `'unprocessed_tweet'` column along with a defined list of stop words. The function then returns the processed text Series, making it ready for subsequent NLP applications:"
   ]
  },
  {
   "cell_type": "code",
   "execution_count": 1,
   "metadata": {},
   "outputs": [
    {
     "name": "stderr",
     "output_type": "stream",
     "text": [
      "[nltk_data] Downloading package wordnet to\n",
      "[nltk_data]     C:\\Users\\aungs_tko91wk\\AppData\\Roaming\\nltk_data...\n",
      "[nltk_data]   Package wordnet is already up-to-date!\n",
      "[nltk_data] Downloading package stopwords to\n",
      "[nltk_data]     C:\\Users\\aungs_tko91wk\\AppData\\Roaming\\nltk_data...\n",
      "[nltk_data]   Package stopwords is already up-to-date!\n",
      "[nltk_data] Downloading package punkt to\n",
      "[nltk_data]     C:\\Users\\aungs_tko91wk\\AppData\\Roaming\\nltk_data...\n",
      "[nltk_data]   Package punkt is already up-to-date!\n",
      "[nltk_data] Downloading package averaged_perceptron_tagger to\n",
      "[nltk_data]     C:\\Users\\aungs_tko91wk\\AppData\\Roaming\\nltk_data...\n",
      "[nltk_data]   Package averaged_perceptron_tagger is already up-to-\n",
      "[nltk_data]       date!\n",
      "[nltk_data] Downloading package words to\n",
      "[nltk_data]     C:\\Users\\aungs_tko91wk\\AppData\\Roaming\\nltk_data...\n",
      "[nltk_data]   Package words is already up-to-date!\n"
     ]
    }
   ],
   "source": [
    "import pandas as pd  \n",
    "import numpy as np\n",
    "import warnings\n",
    "warnings.filterwarnings(\"ignore\")\n",
    "\n",
    "import nltk                                  # Import the Natural Language Toolkit (nltk) for text processing\n",
    "\n",
    "nltk.download(\"wordnet\")                     # Download the WordNet lexicon for lemmatization\n",
    "nltk.download(\"stopwords\")                   # Download the list of stopwords for filtering\n",
    "nltk.download('punkt')                       # Download the Punkt tokenizer models for sentence splitting and tokenization\n",
    "nltk.download('averaged_perceptron_tagger')  # Download the averaged perceptron tagger for Part-of-Speech tagging\n",
    "nltk.download('words');                      # Download the words corpus for additional word resources"
   ]
  },
  {
   "cell_type": "code",
   "execution_count": 11,
   "metadata": {},
   "outputs": [],
   "source": [
    "# Load tweets csv with ISO encoding, which handles special characters\n",
    "df = pd.read_csv(\"data/tweets.csv\", encoding='ISO-8859-1')"
   ]
  },
  {
   "cell_type": "code",
   "execution_count": 12,
   "metadata": {},
   "outputs": [
    {
     "data": {
      "text/plain": [
       "tweet_text                                               1\n",
       "emotion_in_tweet_is_directed_at                       5802\n",
       "is_there_an_emotion_directed_at_a_brand_or_product       0\n",
       "dtype: int64"
      ]
     },
     "execution_count": 12,
     "metadata": {},
     "output_type": "execute_result"
    }
   ],
   "source": [
    "# Checking the null count\n",
    "df.isnull().sum()"
   ]
  },
  {
   "cell_type": "markdown",
   "metadata": {},
   "source": [
    "We'll go ahead and drop that one null value in the `'tweet_text'` column."
   ]
  },
  {
   "cell_type": "code",
   "execution_count": 13,
   "metadata": {},
   "outputs": [
    {
     "data": {
      "text/plain": [
       "tweet_text                                               0\n",
       "emotion_in_tweet_is_directed_at                       5801\n",
       "is_there_an_emotion_directed_at_a_brand_or_product       0\n",
       "dtype: int64"
      ]
     },
     "execution_count": 13,
     "metadata": {},
     "output_type": "execute_result"
    }
   ],
   "source": [
    "df = df.dropna(subset=[\"tweet_text\"])\n",
    "df.isnull().sum()"
   ]
  },
  {
   "cell_type": "code",
   "execution_count": 14,
   "metadata": {},
   "outputs": [
    {
     "name": "stdout",
     "output_type": "stream",
     "text": [
      "0       wesley iphone hr tweet riseaustin dead need up...\n",
      "1       jessedee know fludapp awesome ipadiphone app l...\n",
      "2                          swonderlin wait ipad also sale\n",
      "3               hope year festival crashy year iphone app\n",
      "4       sxtxstate great stuff fri marissa mayer google...\n",
      "                              ...                        \n",
      "9088                                      ipad everywhere\n",
      "9089    wave buzz interrupt regularly schedule geek pr...\n",
      "9090    google zeiger physician never report potential...\n",
      "9091    verizon iphone customer complain time fell bac...\n",
      "9092                            google test checkin offer\n",
      "Name: unprocessed_tweet, Length: 9092, dtype: object\n"
     ]
    }
   ],
   "source": [
    "from nltk.corpus import stopwords\n",
    "from nltk.tokenize import word_tokenize\n",
    "from nltk.tag import pos_tag\n",
    "from nltk.stem import WordNetLemmatizer\n",
    "from nltk.corpus import wordnet\n",
    "import pandas as pd  # Importing Pandas for data manipulation\n",
    "\n",
    "# Map POS tag to first character for use in WordNetLemmatizer\n",
    "def get_wordnet_pos(treebank_tag):\n",
    "    if treebank_tag.startswith('J'):\n",
    "        return wordnet.ADJ\n",
    "    elif treebank_tag.startswith('V'):\n",
    "        return wordnet.VERB\n",
    "    elif treebank_tag.startswith('N'):\n",
    "        return wordnet.NOUN\n",
    "    elif treebank_tag.startswith('R'):\n",
    "        return wordnet.ADV\n",
    "    else:\n",
    "        return wordnet.NOUN  # Default to NOUN\n",
    "\n",
    "# Remove special characters using a regex pattern\n",
    "def remove_special_chars(text_series, pattern=\"[^a-zA-Z\\s]\"):\n",
    "    return text_series.str.replace(pattern, \"\", regex=True)\n",
    "\n",
    "# Convert text to lowercase\n",
    "def to_lower(text_series):\n",
    "    return text_series.str.lower()\n",
    "\n",
    "# Tokenize text using word_tokenize from NLTK\n",
    "def tokenize_text(text_series):\n",
    "    return text_series.apply(lambda t: word_tokenize(str(t)))\n",
    "\n",
    "# Remove stopwords\n",
    "def filter_stopwords(tokenized_text, stop_words):\n",
    "    return tokenized_text.apply(lambda x: [word for word in x if word not in stop_words])\n",
    "\n",
    "# Remove short words\n",
    "def filter_length(tokenized_text, min_len=1):\n",
    "    return tokenized_text.apply(lambda x: [word for word in x if len(word) > min_len])\n",
    "\n",
    "# POS tagging and lemmatization\n",
    "def tag_and_lemmatize(tokenized_text):\n",
    "    lemmatizer = WordNetLemmatizer()\n",
    "    tagged_text = tokenized_text.apply(lambda x: pos_tag(x))\n",
    "    return tagged_text.apply(lambda x: [lemmatizer.lemmatize(word, get_wordnet_pos(pos)) for word, pos in x])\n",
    "\n",
    "# Master function to apply all preprocessing steps\n",
    "def preprocess_text(stop_words: list, text: pd.Series) -> pd.Series:\n",
    "    \n",
    "    # Apply the preprocessing functions\n",
    "    text = remove_special_chars(text)\n",
    "    text = to_lower(text)\n",
    "    tokenized_text = tokenize_text(text)\n",
    "    filtered_text = filter_stopwords(tokenized_text, stop_words)\n",
    "    filtered_text = filter_length(filtered_text)\n",
    "    lemmatized_text = tag_and_lemmatize(filtered_text)\n",
    "    \n",
    "    # Convert list of words back to string\n",
    "    lemmatized_str = lemmatized_text.apply(lambda x: ' '.join(x))\n",
    "    \n",
    "    return lemmatized_str\n",
    "\n",
    "# Create list of stopwords\n",
    "stop_words = stopwords.words(\"english\")\n",
    "stop_words = [i.replace(\"'\", '') for i in stop_words]\n",
    "top_words = ['sxsw', 'mention', 'link', 'rt']\n",
    "stop_words = stop_words + top_words\n",
    "\n",
    "# Rename DataFrame columns and apply the master function\n",
    "df.columns = [\"unprocessed_tweet\", \"product\", \"emotion\"]\n",
    "unprocessed_text = df[\"unprocessed_tweet\"]\n",
    "\n",
    "result = preprocess_text(stop_words, unprocessed_text)\n",
    "\n",
    "print(result)"
   ]
  },
  {
   "cell_type": "code",
   "execution_count": 15,
   "metadata": {},
   "outputs": [
    {
     "data": {
      "text/html": [
       "<div>\n",
       "<style scoped>\n",
       "    .dataframe tbody tr th:only-of-type {\n",
       "        vertical-align: middle;\n",
       "    }\n",
       "\n",
       "    .dataframe tbody tr th {\n",
       "        vertical-align: top;\n",
       "    }\n",
       "\n",
       "    .dataframe thead th {\n",
       "        text-align: right;\n",
       "    }\n",
       "</style>\n",
       "<table border=\"1\" class=\"dataframe\">\n",
       "  <thead>\n",
       "    <tr style=\"text-align: right;\">\n",
       "      <th></th>\n",
       "      <th>unprocessed_tweet</th>\n",
       "      <th>product</th>\n",
       "      <th>emotion</th>\n",
       "      <th>processed_tweet</th>\n",
       "    </tr>\n",
       "  </thead>\n",
       "  <tbody>\n",
       "    <tr>\n",
       "      <th>0</th>\n",
       "      <td>.@wesley83 I have a 3G iPhone. After 3 hrs twe...</td>\n",
       "      <td>iPhone</td>\n",
       "      <td>Negative emotion</td>\n",
       "      <td>wesley iphone hr tweet riseaustin dead need up...</td>\n",
       "    </tr>\n",
       "    <tr>\n",
       "      <th>1</th>\n",
       "      <td>@jessedee Know about @fludapp ? Awesome iPad/i...</td>\n",
       "      <td>iPad or iPhone App</td>\n",
       "      <td>Positive emotion</td>\n",
       "      <td>jessedee know fludapp awesome ipadiphone app l...</td>\n",
       "    </tr>\n",
       "    <tr>\n",
       "      <th>2</th>\n",
       "      <td>@swonderlin Can not wait for #iPad 2 also. The...</td>\n",
       "      <td>iPad</td>\n",
       "      <td>Positive emotion</td>\n",
       "      <td>swonderlin wait ipad also sale</td>\n",
       "    </tr>\n",
       "    <tr>\n",
       "      <th>3</th>\n",
       "      <td>@sxsw I hope this year's festival isn't as cra...</td>\n",
       "      <td>iPad or iPhone App</td>\n",
       "      <td>Negative emotion</td>\n",
       "      <td>hope year festival crashy year iphone app</td>\n",
       "    </tr>\n",
       "    <tr>\n",
       "      <th>4</th>\n",
       "      <td>@sxtxstate great stuff on Fri #SXSW: Marissa M...</td>\n",
       "      <td>Google</td>\n",
       "      <td>Positive emotion</td>\n",
       "      <td>sxtxstate great stuff fri marissa mayer google...</td>\n",
       "    </tr>\n",
       "  </tbody>\n",
       "</table>\n",
       "</div>"
      ],
      "text/plain": [
       "                                   unprocessed_tweet             product  \\\n",
       "0  .@wesley83 I have a 3G iPhone. After 3 hrs twe...              iPhone   \n",
       "1  @jessedee Know about @fludapp ? Awesome iPad/i...  iPad or iPhone App   \n",
       "2  @swonderlin Can not wait for #iPad 2 also. The...                iPad   \n",
       "3  @sxsw I hope this year's festival isn't as cra...  iPad or iPhone App   \n",
       "4  @sxtxstate great stuff on Fri #SXSW: Marissa M...              Google   \n",
       "\n",
       "            emotion                                    processed_tweet  \n",
       "0  Negative emotion  wesley iphone hr tweet riseaustin dead need up...  \n",
       "1  Positive emotion  jessedee know fludapp awesome ipadiphone app l...  \n",
       "2  Positive emotion                     swonderlin wait ipad also sale  \n",
       "3  Negative emotion          hope year festival crashy year iphone app  \n",
       "4  Positive emotion  sxtxstate great stuff fri marissa mayer google...  "
      ]
     },
     "execution_count": 15,
     "metadata": {},
     "output_type": "execute_result"
    }
   ],
   "source": [
    "# Store the processed text back into the dataframe\n",
    "df[\"processed_tweet\"] = result\n",
    "\n",
    "df.head()"
   ]
  },
  {
   "cell_type": "code",
   "execution_count": 16,
   "metadata": {},
   "outputs": [
    {
     "data": {
      "text/plain": [
       "unprocessed_tweet       0\n",
       "product              5801\n",
       "emotion                 0\n",
       "processed_tweet         0\n",
       "dtype: int64"
      ]
     },
     "execution_count": 16,
     "metadata": {},
     "output_type": "execute_result"
    }
   ],
   "source": [
    "df.isnull().sum()"
   ]
  },
  {
   "cell_type": "markdown",
   "metadata": {},
   "source": [
    "## Evaluation Metric\n",
    "\n",
    "Before we get to modeling, we'll need a north star to assess the model's performance. It’s often the case, in a business problem, that we focus on either minimizing false negatives or false positives. In this case, there’s no distinction between the two. For example, a positive tweet classified as a negative holds no more value to our business problem than a negative tweet classified as a positive. Because of this, **we chose accuracy as our evaluation metric**. Accuracy, in this case, is how well our model predicts the actual sentiment of a tweet."
   ]
  },
  {
   "cell_type": "markdown",
   "metadata": {},
   "source": [
    "## Modeling\n",
    "\n",
    "### Overview of Modeling\n",
    "\n",
    "We trained the data on multiple predictive models with many different iterations. We took two approaches—Binary Classification and Multiclass Classification. For feature extraction, we employed the Term Frequency-Inverse Document Frequency (TF-IDF) Vectorizer. Additionally, we utilized a pipeline architecture, facilitating hyperparameter tuning and model selection.\n",
    "\n",
    "Ultimately, our Binary classifier (Random Forest Classifier) performed the best, predicting tweet sentiment with an accuracy score of 85%. This model focused exclusively on tweets marked as having either a positive or negative emotion. On the other hand, our Ternary and Neural Ternary Classifiers included tweets marked as neutral or having no sentiment, complicating their predictive accuracy."
   ]
  },
  {
   "cell_type": "code",
   "execution_count": 17,
   "metadata": {},
   "outputs": [],
   "source": [
    "# Import the TFIDF Vectorizer and Pipeline\n",
    "from sklearn.feature_extraction.text import TfidfVectorizer\n",
    "from sklearn.pipeline import Pipeline\n",
    "\n",
    "# Import function to train-test-split and cross validation function\n",
    "# Import cross val predict to aid in plotting cross validation confusion matrices\n",
    "from sklearn.model_selection import train_test_split, cross_val_score, cross_val_predict\n",
    "\n",
    "# Import confusion matrix function, plotter, and accuracy score function\n",
    "from sklearn.metrics import confusion_matrix, ConfusionMatrixDisplay, accuracy_score"
   ]
  },
  {
   "cell_type": "markdown",
   "metadata": {},
   "source": [
    "### Approach 1 - Binary Classification\n",
    "\n",
    "#### Binary Model Rationale\n",
    "\n",
    "We employed a variety of models, coupled with hyperparameter tuning, to achieve the most robust results.\n",
    "\n",
    "1. **Logistic Regression**: We initiated our analysis with Logistic Regression due to its simplicity and efficiency. It serves as a solid baseline model for binary classification problems, being both interpretable and effective. The model was encapsulated within a pipeline for streamlined preprocessing and model fitting, with hyperparameter tuning to optimize its predictive power.\n",
    "\n",
    "2. **Naive Bayes**: This model was chosen for its computational efficiency and suitability for text classification tasks. It's particularly effective when the feature dimensions are high, as is often the case with text data. However, a limitation we encountered was that the pipeline wouldn't permit simultaneous hyperparameter tuning of both the Naive Bayes model and the TF-IDF Vectorizer. As a consequence, only the model itself was fine-tuned.\n",
    "\n",
    "3. **Random Forest Classifier**: Our final model in this approach was a Random Forest Classifier. This ensemble model is better able to handle large datasets with nonlinearity, so we were curious to see how it would perform. Hyperparameter tuning further refined its predictive capabilities."
   ]
  },
  {
   "cell_type": "code",
   "execution_count": 18,
   "metadata": {},
   "outputs": [],
   "source": [
    "# Import models for binary classification\n",
    "from sklearn.linear_model import LogisticRegression\n",
    "from sklearn.naive_bayes import GaussianNB\n",
    "from sklearn.ensemble import RandomForestClassifier\n",
    "\n",
    "# Import GridSearchCV for hyperparameter tuning\n",
    "from sklearn.model_selection import GridSearchCV"
   ]
  },
  {
   "cell_type": "markdown",
   "metadata": {},
   "source": [
    "Each of these models underwent tuning via `GridSearchCV` to ensure the most accurate and generalized predictions. Among them, the Random Forest Classifier yielded the highest accuracy, making it our model of choice for the Binary approach.\n",
    "\n",
    "Before proceeding, the first step is to prune the original dataframe such that we keep only entries with either a positive or negative emotion label. After that, we encoded the emotions into integer (we label positive emotions as 1 and negatives as 0), starting with the Binary Classification model:"
   ]
  },
  {
   "cell_type": "code",
   "execution_count": 19,
   "metadata": {},
   "outputs": [
    {
     "data": {
      "text/plain": [
       "Positive emotion    2978\n",
       "Negative emotion     570\n",
       "Name: emotion, dtype: int64"
      ]
     },
     "execution_count": 19,
     "metadata": {},
     "output_type": "execute_result"
    }
   ],
   "source": [
    "# Create a copy of the original dataframe\n",
    "df_binary = df.copy()\n",
    "\n",
    "# Define emotions for the binary model\n",
    "binary_emotions = [\"Negative emotion\", \"Positive emotion\"]\n",
    "\n",
    "# Prune the dataframe to only include positive and negative emotions\n",
    "df_binary = df_binary[df_binary[\"emotion\"].isin(binary_emotions)]\n",
    "\n",
    "df_binary[\"emotion\"].value_counts()"
   ]
  },
  {
   "cell_type": "markdown",
   "metadata": {},
   "source": [
    "It's worth noting that the dataset exhibits an imbalance in the distribution of classes, with 2,978 instances labeled as \"Positive emotion\" and 570 as \"Negative emotion.\" While the dataset is skewed, it is not severely imbalanced, which allows for meaningful analysis and model training. Nonetheless, we'll be cognizant of this as we go through the modeling process."
   ]
  },
  {
   "cell_type": "code",
   "execution_count": 20,
   "metadata": {},
   "outputs": [
    {
     "data": {
      "text/html": [
       "<div>\n",
       "<style scoped>\n",
       "    .dataframe tbody tr th:only-of-type {\n",
       "        vertical-align: middle;\n",
       "    }\n",
       "\n",
       "    .dataframe tbody tr th {\n",
       "        vertical-align: top;\n",
       "    }\n",
       "\n",
       "    .dataframe thead th {\n",
       "        text-align: right;\n",
       "    }\n",
       "</style>\n",
       "<table border=\"1\" class=\"dataframe\">\n",
       "  <thead>\n",
       "    <tr style=\"text-align: right;\">\n",
       "      <th></th>\n",
       "      <th>unprocessed_tweet</th>\n",
       "      <th>product</th>\n",
       "      <th>emotion</th>\n",
       "      <th>processed_tweet</th>\n",
       "      <th>emotion_encoded</th>\n",
       "    </tr>\n",
       "  </thead>\n",
       "  <tbody>\n",
       "    <tr>\n",
       "      <th>0</th>\n",
       "      <td>.@wesley83 I have a 3G iPhone. After 3 hrs twe...</td>\n",
       "      <td>iPhone</td>\n",
       "      <td>Negative emotion</td>\n",
       "      <td>wesley iphone hr tweet riseaustin dead need up...</td>\n",
       "      <td>0</td>\n",
       "    </tr>\n",
       "    <tr>\n",
       "      <th>1</th>\n",
       "      <td>@jessedee Know about @fludapp ? Awesome iPad/i...</td>\n",
       "      <td>iPad or iPhone App</td>\n",
       "      <td>Positive emotion</td>\n",
       "      <td>jessedee know fludapp awesome ipadiphone app l...</td>\n",
       "      <td>1</td>\n",
       "    </tr>\n",
       "    <tr>\n",
       "      <th>2</th>\n",
       "      <td>@swonderlin Can not wait for #iPad 2 also. The...</td>\n",
       "      <td>iPad</td>\n",
       "      <td>Positive emotion</td>\n",
       "      <td>swonderlin wait ipad also sale</td>\n",
       "      <td>1</td>\n",
       "    </tr>\n",
       "    <tr>\n",
       "      <th>3</th>\n",
       "      <td>@sxsw I hope this year's festival isn't as cra...</td>\n",
       "      <td>iPad or iPhone App</td>\n",
       "      <td>Negative emotion</td>\n",
       "      <td>hope year festival crashy year iphone app</td>\n",
       "      <td>0</td>\n",
       "    </tr>\n",
       "    <tr>\n",
       "      <th>4</th>\n",
       "      <td>@sxtxstate great stuff on Fri #SXSW: Marissa M...</td>\n",
       "      <td>Google</td>\n",
       "      <td>Positive emotion</td>\n",
       "      <td>sxtxstate great stuff fri marissa mayer google...</td>\n",
       "      <td>1</td>\n",
       "    </tr>\n",
       "  </tbody>\n",
       "</table>\n",
       "</div>"
      ],
      "text/plain": [
       "                                   unprocessed_tweet             product  \\\n",
       "0  .@wesley83 I have a 3G iPhone. After 3 hrs twe...              iPhone   \n",
       "1  @jessedee Know about @fludapp ? Awesome iPad/i...  iPad or iPhone App   \n",
       "2  @swonderlin Can not wait for #iPad 2 also. The...                iPad   \n",
       "3  @sxsw I hope this year's festival isn't as cra...  iPad or iPhone App   \n",
       "4  @sxtxstate great stuff on Fri #SXSW: Marissa M...              Google   \n",
       "\n",
       "            emotion                                    processed_tweet  \\\n",
       "0  Negative emotion  wesley iphone hr tweet riseaustin dead need up...   \n",
       "1  Positive emotion  jessedee know fludapp awesome ipadiphone app l...   \n",
       "2  Positive emotion                     swonderlin wait ipad also sale   \n",
       "3  Negative emotion          hope year festival crashy year iphone app   \n",
       "4  Positive emotion  sxtxstate great stuff fri marissa mayer google...   \n",
       "\n",
       "   emotion_encoded  \n",
       "0                0  \n",
       "1                1  \n",
       "2                1  \n",
       "3                0  \n",
       "4                1  "
      ]
     },
     "execution_count": 20,
     "metadata": {},
     "output_type": "execute_result"
    }
   ],
   "source": [
    "# Create a dictionary to map emotions to numerical codes\n",
    "emotion_map = {\"Negative emotion\": 0, \"Positive emotion\": 1}\n",
    "\n",
    "# Apply the mapping to the 'emotion' column\n",
    "df_binary[\"emotion_encoded\"] = df_binary[\"emotion\"].map(emotion_map)\n",
    "\n",
    "df_binary.head()"
   ]
  },
  {
   "cell_type": "markdown",
   "metadata": {},
   "source": [
    "Now that we've encoded the two emotions, we can move on to the modeling. We start by splitting our dataset into training and testing sets."
   ]
  },
  {
   "cell_type": "code",
   "execution_count": 21,
   "metadata": {},
   "outputs": [],
   "source": [
    "# Store X and y values\n",
    "X = df_binary['processed_tweet']\n",
    "y = df_binary['emotion_encoded']\n",
    "\n",
    "# Train test split\n",
    "X_train, X_test, y_train, y_test = train_test_split(X, y, test_size=.2, random_state=42)"
   ]
  },
  {
   "cell_type": "markdown",
   "metadata": {},
   "source": [
    "From this point on we'll be building our models, starting with Logistic Regression and ending with the Random Forest Classifier. Each will be cross validated via `cross_val_score`, and tuned via `GridSearchCV`. For the sake of speed and concision, we've stored the best parameters and best estimator outputs from the grid, so that the searches do not have to be run again."
   ]
  },
  {
   "cell_type": "markdown",
   "metadata": {},
   "source": [
    "#### 1. Logistic Regression"
   ]
  },
  {
   "cell_type": "code",
   "execution_count": 22,
   "metadata": {},
   "outputs": [
    {
     "name": "stdout",
     "output_type": "stream",
     "text": [
      "Logistic Regression Cross Validation Accuracy: 84.28%\n"
     ]
    }
   ],
   "source": [
    "# Construct pipeline with vectorizer, and then cross validate on training data using accuracy\n",
    "log_pipe = Pipeline([\n",
    "    ('tf', TfidfVectorizer(min_df=.01, max_df=.9, stop_words=stop_words)),\n",
    "    ('lr', LogisticRegression(random_state=42))\n",
    "])\n",
    "\n",
    "# Take the mean of the cross validation scores\n",
    "log_pipe_score = np.mean(cross_val_score(log_pipe, X_train, y_train, cv=5, scoring=\"accuracy\"))\n",
    "\n",
    "print(f\"Logistic Regression Cross Validation Accuracy: {log_pipe_score*100:,.2f}%\")"
   ]
  },
  {
   "cell_type": "code",
   "execution_count": 24,
   "metadata": {},
   "outputs": [
    {
     "name": "stdout",
     "output_type": "stream",
     "text": [
      "Tuned Logistic Regression Cross Validation Accuracy: 84.43%\n"
     ]
    }
   ],
   "source": [
    "# Grid search for hyperparameter tuning the Logistic Regression\n",
    "\n",
    "# Define parameter grid for the vectorizer and logistic regression\n",
    "# log_param_grid = {\n",
    "#     'tf__min_df': [.01, .02, .03],\n",
    "#     'tf__max_df': [.88, .90, .92],\n",
    "#     'tf__ngram_range': [(1,1), (1,2), (1,3)],\n",
    "#     'lr__penalty': [None, 'l2', 'l1'],\n",
    "#     'lr__class_weight': [None, 'balanced'],\n",
    "#     'lr__solver': ['lbfgs', 'liblinear'],\n",
    "#     'lr__max_iter': [10, 15, 20]\n",
    "# }\n",
    "\n",
    "\n",
    "# log_grid = GridSearchCV(log_pipe, log_param_grid, cv=5, n_jobs=-2, verbose=1, scoring='accuracy')\n",
    "# log_grid.fit(X_train, y_train)\n",
    "\n",
    "# Below are results from the grid search\n",
    "\n",
    "log_tf_best_params = {\n",
    "    'min_df': 0.01, \n",
    "    'max_df': 0.88, \n",
    "    'stop_words': stop_words\n",
    "}\n",
    "\n",
    "log_best_params = {\n",
    "    'class_weight': None, \n",
    "    'max_iter': 10, \n",
    "    'penalty': 'l1', \n",
    "    'solver': 'liblinear',\n",
    "    'random_state': 42\n",
    "}\n",
    "\n",
    "log_best = Pipeline([\n",
    "    (\"tf\", TfidfVectorizer(**log_tf_best_params)),\n",
    "    ('lr', LogisticRegression(**log_best_params))\n",
    "])\n",
    "\n",
    "log_best_score = 0.8442556574011973\n",
    "\n",
    "print(f\"Tuned Logistic Regression Cross Validation Accuracy: {log_best_score*100:,.2f}%\")"
   ]
  },
  {
   "cell_type": "code",
   "execution_count": 25,
   "metadata": {},
   "outputs": [
    {
     "data": {
      "image/png": "[encoded data removed]",
      "text/plain": [
       "<Figure size 432x288 with 2 Axes>"
      ]
     },
     "metadata": {
      "needs_background": "light"
     },
     "output_type": "display_data"
    }
   ],
   "source": [
    "y_pred_log_cv = cross_val_predict(log_best, X_train, y_train, cv=5)\n",
    "\n",
    "log_conf_mat = confusion_matrix(y_train, y_pred_log_cv)\n",
    "ConfusionMatrixDisplay(log_conf_mat).plot();"
   ]
  },
  {
   "cell_type": "markdown",
   "metadata": {},
   "source": [
    "A quick breakdown of the Logistic Regression (tuned) model:\n",
    "- High True Positives: The model is proficient at identifying the positive emotions.\n",
    "- High False Positives: The model errs considerably in wrongly classifying negative emotions as positives.\n",
    "- Low True Negatives: The model struggles with correctly identifying negative emotions.\n",
    "- Low False Negatives: The model is reasonably good at not misclassifying positive emotions as negatives."
   ]
  },
  {
   "cell_type": "markdown",
   "metadata": {},
   "source": [
    "Now, let's move on to the Naive Bayes algorithm to see if we can do better."
   ]
  },
  {
   "cell_type": "markdown",
   "metadata": {},
   "source": [
    "#### 2. Naive Bayes"
   ]
  },
  {
   "cell_type": "code",
   "execution_count": 26,
   "metadata": {},
   "outputs": [
    {
     "name": "stdout",
     "output_type": "stream",
     "text": [
      "Naive Bayes Cross Validation Accuracy: 41.93%\n"
     ]
    }
   ],
   "source": [
    "# Initialize the TF-IDF Vectorizer with specified min_df and max_df\n",
    "tf = TfidfVectorizer(min_df = .01, max_df = .9)\n",
    "\n",
    "# Transform the training and test data using the TF-IDF Vectorizer\n",
    "X_train_tf = tf.fit_transform(X_train.values)\n",
    "X_train_tf = X_train_tf.toarray()\n",
    "X_test_tf = tf.transform(X_test.values)\n",
    "X_test_tf = X_test_tf.toarray()\n",
    "\n",
    "# Initialize the Gaussian Naive Bayes model\n",
    "nb_model = GaussianNB()\n",
    "\n",
    "# Perform cross-validation and calculate the mean accuracy\n",
    "nb_score = np.mean(cross_val_score(nb_model, X_train_tf, y_train, scoring=\"accuracy\"))\n",
    "\n",
    "print(f\"Naive Bayes Cross Validation Accuracy: {nb_score*100:,.2f}%\")\n",
    "\n",
    "# Note: The Naive Bayes model and TF-IDF Vectorizer cannot be fitted into the same pipeline in this case.\n",
    "# This requires separate steps for vectorization and model training."
   ]
  },
  {
   "cell_type": "code",
   "execution_count": 28,
   "metadata": {},
   "outputs": [
    {
     "name": "stdout",
     "output_type": "stream",
     "text": [
      "Tuned Naive Bayes Cross Validation Accuracy: 43.52%\n"
     ]
    }
   ],
   "source": [
    "# Grid search for hyperparameter tuning the Naive Bayes model\n",
    "\n",
    "# Define parameter grid for the Naive Bayes model\n",
    "# nb_param_grid = {\n",
    "#     'var_smoothing': [1e-8, 1e-9, 1e-10]\n",
    "# }\n",
    "\n",
    "# nb_grid = GridSearchCV(nb_model, nb_param_grid, cv=5, verbose=10, scoring='accuracy')\n",
    "# nb_grid.fit(X_train_tf, y_train)\n",
    "\n",
    "# Below are results from the grid search\n",
    "nb_best_params = {'var_smoothing': 1e-08}\n",
    "\n",
    "nb_best = GaussianNB(**nb_best_params)\n",
    "\n",
    "nb_best_score = 0.43517152296495015\n",
    "\n",
    "print(f\"Tuned Naive Bayes Cross Validation Accuracy: {nb_best_score*100:,.2f}%\")"
   ]
  },
  {
   "cell_type": "code",
   "execution_count": 29,
   "metadata": {},
   "outputs": [
    {
     "data": {
      "image/png": "[encoded data removed]",
      "text/plain": [
       "<Figure size 432x288 with 2 Axes>"
      ]
     },
     "metadata": {
      "needs_background": "light"
     },
     "output_type": "display_data"
    }
   ],
   "source": [
    "y_pred_nb_cv = cross_val_predict(nb_best, X_train_tf, y_train, cv=5)\n",
    "\n",
    "nb_conf_mat = confusion_matrix(y_train, y_pred_nb_cv)\n",
    "ConfusionMatrixDisplay(nb_conf_mat).plot();"
   ]
  },
  {
   "cell_type": "markdown",
   "metadata": {},
   "source": [
    "A quick Breakdown of the Naive Bayes (tuned) model:\n",
    "\n",
    "- High True Negatives: The model demonstrates proficiency in identifying negative emotions correctly.\n",
    "- Low False Positives: The model shows restraint in misclassifying negative emotions as positive, indicating good specificity.\n",
    "- High False Negatives: The model errs considerably by misclassifying a large number of positive emotions as negatives. This is a point of concern.\n",
    "- Moderate True Positives: The model exhibits a moderate capability to correctly identify positive emotions.\n",
    "\n",
    "Overall, the model performed much worse in the cross validation than did the tuned Logistic Regression model. For our final iteration on our binary classification, we'll use the Random Forest classifier. Random Forests better handle imbalanced datasets, and are able to capture complex patterns, making it a strong candidate for improving classification accuracy."
   ]
  },
  {
   "cell_type": "markdown",
   "metadata": {},
   "source": [
    "#### 3. Random Forest"
   ]
  },
  {
   "cell_type": "code",
   "execution_count": 30,
   "metadata": {},
   "outputs": [
    {
     "name": "stdout",
     "output_type": "stream",
     "text": [
      "Random Forest Cross Validation Accuracy: 85.48%\n"
     ]
    }
   ],
   "source": [
    "# Construct a pipeline with the vectorizer and the Random Forest Classifier\n",
    "forest_pipe = Pipeline([\n",
    "    ('tf', TfidfVectorizer(min_df=.01, max_df=.9, stop_words=stop_words)),\n",
    "    ('rf', RandomForestClassifier(random_state=42))\n",
    "])\n",
    "\n",
    "# Perform cross-validation and calculate the mean accuracy\n",
    "forest_score = np.mean(cross_val_score(forest_pipe, X_train, y_train, scoring=\"accuracy\"))\n",
    "\n",
    "print(f\"Random Forest Cross Validation Accuracy: {forest_score*100:,.2f}%\")"
   ]
  },
  {
   "cell_type": "code",
   "execution_count": 59,
   "metadata": {},
   "outputs": [
    {
     "name": "stdout",
     "output_type": "stream",
     "text": [
      "Tuned Random Forest Cross Validation Accuracy: 85.59%\n"
     ]
    }
   ],
   "source": [
    "# Grid search for hyperparameter tuning the Random Forest\n",
    "\n",
    "# Define parameter grid for the Naive Bayes model\n",
    "# forest_param_grid = {\n",
    "#     'tf__min_df': [.01, .02, .03],\n",
    "#     'tf__max_df': [.88, .90, .92],\n",
    "#     'tf__ngram_range': [(1,1), (1,2), (1,3)],\n",
    "#     'rf__n_estimators': [86, 88, 90],\n",
    "#     'rf__min_samples_split': [1, 2, 3],\n",
    "#     'rf__class_weight': [None, 'balanced', 'balanced_subsample']   \n",
    "# }\n",
    "\n",
    "# forest_grid = GridSearchCV(forest_pipe, forest_param_grid, cv=5, verbose=10, scoring='accuracy')\n",
    "# forest_grid.fit(X_train_tf, y_train)\n",
    "\n",
    "# Below are results from the grid search\n",
    "\n",
    "forest_tf_best_params = {\n",
    "    'max_df': 0.88, \n",
    "    'min_df': 0.01, \n",
    "    'ngram_range': (1, 1)\n",
    "}\n",
    "\n",
    "forest_best_params = {\n",
    "    'class_weight': None, \n",
    "    'min_samples_split': 2, \n",
    "    'n_estimators': 88,\n",
    "    'random_state': 42, \n",
    "}\n",
    "\n",
    "forest_best = Pipeline([\n",
    "    ('tf', TfidfVectorizer(**forest_tf_best_params)),\n",
    "    ('rf', RandomForestClassifier(**forest_best_params))\n",
    "])\n",
    "\n",
    "forest_best_score = 0.8558871749012594\n",
    "\n",
    "print(f\"Tuned Random Forest Cross Validation Accuracy: {forest_best_score*100:,.2f}%\")"
   ]
  },
  {
   "cell_type": "code",
   "execution_count": 32,
   "metadata": {},
   "outputs": [
    {
     "data": {
      "image/png": "[encoded data removed]",
      "text/plain": [
       "<Figure size 432x288 with 2 Axes>"
      ]
     },
     "metadata": {
      "needs_background": "light"
     },
     "output_type": "display_data"
    }
   ],
   "source": [
    "y_pred_forest_cv = cross_val_predict(forest_best, X_train, y_train, cv=5)\n",
    "\n",
    "forest_conf_mat = confusion_matrix(y_train, y_pred_forest_cv)\n",
    "ConfusionMatrixDisplay(forest_conf_mat).plot();"
   ]
  },
  {
   "cell_type": "markdown",
   "metadata": {},
   "source": [
    "A quick breakdown of the Random Forest model:\n",
    "- Moderate True Negatives: The model demonstrates some ability to identify negative emotions but could be improved.\n",
    "- High False Positives: The model errs significantly by misclassifying a considerable number of negative emotions as positive. This indicates a lack of specificity.\n",
    "- Low False Negatives: The model performs well in avoiding the misclassification of positive emotions as negative, which is commendable.\n",
    "- High True Positives: The model excels at correctly identifying positive emotions, indicating strong sensitivity."
   ]
  },
  {
   "cell_type": "markdown",
   "metadata": {},
   "source": [
    "We thus selected the Random Forest Classifier for our final iteration in binary classification. Our rationale for this choice hinges on its high accuracy, which aligns with our designated evaluation metric. Let's test it on unseen data."
   ]
  },
  {
   "cell_type": "code",
   "execution_count": 96,
   "metadata": {},
   "outputs": [
    {
     "name": "stdout",
     "output_type": "stream",
     "text": [
      "Tuned Random Forest Accuracy Score on Unseen Data: 85.77%\n"
     ]
    }
   ],
   "source": [
    "forest_best.fit(X_train, y_train)\n",
    "y_pred_forest_best = forest_best.predict(X_test)\n",
    "forest_best_test_acc = accuracy_score(y_test, y_pred_forest_best)\n",
    "\n",
    "print(f\"Tuned Random Forest Accuracy Score on Unseen Data: {forest_best_test_acc*100:,.2f}%\")"
   ]
  },
  {
   "cell_type": "markdown",
   "metadata": {},
   "source": [
    "Not bad at all, with respect to accuracy! This will be the model we choose for our binary approach given its high accuracy score."
   ]
  },
  {
   "cell_type": "markdown",
   "metadata": {},
   "source": [
    "Next, we also wanted to see if a multiclass classification approach would yield insights useful for our tweet sentiment analysis, so in the next section we'll explore that. However, as mentioned, the binary approach yielded much more fruitful insights than the multiclass approach."
   ]
  },
  {
   "cell_type": "markdown",
   "metadata": {},
   "source": [
    "### Approach 2 - Multiclass Classification"
   ]
  },
  {
   "cell_type": "markdown",
   "metadata": {},
   "source": [
    "#### Multiclass Model Rationale\n",
    "For multiclass classification, we diversified our model portfolio to capture the nuanced sentiments—positive, negative, and neutral. The models chosen for this approach are selected based on their individual strengths in handling multi-class problems and their compatibility with text data.\n",
    "\n",
    "1. **K-Nearest Neighbors (K-NN)**: This model was chosen for its ability to detect non-linear decision boundaries. K-NN is often effective when the data forms distinct clusters, and given the high-dimensional nature of text data, this method can be advantageous.\n",
    "\n",
    "2. **Decision Tree Classifier**: This model offers high interpretability and can capture complex relationships in the data. It also serves as a basis for our ensemble model, Random Forest.\n",
    "\n",
    "3. **Random Forest Classifier**: Building upon the Decision Tree model, Random Forest was included to improve the robustness and accuracy of the classification. Its ensemble nature allows it to average out biases and reduce overfitting.\n",
    "\n",
    "4. **Neural Network**: Finally, we deployed a Neural Network model to capture complex, high-level features in the text. Neural Networks are particularly useful when the relationships between the features are intricate and not easily linearly separable.\n",
    "\n",
    "Each model was subjected to hyperparameter tuning to extract the best performance possible. But before we model, we'd need to encode the original dataset differently - we now have to account for positive, negative *and* neutral emotions (postives will be labeled as 1, negatives as 0, and neutrals as 2)."
   ]
  },
  {
   "cell_type": "code",
   "execution_count": 42,
   "metadata": {},
   "outputs": [],
   "source": [
    "# Import models\n",
    "from sklearn.neighbors import KNeighborsClassifier\n",
    "from sklearn.tree import DecisionTreeClassifier"
   ]
  },
  {
   "cell_type": "code",
   "execution_count": 36,
   "metadata": {},
   "outputs": [
    {
     "data": {
      "text/plain": [
       "No emotion toward brand or product    5388\n",
       "Positive emotion                      2978\n",
       "Negative emotion                       570\n",
       "I can't tell                           156\n",
       "Name: emotion, dtype: int64"
      ]
     },
     "execution_count": 36,
     "metadata": {},
     "output_type": "execute_result"
    }
   ],
   "source": [
    "# Create a copy of the original dataframe\n",
    "df_multi_ = df.copy()\n",
    "\n",
    "# Check emotion value count\n",
    "df_multi_[\"emotion\"].value_counts()"
   ]
  },
  {
   "cell_type": "markdown",
   "metadata": {},
   "source": [
    "As we can see above, we in fact have 4 categories within our `'emotion'` column. However, we're only concerned with 3. The `'I can't tell'` entries are a very small subset of our data, and don't give us much information, so we'll go ahead and drop those."
   ]
  },
  {
   "cell_type": "code",
   "execution_count": 37,
   "metadata": {},
   "outputs": [
    {
     "data": {
      "text/plain": [
       "No emotion toward brand or product    5388\n",
       "Positive emotion                      2978\n",
       "Negative emotion                       570\n",
       "Name: emotion, dtype: int64"
      ]
     },
     "execution_count": 37,
     "metadata": {},
     "output_type": "execute_result"
    }
   ],
   "source": [
    "# Drop \"I can't tells\" from the dataset\n",
    "df_multi = df_multi_[df_multi_[\"emotion\"] != \"I can't tell\"]\n",
    "df_multi['emotion'].value_counts()"
   ]
  },
  {
   "cell_type": "markdown",
   "metadata": {},
   "source": [
    "Now that that's done, we can encode our three emotion categories."
   ]
  },
  {
   "cell_type": "code",
   "execution_count": 41,
   "metadata": {},
   "outputs": [
    {
     "data": {
      "text/plain": [
       "2    5388\n",
       "1    2978\n",
       "0     570\n",
       "Name: emotion_encoded, dtype: int64"
      ]
     },
     "execution_count": 41,
     "metadata": {},
     "output_type": "execute_result"
    }
   ],
   "source": [
    "# Create a dictionary to encode emotions\n",
    "emotion_map_multi = {\n",
    "    'No emotion toward brand or product': 2,\n",
    "    'Positive emotion': 1,\n",
    "    'Negative emotion': 0\n",
    "}\n",
    "\n",
    "df_multi['emotion_encoded'] = df_multi['emotion'].map(emotion_map_multi)\n",
    "df_multi['emotion_encoded'].value_counts()"
   ]
  },
  {
   "cell_type": "markdown",
   "metadata": {},
   "source": [
    "We'll then split our data into training and testing sets."
   ]
  },
  {
   "cell_type": "code",
   "execution_count": 43,
   "metadata": {},
   "outputs": [
    {
     "data": {
      "text/plain": [
       "((7148,), (1788,), (7148,), (1788,))"
      ]
     },
     "execution_count": 43,
     "metadata": {},
     "output_type": "execute_result"
    }
   ],
   "source": [
    "# Store X and y\n",
    "X_multi = df_multi[\"processed_tweet\"]\n",
    "y_multi = df_multi[\"emotion_encoded\"]\n",
    "\n",
    "# Train test split\n",
    "X_train_m, X_test_m, y_train_m, y_test_m = train_test_split(\n",
    "    X_multi, y_multi, test_size=.2, random_state=42\n",
    ")\n",
    "\n",
    "# Inspect shape\n",
    "X_train_m.shape, X_test_m.shape, y_train_m.shape, y_test_m.shape"
   ]
  },
  {
   "cell_type": "markdown",
   "metadata": {},
   "source": [
    "We're now ready to build our models and tune them as we did for our binary approach."
   ]
  },
  {
   "cell_type": "markdown",
   "metadata": {},
   "source": [
    "#### 1. K-Nearest Neighbors"
   ]
  },
  {
   "cell_type": "code",
   "execution_count": 54,
   "metadata": {},
   "outputs": [
    {
     "name": "stdout",
     "output_type": "stream",
     "text": [
      "KNN Cross Validation Accuracy Score: 63.26%\n"
     ]
    }
   ],
   "source": [
    "# Construct a pipeline with the vectorizer and the KNN Classifier\n",
    "knn_pipe = Pipeline([\n",
    "    (\"tf\", TfidfVectorizer(stop_words=\"english\")), \n",
    "    (\"knn\", KNeighborsClassifier())\n",
    "])\n",
    "\n",
    "# Run cross validation\n",
    "knn_pipe_score = np.mean(cross_val_score(knn_pipe, X_train_m, y_train_m, scoring=\"accuracy\", cv=5))\n",
    "\n",
    "print(f\"KNN Cross Validation Accuracy Score: {knn_pipe_score*100:,.2f}%\")"
   ]
  },
  {
   "cell_type": "code",
   "execution_count": 60,
   "metadata": {},
   "outputs": [
    {
     "name": "stdout",
     "output_type": "stream",
     "text": [
      "Tuned KNN Cross Validation Accuracy Score: 55.96%\n"
     ]
    }
   ],
   "source": [
    "# Grid search for hyperparameter tuning the KNN Classifier\n",
    "\n",
    "# knn_param_grid = {\n",
    "#     'knn__n_neighbors': [3, 5, 7],\n",
    "#     'knn__weights': ['uniform', 'distance'],\n",
    "#     'vectorizer__ngram_range': [(1, 1), (1, 2)],\n",
    "#     'vectorizer__min_df': [0.05, 0.1, 0.15, 0.2],\n",
    "#     'vectorizer__max_df': [0.9, 0.95, 1.0]\n",
    "# }\n",
    "\n",
    "# knn_grid = GridSearchCV(knn_pipe, knn_param_grid, scoring=\"accuracy\", cv=5, n_jobs=-2, verbose=10)\n",
    "# knn_grid.fit(X_train_m, y_train_m)\n",
    "\n",
    "# Below are results from the grid search\n",
    "\n",
    "knn_best_params = {\n",
    "    'n_neighbors': 7, \n",
    "    'weights': 'uniform'\n",
    "}\n",
    "\n",
    "knn_tf_best_params = {\n",
    "    'max_df': 1.0, \n",
    "    'min_df': 0.05, \n",
    "    'ngram_range': (1, 2)\n",
    "}\n",
    "\n",
    "knn_best = Pipeline([\n",
    "    ('tf', TfidfVectorizer(**knn_tf_best_params)),\n",
    "    ('knn', KNeighborsClassifier(**knn_best_params))\n",
    "])\n",
    "\n",
    "knn_best_score = 0.5595963728364008\n",
    "\n",
    "print(f\"Tuned KNN Cross Validation Accuracy Score: {knn_best_score*100:,.2f}%\")"
   ]
  },
  {
   "cell_type": "code",
   "execution_count": 61,
   "metadata": {},
   "outputs": [
    {
     "data": {
      "image/png": "[encoded data removed]",
      "text/plain": [
       "<Figure size 432x288 with 2 Axes>"
      ]
     },
     "metadata": {
      "needs_background": "light"
     },
     "output_type": "display_data"
    }
   ],
   "source": [
    "y_pred_knn_cv = cross_val_predict(knn_best, X_train_m, y_train_m, cv=5)\n",
    "\n",
    "knn_conf_mat = confusion_matrix(y_train_m, y_pred_knn_cv)\n",
    "ConfusionMatrixDisplay(knn_conf_mat).plot();"
   ]
  },
  {
   "cell_type": "markdown",
   "metadata": {},
   "source": [
    "A quick breakdown of the KNN (tuned) Model:\n",
    "\n",
    "- True Positives (for Negative Class - '0'): The model only correctly identified 1 negative tweet, which is significantly low and indicates poor performance in capturing negative sentiments.\n",
    "- True Positives (for Positive Class - '1'): The model correctly identified 996 positive tweets. This is moderate but should ideally be higher.\n",
    "- True Positives (for Neutral Class - '2'): The model correctly identified 3003 neutral tweets, which is relatively high and indicates better performance in capturing neutral sentiments.\n",
    "- False Positives: The model misclassified many tweets across all classes but most significantly for the neutral class ('2'), with 1408 and 1271 false positives from the negative and positive classes, respectively.\n",
    "- False Negatives: The model also has a high rate of false negatives, especially for the positive and neutral classes. For instance, it misclassified 1408 true positive tweets as neutral and 1271 true neutral tweets as positive."
   ]
  },
  {
   "cell_type": "markdown",
   "metadata": {},
   "source": [
    "Noteably, we're at a much worse start than the logistic regression in our binary approach. But let's see if we can do better."
   ]
  },
  {
   "cell_type": "markdown",
   "metadata": {},
   "source": [
    "#### 2. Decision Tree"
   ]
  },
  {
   "cell_type": "code",
   "execution_count": 64,
   "metadata": {},
   "outputs": [
    {
     "name": "stdout",
     "output_type": "stream",
     "text": [
      "Decision Tree Cross Validation Accuracy Score: 63.05%\n"
     ]
    }
   ],
   "source": [
    "# Construct a pipeline with the vectorizer and the Decision Tree\n",
    "dt_pipe = Pipeline([\n",
    "    (\"tf\", TfidfVectorizer(stop_words=\"english\")), \n",
    "    (\"dt\", DecisionTreeClassifier(random_state=42))\n",
    "])\n",
    "\n",
    "dt_pipe_score = np.mean(cross_val_score(dt_pipe, X_train_m, y_train_m, cv=5, scoring=\"accuracy\"))\n",
    "\n",
    "print(f\"Decision Tree Cross Validation Accuracy Score: {dt_pipe_score*100:,.2f}%\")"
   ]
  },
  {
   "cell_type": "code",
   "execution_count": 70,
   "metadata": {},
   "outputs": [
    {
     "name": "stdout",
     "output_type": "stream",
     "text": [
      "Tuned Decision Tree Cross Validation Accuracy Score: 60.02%\n"
     ]
    }
   ],
   "source": [
    "# Grid search for hyperparameter tuning the Decision Tree\n",
    "\n",
    "# dt_param_grid = {\n",
    "#     'dt__criterion': ['gini', 'entropy'],\n",
    "#     'dt__max_depth': [10, 20, 30],\n",
    "#     'vectorizer__ngram_range': [(1, 1), (1, 2)],\n",
    "#     'vectorizer__min_df': [0.05, 0.1, 0.15, 0.2],\n",
    "#     'vectorizer__max_df': [0.9, 0.95, 1.0]\n",
    "# }\n",
    "\n",
    "# dt_grid = GridSearchCV(dt_pipe, dt_param_grid, scoring=\"accuracy\", cv=5, n_jobs=-2, verbose=10)\n",
    "# dt_grid.fit(X_train_m, y_train_m)\n",
    "\n",
    "# Below are results from the grid search\n",
    "\n",
    "dt_best_params = {\n",
    "    'criterion': 'gini',\n",
    "    'max_depth': 10,\n",
    "    'random_state': 42\n",
    "}\n",
    "\n",
    "dt_tf_best_params = {\n",
    "    'max_df': 1.0,\n",
    "    'min_df': 0.05,\n",
    "    'ngram_range': (1, 2)\n",
    "}\n",
    "\n",
    "dt_best = Pipeline([\n",
    "    ('tf', TfidfVectorizer(**dt_tf_best_params)),\n",
    "    ('knn', DecisionTreeClassifier(**dt_best_params))\n",
    "])\n",
    "\n",
    "dt_best_score = 0.6001667751422826\n",
    "\n",
    "print(f\"Tuned Decision Tree Cross Validation Accuracy Score: {dt_best_score*100:,.2f}%\")"
   ]
  },
  {
   "cell_type": "code",
   "execution_count": 71,
   "metadata": {},
   "outputs": [
    {
     "data": {
      "image/png": "[encoded data removed]",
      "text/plain": [
       "<Figure size 432x288 with 2 Axes>"
      ]
     },
     "metadata": {
      "needs_background": "light"
     },
     "output_type": "display_data"
    }
   ],
   "source": [
    "y_pred_dt_cv = cross_val_predict(dt_best, X_train_m, y_train_m, cv=5)\n",
    "\n",
    "dt_conf_mat = confusion_matrix(y_train_m, y_pred_dt_cv)\n",
    "ConfusionMatrixDisplay(dt_conf_mat).plot();"
   ]
  },
  {
   "cell_type": "markdown",
   "metadata": {},
   "source": [
    "A quick breakdown of the Decision Tree (tuned):\n",
    "\n",
    "- True Positives (for Negative Class - '0'): The model correctly identified 8 negative tweets, which is low and suggests the model is not effective at identifying negative sentiments.\n",
    "- True Positives (for Positive Class - '1'): The model correctly identified 427 positive tweets, which is moderate but should ideally be higher.\n",
    "- True Positives (for Neutral Class - '2'): The model correctly identified 3855 neutral tweets, indicating strong performance in capturing neutral sentiments.\n",
    "- False Positives: The model misclassified a substantial number of tweets across all classes, most notably for the neutral class ('2'), with 1966 and 377 false positives from the positive and negative classes, respectively.\n",
    "- False Negatives: Similar to false positives, the model has a high rate of false negatives, especially for the positive and neutral classes. For instance, it misclassified 1966 true positive tweets as neutral and 426 true neutral tweets as positive.\n",
    "\n",
    "The Decision Tree model shows a bias towards classifying tweets as neutral, performing well in identifying neutral sentiments but poorly in capturing negative and positive sentiments. The high number of both false positives and false negatives suggests that the model needs further tuning or may not be the best fit for this specific multiclass problem. Let's move onto a Random Forest."
   ]
  },
  {
   "cell_type": "markdown",
   "metadata": {},
   "source": [
    "#### 3. Random Forest (Multiclass)"
   ]
  },
  {
   "cell_type": "code",
   "execution_count": 73,
   "metadata": {},
   "outputs": [
    {
     "name": "stdout",
     "output_type": "stream",
     "text": [
      "Decision Tree Cross Validation Accuracy Score: 68.35%\n"
     ]
    }
   ],
   "source": [
    "# Construct a pipeline with the vectorizer and the Random Forest\n",
    "rf_pipe = Pipeline([\n",
    "    (\"tf\", TfidfVectorizer(stop_words=\"english\")), \n",
    "    (\"dt\", RandomForestClassifier(random_state=42))\n",
    "])\n",
    "\n",
    "rf_pipe_score = np.mean(cross_val_score(rf_pipe, X_train_m, y_train_m, cv=5, scoring=\"accuracy\"))\n",
    "\n",
    "print(f\"Decision Tree Cross Validation Accuracy Score: {rf_pipe_score*100:,.2f}%\")"
   ]
  },
  {
   "cell_type": "code",
   "execution_count": 78,
   "metadata": {},
   "outputs": [
    {
     "name": "stdout",
     "output_type": "stream",
     "text": [
      "Tuned Decision Tree Cross Validation Accuracy Score: 60.79%\n"
     ]
    }
   ],
   "source": [
    "# Grid search for hyperparameter tuning the Decision Tree\n",
    "\n",
    "# rf_param_grid = {\n",
    "#     'rf__n_estimators': [50, 100, 200],\n",
    "#     'rf__min_samples_split': [2, 3, 4],\n",
    "#     'rf__max_depth': [10, 20, 30],\n",
    "#     'vectorizer__ngram_range': [(1, 1), (1, 2)],\n",
    "#     'vectorizer__min_df': [0.05, 0.1, 0.15, 0.2],\n",
    "#     'vectorizer__max_df': [0.9, 0.95, 1.0]\n",
    "# }\n",
    "\n",
    "# rf_grid = GridSearchCV(rf_pipe, rf_param_grid, scoring=\"accuracy\", cv=5, n_jobs=-2, verbose=10)\n",
    "# rf_grid.fit(X_train_m, y_train_m)\n",
    "\n",
    "# Below are results from the grid search\n",
    "\n",
    "rf_best_params = {\n",
    "    'max_depth': 10,\n",
    "    'n_estimators': 200,\n",
    "    'random_state': 42\n",
    "}\n",
    "\n",
    "rf_tf_best_params = {\n",
    "    'min_df': 0.05,\n",
    "    'ngram_range': (1, 1)\n",
    "}\n",
    "\n",
    "rf_best = Pipeline([\n",
    "    ('tf', TfidfVectorizer(**rf_tf_best_params)),\n",
    "    ('knn', RandomForestClassifier(**rf_best_params))\n",
    "])\n",
    "\n",
    "rf_best_score = 0.6078633892349778\n",
    "\n",
    "print(f\"Tuned Decision Tree Cross Validation Accuracy Score: {rf_best_score*100:,.2f}%\")"
   ]
  },
  {
   "cell_type": "code",
   "execution_count": 79,
   "metadata": {},
   "outputs": [
    {
     "data": {
      "image/png": "[encoded data removed]",
      "text/plain": [
       "<Figure size 432x288 with 2 Axes>"
      ]
     },
     "metadata": {
      "needs_background": "light"
     },
     "output_type": "display_data"
    }
   ],
   "source": [
    "y_pred_rf_cv = cross_val_predict(rf_best, X_train_m, y_train_m, cv=5)\n",
    "\n",
    "rf_conf_mat = confusion_matrix(y_train_m, y_pred_rf_cv)\n",
    "ConfusionMatrixDisplay(rf_conf_mat).plot();"
   ]
  },
  {
   "cell_type": "markdown",
   "metadata": {},
   "source": [
    "A quick breakdown of the Random Forest (tuned):\n",
    "\n",
    "- True Positives (for Negative Class - '0'): The model correctly identified 3 negative tweets, which is exceedingly low and indicates a lack of proficiency in capturing negative sentiments.\n",
    "- True Positives (for Positive Class - '1'): The model correctly identified 375 positive tweets, which is moderate but not optimal given the dataset.\n",
    "- True Positives (for Neutral Class - '2'): The model correctly identified 3967 neutral tweets, indicating robust performance in this class.\n",
    "- False Positives: The model has a high rate of false positives, particularly in the neutral class ('2'). It misclassified 2033 positive and 386 negative tweets as neutral.\n",
    "- False Negatives: Similar to false positives, the model also demonstrates a high rate of false negatives, especially for the positive and neutral classes. For instance, 2033 true positive tweets were misclassified as neutral, and 325 true neutral tweets were misclassified as positive.\n",
    "\n",
    "The Random Forest model is highly biased towards classifying tweets as neutral and performs poorly in identifying negative and positive sentiments. It also performed worse than the untuned model. Let's iterate one more time - this time, we use a neural network. However, we'll see that even that doesnt do much for us on the front of accuracy."
   ]
  },
  {
   "cell_type": "markdown",
   "metadata": {},
   "source": [
    "#### 4. Neural Network"
   ]
  },
  {
   "cell_type": "markdown",
   "metadata": {},
   "source": [
    "Let's first import the necessary modules to build a neural network. We work with `tensorflow`'s `keras` API."
   ]
  },
  {
   "cell_type": "code",
   "execution_count": 82,
   "metadata": {},
   "outputs": [],
   "source": [
    "# Import Sequential Model, Dense layer, and one-hot encoder\n",
    "from tensorflow.keras.models import Sequential\n",
    "from tensorflow.keras.layers import Dense\n",
    "from sklearn.preprocessing import OneHotEncoder"
   ]
  },
  {
   "cell_type": "markdown",
   "metadata": {},
   "source": [
    "In the case of the neural network model, both the feature matrix $X$ and the target vector $y$ undergo different preprocessing steps compared to traditional machine learning models. For $X$:"
   ]
  },
  {
   "cell_type": "code",
   "execution_count": 84,
   "metadata": {},
   "outputs": [],
   "source": [
    "# The text data is vectorized using the TF-IDF technique, similar to previous models. \n",
    "# However, the sparse matrix is converted to a dense matrix, which is a requirement \n",
    "# for neural networks in TensorFlow/Keras\n",
    "\n",
    "vectorizer = TfidfVectorizer(stop_words=\"english\")\n",
    "X_train_vec = vectorizer.fit_transform(X_train_m)\n",
    "X_test_vec = vectorizer.transform(X_test_m)\n",
    "\n",
    "X_train_vec_dense = X_train_vec.todense()\n",
    "X_test_vec_dense = X_test_vec.todense()"
   ]
  },
  {
   "cell_type": "markdown",
   "metadata": {},
   "source": [
    "For $y$:"
   ]
  },
  {
   "cell_type": "code",
   "execution_count": 85,
   "metadata": {},
   "outputs": [],
   "source": [
    "encoder = OneHotEncoder(sparse=False)\n",
    "y_train_encoded = encoder.fit_transform(y_train_m.values.reshape(-1, 1))"
   ]
  },
  {
   "cell_type": "markdown",
   "metadata": {},
   "source": [
    "We'll now build the model. We also add a dropout layer, a regularization technique that prevents overfitting by randomly setting a fraction of input units to 0 at each update during training time. This helps to make the model more robust and improves generalization."
   ]
  },
  {
   "cell_type": "code",
   "execution_count": 91,
   "metadata": {},
   "outputs": [
    {
     "name": "stdout",
     "output_type": "stream",
     "text": [
      "Epoch 1/3\n",
      "5718/5718 [==============================] - 5s 944us/step - loss: 0.8443 - accuracy: 0.6116 - val_loss: 0.7705 - val_accuracy: 0.6406\n",
      "Epoch 2/3\n",
      "5718/5718 [==============================] - 5s 865us/step - loss: 0.7315 - accuracy: 0.6777 - val_loss: 0.7309 - val_accuracy: 0.6713\n",
      "Epoch 3/3\n",
      "5718/5718 [==============================] - 5s 858us/step - loss: 0.6529 - accuracy: 0.7226 - val_loss: 0.7201 - val_accuracy: 0.6846\n"
     ]
    }
   ],
   "source": [
    "# Import Dropout layer\n",
    "from tensorflow.keras.layers import Dropout\n",
    "\n",
    "# Model architecture\n",
    "nn = Sequential()\n",
    "nn.add(Dense(10, input_dim=X_train_vec_dense.shape[1], activation='relu'))\n",
    "nn.add(Dropout(0.5))  # Adding dropout with rate 0.5\n",
    "nn.add(Dense(3, activation='softmax'))\n",
    "\n",
    "# Compilation\n",
    "nn.compile(loss='categorical_crossentropy', \n",
    "              optimizer='adam', \n",
    "              metrics=['accuracy'])\n",
    "\n",
    "# Training\n",
    "nn.fit(X_train_vec_dense, y_train_encoded, epochs=3, batch_size=1, validation_split=0.2);"
   ]
  },
  {
   "cell_type": "markdown",
   "metadata": {},
   "source": [
    "As we can see, the neural network did not substantially improve compared to the initial Random Forest classifier. With that said, it did yield the highest validation accuracy, so let's use it and test its accuracy on unseen data."
   ]
  },
  {
   "cell_type": "code",
   "execution_count": 93,
   "metadata": {},
   "outputs": [
    {
     "name": "stdout",
     "output_type": "stream",
     "text": [
      "Neural Network Accuracy Score on Unseen Data: 66.16%\n"
     ]
    }
   ],
   "source": [
    "y_pred_nn = np.argmax(nn.predict(X_test_vec_dense), axis=1)\n",
    "\n",
    "nn_test_acc = accuracy_score(y_test_m, y_pred_nn)\n",
    "\n",
    "print(f\"Neural Network Accuracy Score on Unseen Data: {nn_test_acc*100:,.2f}%\")"
   ]
  },
  {
   "cell_type": "markdown",
   "metadata": {},
   "source": [
    "## Model Selection\n",
    "\n",
    "It's evident that our binary classification approach is the most suitable for providing actionable insights for SXSW. Despite the multifaceted capabilities of neural networks and other multiclass classifiers, they failed to yield results robust enough for practical application. Specifically, an accuracy score of 66.16% for our neural network on multiclass classification is insufficient for deriving business-critical decisions.\n",
    "\n",
    "Therefore, we recommend adopting the binary classification model, particularly the Random Forest Classifier, which demonstrated superior performance. This would enable SXSW to garner more accurate and actionable insights regarding consumer sentiment towards Apple and Google products."
   ]
  }
 ],
 "metadata": {
  "kernelspec": {
   "display_name": "learn-env",
   "language": "python",
   "name": "python3"
  },
  "language_info": {
   "codemirror_mode": {
    "name": "ipython",
    "version": 3
   },
   "file_extension": ".py",
   "mimetype": "text/x-python",
   "name": "python",
   "nbconvert_exporter": "python",
   "pygments_lexer": "ipython3",
   "version": "3.8.5"
  },
  "orig_nbformat": 4
 },
 "nbformat": 4,
 "nbformat_minor": 2
}
