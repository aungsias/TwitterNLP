{
 "cells": [
  {
   "cell_type": "code",
   "execution_count": 2,
   "metadata": {},
   "outputs": [],
   "source": [
    "import pandas as pd\n",
    "import numpy as np"
   ]
  },
  {
   "cell_type": "code",
   "execution_count": 3,
   "metadata": {},
   "outputs": [],
   "source": [
    "df = pd.read_csv('data/processed_tweets_binary.csv')"
   ]
  },
  {
   "cell_type": "code",
   "execution_count": 4,
   "metadata": {},
   "outputs": [
    {
     "data": {
      "text/plain": [
       "((2483,), (1065,), (2483,), (1065,))"
      ]
     },
     "execution_count": 4,
     "metadata": {},
     "output_type": "execute_result"
    }
   ],
   "source": [
    "from sklearn.model_selection import train_test_split\n",
    "\n",
    "X = df[\"processed_tweet\"]\n",
    "y = df[\"emotion_encoded\"]\n",
    "\n",
    "X_train, X_test, y_train, y_test = train_test_split(\n",
    "    X, y, test_size=0.3, random_state=42\n",
    ")\n",
    "\n",
    "X_train.shape, X_test.shape, y_train.shape, y_test.shape"
   ]
  },
  {
   "cell_type": "code",
   "execution_count": 5,
   "metadata": {},
   "outputs": [
    {
     "name": "stdout",
     "output_type": "stream",
     "text": [
      "Epoch 1/10\n",
      "497/497 [==============================] - 0s 851us/step - loss: 0.4662 - accuracy: 0.8401\n",
      "Epoch 2/10\n",
      "497/497 [==============================] - 0s 776us/step - loss: 0.3566 - accuracy: 0.8405\n",
      "Epoch 3/10\n",
      "497/497 [==============================] - 0s 781us/step - loss: 0.2808 - accuracy: 0.8562\n",
      "Epoch 4/10\n",
      "497/497 [==============================] - 0s 764us/step - loss: 0.2078 - accuracy: 0.9134\n",
      "Epoch 5/10\n",
      "497/497 [==============================] - 0s 772us/step - loss: 0.1506 - accuracy: 0.9573\n",
      "Epoch 6/10\n",
      "497/497 [==============================] - 0s 787us/step - loss: 0.1087 - accuracy: 0.9762\n",
      "Epoch 7/10\n",
      "497/497 [==============================] - 0s 798us/step - loss: 0.0802 - accuracy: 0.9835\n",
      "Epoch 8/10\n",
      "497/497 [==============================] - 0s 794us/step - loss: 0.0608 - accuracy: 0.9883\n",
      "Epoch 9/10\n",
      "497/497 [==============================] - 0s 802us/step - loss: 0.0469 - accuracy: 0.9899\n",
      "Epoch 10/10\n",
      "497/497 [==============================] - 0s 777us/step - loss: 0.0369 - accuracy: 0.9936\n"
     ]
    },
    {
     "data": {
      "text/plain": [
       "<tensorflow.python.keras.callbacks.History at 0x20dfc302af0>"
      ]
     },
     "execution_count": 5,
     "metadata": {},
     "output_type": "execute_result"
    }
   ],
   "source": [
    "from tensorflow.keras.models import Sequential\n",
    "from tensorflow.keras.layers import Dense\n",
    "from sklearn.preprocessing import OneHotEncoder\n",
    "from sklearn.feature_extraction.text import TfidfVectorizer\n",
    "\n",
    "encoder = OneHotEncoder(sparse=False)\n",
    "y_train_encoded = encoder.fit_transform(y_train.values.reshape(-1, 1))\n",
    "\n",
    "vectorizer = TfidfVectorizer(stop_words=\"english\")\n",
    "X_train_vec = vectorizer.fit_transform(X_train)\n",
    "X_test_vec = vectorizer.transform(X_test)\n",
    "\n",
    "# Convert to dense matrix\n",
    "X_train_vec_dense = X_train_vec.todense()\n",
    "X_test_vec_dense = X_test_vec.todense()\n",
    "\n",
    "# Model\n",
    "model = Sequential()\n",
    "model.add(Dense(10, input_dim=X_train_vec_dense.shape[1], activation='relu'))\n",
    "model.add(Dense(2, activation='sigmoid'))  # Assuming 3 classes\n",
    "\n",
    "# Compilation\n",
    "model.compile(loss='binary_crossentropy', \n",
    "              optimizer='adam', \n",
    "              metrics=['accuracy'])\n",
    "\n",
    "# Training\n",
    "model.fit(X_train_vec_dense, y_train_encoded, epochs=10, batch_size=5)"
   ]
  },
  {
   "cell_type": "code",
   "execution_count": 6,
   "metadata": {},
   "outputs": [
    {
     "name": "stdout",
     "output_type": "stream",
     "text": [
      "              precision    recall  f1-score   support\n",
      "\n",
      "           0       0.69      0.43      0.53       173\n",
      "           1       0.90      0.96      0.93       892\n",
      "\n",
      "    accuracy                           0.88      1065\n",
      "   macro avg       0.79      0.69      0.73      1065\n",
      "weighted avg       0.86      0.88      0.86      1065\n",
      "\n"
     ]
    }
   ],
   "source": [
    "from sklearn.metrics import classification_report\n",
    "\n",
    "preds = np.argmax(model.predict(X_test_vec_dense), axis=1)\n",
    "print(classification_report(y_test, preds))"
   ]
  }
 ],
 "metadata": {
  "kernelspec": {
   "display_name": "learn-env",
   "language": "python",
   "name": "python3"
  },
  "language_info": {
   "codemirror_mode": {
    "name": "ipython",
    "version": 3
   },
   "file_extension": ".py",
   "mimetype": "text/x-python",
   "name": "python",
   "nbconvert_exporter": "python",
   "pygments_lexer": "ipython3",
   "version": "3.8.5"
  },
  "orig_nbformat": 4
 },
 "nbformat": 4,
 "nbformat_minor": 2
}
